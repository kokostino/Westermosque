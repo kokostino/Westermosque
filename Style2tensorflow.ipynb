{
  "cells": [
    {
      "cell_type": "markdown",
      "metadata": {
        "id": "9r4UQEzphrBC"
      },
      "source": [
        "<a href=\"https://colab.research.google.com/github/jeffheaton/present/blob/master/youtube/gan/colab_gan_train.ipynb\" target=\"_parent\"><img src=\"https://colab.research.google.com/assets/colab-badge.svg\" alt=\"Open In Colab\"/></a>"
      ]
    },
    {
      "cell_type": "markdown",
      "metadata": {
        "id": "_9qbVplkZYjp"
      },
      "source": [
        "\n"
      ]
    },
    {
      "cell_type": "code",
      "execution_count": 1,
      "metadata": {
        "id": "iPrGcTX8c7E-",
        "colab": {
          "base_uri": "https://localhost:8080/"
        },
        "outputId": "4a3165e3-5ef4-4292-a6fa-3575a650356c"
      },
      "outputs": [
        {
          "output_type": "stream",
          "name": "stdout",
          "text": [
            "Mon Feb 21 11:19:09 2022       \n",
            "+-----------------------------------------------------------------------------+\n",
            "| NVIDIA-SMI 460.32.03    Driver Version: 460.32.03    CUDA Version: 11.2     |\n",
            "|-------------------------------+----------------------+----------------------+\n",
            "| GPU  Name        Persistence-M| Bus-Id        Disp.A | Volatile Uncorr. ECC |\n",
            "| Fan  Temp  Perf  Pwr:Usage/Cap|         Memory-Usage | GPU-Util  Compute M. |\n",
            "|                               |                      |               MIG M. |\n",
            "|===============================+======================+======================|\n",
            "|   0  Tesla P100-PCIE...  Off  | 00000000:00:04.0 Off |                    0 |\n",
            "| N/A   33C    P0    26W / 250W |      0MiB / 16280MiB |      0%      Default |\n",
            "|                               |                      |                  N/A |\n",
            "+-------------------------------+----------------------+----------------------+\n",
            "                                                                               \n",
            "+-----------------------------------------------------------------------------+\n",
            "| Processes:                                                                  |\n",
            "|  GPU   GI   CI        PID   Type   Process name                  GPU Memory |\n",
            "|        ID   ID                                                   Usage      |\n",
            "|=============================================================================|\n",
            "|  No running processes found                                                 |\n",
            "+-----------------------------------------------------------------------------+\n"
          ]
        }
      ],
      "source": [
        "!nvidia-smi"
      ]
    },
    {
      "cell_type": "markdown",
      "metadata": {
        "id": "wzWrFN_tGV-Y"
      },
      "source": [
        "# Set Up New Environment\n",
        "\n",
        "You will likely need to train for >24 hours.  Colab will disconnect you.  You must be prepared to restart training when this eventually happens.  Training is divided into ticks, every so many ticks (50 by default) your neural network is evaluated and a snapshot is saved.  When CoLab shuts down, all training after the last snapshot is lost. It might seem desirable to snapshot after each tick; however, this snapshotting process itself takes nearly an hour.  It is important to learn an optimal snapshot size for your resolution and training data.\n",
        "\n",
        "We will mount GDRIVE so that your snapshots are saved there.  You must also place your training images in GDRIVE."
      ]
    },
    {
      "cell_type": "code",
      "execution_count": 2,
      "metadata": {
        "id": "uxs1j1bk_fwj",
        "colab": {
          "base_uri": "https://localhost:8080/"
        },
        "outputId": "2d516b5c-0320-4e5c-edcb-a3b0bc064587"
      },
      "outputs": [
        {
          "output_type": "stream",
          "name": "stdout",
          "text": [
            "Mounted at /content/drive\n",
            "Note: using Google CoLab\n"
          ]
        }
      ],
      "source": [
        "try:\n",
        "    from google.colab import drive\n",
        "    drive.mount('/content/drive', force_remount=True)\n",
        "    COLAB = True\n",
        "    print(\"Note: using Google CoLab\")\n",
        "except:\n",
        "    print(\"Note: not using Google CoLab\")\n",
        "    COLAB = False"
      ]
    },
    {
      "cell_type": "code",
      "source": [
        "!python --version"
      ],
      "metadata": {
        "colab": {
          "base_uri": "https://localhost:8080/"
        },
        "id": "EzlrpBSnsA0r",
        "outputId": "6c589f16-7777-469e-df9b-8e9827ee3f0b"
      },
      "execution_count": 5,
      "outputs": [
        {
          "output_type": "stream",
          "name": "stdout",
          "text": [
            "Python 3.7.12\n"
          ]
        }
      ]
    },
    {
      "cell_type": "markdown",
      "metadata": {
        "id": "X41Ll0WtYqB0"
      },
      "source": [
        "You must also install NVIDIA StyleGAN2 ADA PyTorch.  We also need to downgrade PyTorch to a version that supports StyleGAN."
      ]
    },
    {
      "cell_type": "code",
      "execution_count": 3,
      "metadata": {
        "id": "uNqsi6VWAlWo",
        "colab": {
          "base_uri": "https://localhost:8080/",
          "height": 1000
        },
        "outputId": "74e9244f-793b-436a-c573-ba894badae1a"
      },
      "outputs": [
        {
          "output_type": "stream",
          "name": "stdout",
          "text": [
            "Collecting numpy==1.16.4\n",
            "  Downloading numpy-1.16.4-cp37-cp37m-manylinux1_x86_64.whl (17.3 MB)\n",
            "\u001b[K     |████████████████████████████████| 17.3 MB 4.3 MB/s \n",
            "\u001b[?25hInstalling collected packages: numpy\n",
            "  Attempting uninstall: numpy\n",
            "    Found existing installation: numpy 1.21.5\n",
            "    Uninstalling numpy-1.21.5:\n",
            "      Successfully uninstalled numpy-1.21.5\n",
            "\u001b[31mERROR: pip's dependency resolver does not currently take into account all the packages that are installed. This behaviour is the source of the following dependency conflicts.\n",
            "tensorflow 2.8.0 requires tf-estimator-nightly==2.8.0.dev2021122109, which is not installed.\n",
            "xarray 0.18.2 requires numpy>=1.17, but you have numpy 1.16.4 which is incompatible.\n",
            "tensorflow 2.8.0 requires numpy>=1.20, but you have numpy 1.16.4 which is incompatible.\n",
            "tables 3.7.0 requires numpy>=1.19.0, but you have numpy 1.16.4 which is incompatible.\n",
            "scikit-image 0.18.3 requires numpy>=1.16.5, but you have numpy 1.16.4 which is incompatible.\n",
            "pywavelets 1.2.0 requires numpy>=1.17.3, but you have numpy 1.16.4 which is incompatible.\n",
            "pyerfa 2.0.0.1 requires numpy>=1.17, but you have numpy 1.16.4 which is incompatible.\n",
            "pyarrow 6.0.1 requires numpy>=1.16.6, but you have numpy 1.16.4 which is incompatible.\n",
            "pandas 1.3.5 requires numpy>=1.17.3; platform_machine != \"aarch64\" and platform_machine != \"arm64\" and python_version < \"3.10\", but you have numpy 1.16.4 which is incompatible.\n",
            "kapre 0.3.7 requires numpy>=1.18.5, but you have numpy 1.16.4 which is incompatible.\n",
            "jaxlib 0.1.71+cuda111 requires numpy>=1.18, but you have numpy 1.16.4 which is incompatible.\n",
            "jax 0.2.25 requires numpy>=1.18, but you have numpy 1.16.4 which is incompatible.\n",
            "datascience 0.10.6 requires folium==0.2.1, but you have folium 0.8.3 which is incompatible.\n",
            "cupy-cuda111 9.4.0 requires numpy<1.24,>=1.17, but you have numpy 1.16.4 which is incompatible.\n",
            "astropy 4.3.1 requires numpy>=1.17, but you have numpy 1.16.4 which is incompatible.\n",
            "albumentations 0.1.12 requires imgaug<0.2.7,>=0.2.5, but you have imgaug 0.2.9 which is incompatible.\u001b[0m\n",
            "Successfully installed numpy-1.16.4\n"
          ]
        },
        {
          "output_type": "display_data",
          "data": {
            "application/vnd.colab-display-data+json": {
              "pip_warning": {
                "packages": [
                  "numpy"
                ]
              }
            }
          },
          "metadata": {}
        },
        {
          "output_type": "stream",
          "name": "stdout",
          "text": [
            "Collecting tensorflow-gpu==1.14\n",
            "  Downloading tensorflow_gpu-1.14.0-cp37-cp37m-manylinux1_x86_64.whl (377.1 MB)\n",
            "\u001b[K     |████████████████████████████████| 377.1 MB 8.9 kB/s \n",
            "\u001b[?25hRequirement already satisfied: numpy<2.0,>=1.14.5 in /usr/local/lib/python3.7/dist-packages (from tensorflow-gpu==1.14) (1.16.4)\n",
            "Requirement already satisfied: six>=1.10.0 in /usr/local/lib/python3.7/dist-packages (from tensorflow-gpu==1.14) (1.15.0)\n",
            "Requirement already satisfied: wrapt>=1.11.1 in /usr/local/lib/python3.7/dist-packages (from tensorflow-gpu==1.14) (1.13.3)\n",
            "Requirement already satisfied: google-pasta>=0.1.6 in /usr/local/lib/python3.7/dist-packages (from tensorflow-gpu==1.14) (0.2.0)\n",
            "Requirement already satisfied: keras-preprocessing>=1.0.5 in /usr/local/lib/python3.7/dist-packages (from tensorflow-gpu==1.14) (1.1.2)\n",
            "Collecting keras-applications>=1.0.6\n",
            "  Downloading Keras_Applications-1.0.8-py3-none-any.whl (50 kB)\n",
            "\u001b[K     |████████████████████████████████| 50 kB 8.5 MB/s \n",
            "\u001b[?25hRequirement already satisfied: grpcio>=1.8.6 in /usr/local/lib/python3.7/dist-packages (from tensorflow-gpu==1.14) (1.43.0)\n",
            "Requirement already satisfied: wheel>=0.26 in /usr/local/lib/python3.7/dist-packages (from tensorflow-gpu==1.14) (0.37.1)\n",
            "Requirement already satisfied: absl-py>=0.7.0 in /usr/local/lib/python3.7/dist-packages (from tensorflow-gpu==1.14) (1.0.0)\n",
            "Requirement already satisfied: protobuf>=3.6.1 in /usr/local/lib/python3.7/dist-packages (from tensorflow-gpu==1.14) (3.17.3)\n",
            "Collecting tensorflow-estimator<1.15.0rc0,>=1.14.0rc0\n",
            "  Downloading tensorflow_estimator-1.14.0-py2.py3-none-any.whl (488 kB)\n",
            "\u001b[K     |████████████████████████████████| 488 kB 73.8 MB/s \n",
            "\u001b[?25hRequirement already satisfied: gast>=0.2.0 in /usr/local/lib/python3.7/dist-packages (from tensorflow-gpu==1.14) (0.5.3)\n",
            "Requirement already satisfied: termcolor>=1.1.0 in /usr/local/lib/python3.7/dist-packages (from tensorflow-gpu==1.14) (1.1.0)\n",
            "Requirement already satisfied: astor>=0.6.0 in /usr/local/lib/python3.7/dist-packages (from tensorflow-gpu==1.14) (0.8.1)\n",
            "Collecting tensorboard<1.15.0,>=1.14.0\n",
            "  Downloading tensorboard-1.14.0-py3-none-any.whl (3.1 MB)\n",
            "\u001b[K     |████████████████████████████████| 3.1 MB 51.9 MB/s \n",
            "\u001b[?25hRequirement already satisfied: h5py in /usr/local/lib/python3.7/dist-packages (from keras-applications>=1.0.6->tensorflow-gpu==1.14) (3.1.0)\n",
            "Requirement already satisfied: markdown>=2.6.8 in /usr/local/lib/python3.7/dist-packages (from tensorboard<1.15.0,>=1.14.0->tensorflow-gpu==1.14) (3.3.6)\n",
            "Requirement already satisfied: setuptools>=41.0.0 in /usr/local/lib/python3.7/dist-packages (from tensorboard<1.15.0,>=1.14.0->tensorflow-gpu==1.14) (57.4.0)\n",
            "Requirement already satisfied: werkzeug>=0.11.15 in /usr/local/lib/python3.7/dist-packages (from tensorboard<1.15.0,>=1.14.0->tensorflow-gpu==1.14) (1.0.1)\n",
            "Requirement already satisfied: importlib-metadata>=4.4 in /usr/local/lib/python3.7/dist-packages (from markdown>=2.6.8->tensorboard<1.15.0,>=1.14.0->tensorflow-gpu==1.14) (4.11.0)\n",
            "Requirement already satisfied: typing-extensions>=3.6.4 in /usr/local/lib/python3.7/dist-packages (from importlib-metadata>=4.4->markdown>=2.6.8->tensorboard<1.15.0,>=1.14.0->tensorflow-gpu==1.14) (3.10.0.2)\n",
            "Requirement already satisfied: zipp>=0.5 in /usr/local/lib/python3.7/dist-packages (from importlib-metadata>=4.4->markdown>=2.6.8->tensorboard<1.15.0,>=1.14.0->tensorflow-gpu==1.14) (3.7.0)\n",
            "Requirement already satisfied: cached-property in /usr/local/lib/python3.7/dist-packages (from h5py->keras-applications>=1.0.6->tensorflow-gpu==1.14) (1.5.2)\n",
            "Installing collected packages: tensorflow-estimator, tensorboard, keras-applications, tensorflow-gpu\n",
            "  Attempting uninstall: tensorflow-estimator\n",
            "    Found existing installation: tensorflow-estimator 2.8.0\n",
            "    Uninstalling tensorflow-estimator-2.8.0:\n",
            "      Successfully uninstalled tensorflow-estimator-2.8.0\n",
            "  Attempting uninstall: tensorboard\n",
            "    Found existing installation: tensorboard 2.8.0\n",
            "    Uninstalling tensorboard-2.8.0:\n",
            "      Successfully uninstalled tensorboard-2.8.0\n",
            "\u001b[31mERROR: pip's dependency resolver does not currently take into account all the packages that are installed. This behaviour is the source of the following dependency conflicts.\n",
            "tensorflow 2.8.0 requires tf-estimator-nightly==2.8.0.dev2021122109, which is not installed.\n",
            "tensorflow 2.8.0 requires numpy>=1.20, but you have numpy 1.16.4 which is incompatible.\n",
            "tensorflow 2.8.0 requires tensorboard<2.9,>=2.8, but you have tensorboard 1.14.0 which is incompatible.\n",
            "kapre 0.3.7 requires numpy>=1.18.5, but you have numpy 1.16.4 which is incompatible.\u001b[0m\n",
            "Successfully installed keras-applications-1.0.8 tensorboard-1.14.0 tensorflow-estimator-1.14.0 tensorflow-gpu-1.14.0\n",
            "Cloning into 'stylegan2-ada'...\n",
            "remote: Enumerating objects: 74, done.\u001b[K\n",
            "remote: Total 74 (delta 0), reused 0 (delta 0), pack-reused 74\u001b[K\n",
            "Unpacking objects: 100% (74/74), done.\n",
            "Collecting ninja\n",
            "  Downloading ninja-1.10.2.3-py2.py3-none-manylinux_2_5_x86_64.manylinux1_x86_64.whl (108 kB)\n",
            "\u001b[K     |████████████████████████████████| 108 kB 4.3 MB/s \n",
            "\u001b[?25hInstalling collected packages: ninja\n",
            "Successfully installed ninja-1.10.2.3\n"
          ]
        }
      ],
      "source": [
        "!pip install numpy==1.16.4\n",
        "!pip install tensorflow-gpu==1.14\n",
        "#!pip install conda\n",
        "#!conda install tensorflow-gpu==1.14\n",
        "!git clone https://github.com/NVlabs/stylegan2-ada\n",
        "!pip install ninja"
      ]
    },
    {
      "cell_type": "markdown",
      "metadata": {
        "id": "_snJl4FEGi4w"
      },
      "source": [
        "# Find Your Files\n",
        "\n",
        "The drive is mounted to the following location.\n",
        "\n",
        "```\n",
        "/content/drive/MyDrive/data\n",
        "```\n",
        "\n",
        "It might be helpful to use an ```ls``` command to establish the exact path for your images."
      ]
    },
    {
      "cell_type": "code",
      "execution_count": null,
      "metadata": {
        "id": "LGdFfTSXBBr5"
      },
      "outputs": [],
      "source": [
        "#!ls /content/drive/MyDrive/data/gan/images"
      ]
    },
    {
      "cell_type": "markdown",
      "metadata": {
        "id": "JXAgXh8uGo13"
      },
      "source": [
        "# Convert Your Images"
      ]
    },
    {
      "cell_type": "code",
      "source": [
        "%tensorflow_version 1.x\n",
        "import tensorflow as tf\n",
        "#import os\n",
        "#os.getcwd()\n",
        "#sess = tf.Session()"
      ],
      "metadata": {
        "colab": {
          "base_uri": "https://localhost:8080/"
        },
        "id": "axb7EQHYWglJ",
        "outputId": "762f1b98-ab8b-47ad-cb72-fcb9ed3c404c"
      },
      "execution_count": 4,
      "outputs": [
        {
          "output_type": "stream",
          "name": "stdout",
          "text": [
            "TensorFlow 1.x selected.\n"
          ]
        }
      ]
    },
    {
      "cell_type": "code",
      "execution_count": 20,
      "metadata": {
        "id": "lYP2NlwHA6r9",
        "colab": {
          "base_uri": "https://localhost:8080/"
        },
        "outputId": "aeb0a797-5a2c-48f6-fcf0-6f003e538f3d"
      },
      "outputs": [
        {
          "output_type": "stream",
          "name": "stdout",
          "text": [
            "Loading images from \"/content/drive/MyDrive/data/gan/images\"\n",
            "Creating dataset \"/content/drive/MyDrive/data/gan/dataset\"\n",
            "Added 2280 images.\n"
          ]
        }
      ],
      "source": [
        "!python /content/stylegan2-ada/dataset_tool.py create_from_images /content/drive/MyDrive/data/gan/dataset /content/drive/MyDrive/data/gan/images"
      ]
    },
    {
      "cell_type": "code",
      "source": [
        "!python /content/stylegan2-ada/dataset_tool.py display /content/drive/MyDrive/data/gan/dataset"
      ],
      "metadata": {
        "colab": {
          "base_uri": "https://localhost:8080/"
        },
        "id": "hU8rFbgPhi4k",
        "outputId": "c7f622d7-60f6-47d7-cacd-22abef0ed439"
      },
      "execution_count": 22,
      "outputs": [
        {
          "output_type": "stream",
          "name": "stdout",
          "text": [
            "Loading dataset \"/content/drive/MyDrive/data/gan/dataset\"\n",
            "Displaying images\n",
            ": cannot connect to X server \n"
          ]
        }
      ]
    },
    {
      "cell_type": "markdown",
      "metadata": {
        "id": "otsNELpn8_2D"
      },
      "source": [
        "The following command can be used to clear out the newly created dataset.  If something goes wrong and you need to clean up your images and rerun the above command, you should delete your partially created dataset directory."
      ]
    },
    {
      "cell_type": "code",
      "execution_count": 19,
      "metadata": {
        "id": "ctdqmU96BhB3"
      },
      "outputs": [],
      "source": [
        "!rm -R /content/drive/MyDrive/data/gan/dataset/*"
      ]
    },
    {
      "cell_type": "markdown",
      "metadata": {
        "id": "xmSOo3HvGwgV"
      },
      "source": [
        "# Clean Up your Images\n",
        "\n",
        "It is important that all images have the same dimensions and color depth.  This code can identify images that have issues."
      ]
    },
    {
      "cell_type": "code",
      "execution_count": 15,
      "metadata": {
        "id": "FLKBUUfXHJ0a",
        "colab": {
          "base_uri": "https://localhost:8080/",
          "height": 66,
          "referenced_widgets": [
            "482ffb649f794ee0937e156058b862dd",
            "5f2df56759e14c33a1ae694f338e30a3",
            "0c57e2727d474c8cadac7a2be245f29c",
            "1c67b911965f452eb82868052c28e08a",
            "b6080fab57ee47248f832a9b09e1f23c",
            "3fb638fc54d44622846c64293957ebb1",
            "a241891a2ce54ce0838c512dfa7fb457",
            "070530f9e52e4f049538727bf60e5c27",
            "46d98cb19e264cfd88d724f746e0086e",
            "ad58ea2d88fe4697a832b0eff633090d",
            "377316900fc44e21bb3868f9f2f90d90"
          ]
        },
        "outputId": "5a807081-a037-423e-cd96-a82318a96ff2"
      },
      "outputs": [
        {
          "output_type": "display_data",
          "data": {
            "application/vnd.jupyter.widget-view+json": {
              "model_id": "482ffb649f794ee0937e156058b862dd",
              "version_minor": 0,
              "version_major": 2
            },
            "text/plain": [
              "  0%|          | 0/2281 [00:00<?, ?it/s]"
            ]
          },
          "metadata": {}
        },
        {
          "output_type": "stream",
          "name": "stdout",
          "text": [
            "Inconsistant color format: /content/drive/MyDrive/data/gan/images/Screenshot_20210627-215429.png\n"
          ]
        }
      ],
      "source": [
        "from os import listdir\n",
        "from os.path import isfile, join\n",
        "import os\n",
        "from PIL import Image\n",
        "from tqdm.notebook import tqdm\n",
        "\n",
        "IMAGE_PATH = '/content/drive/MyDrive/data/gan/images'\n",
        "files = [f for f in listdir(IMAGE_PATH) if isfile(join(IMAGE_PATH, f))]\n",
        "\n",
        "base_size = None\n",
        "for file in tqdm(files):\n",
        "  file2 = os.path.join(IMAGE_PATH,file)\n",
        "  img = Image.open(file2)\n",
        "  sz = img.size\n",
        "  if base_size and sz!=base_size:\n",
        "    print(f\"Inconsistant size: {file2}\")\n",
        "  elif img.mode!='RGB':\n",
        "    print(f\"Inconsistant color format: {file2}\")\n",
        "  else:\n",
        "    base_size = sz\n"
      ]
    },
    {
      "cell_type": "markdown",
      "metadata": {
        "id": "5No-bokaG5Ed"
      },
      "source": [
        "# Perform Initial Training"
      ]
    },
    {
      "cell_type": "code",
      "source": [
        "!nvcc /content/stylegan2-ada/test_nvcc.cu -o /content/stylegan2-ada/test_nvcc -run"
      ],
      "metadata": {
        "colab": {
          "base_uri": "https://localhost:8080/"
        },
        "id": "b9IWfeBJj_nT",
        "outputId": "7dfdcbd7-04a8-48f3-ba28-ca2b3d648f77"
      },
      "execution_count": 5,
      "outputs": [
        {
          "output_type": "stream",
          "name": "stdout",
          "text": [
            "CPU says hello.\n",
            "GPU says hello.\n"
          ]
        }
      ]
    },
    {
      "cell_type": "code",
      "execution_count": null,
      "metadata": {
        "id": "tzAdHMp7KLzz",
        "colab": {
          "base_uri": "https://localhost:8080/"
        },
        "outputId": "f16eb0dd-06e2-440f-9845-ac335be4be6c"
      },
      "outputs": [
        {
          "output_type": "stream",
          "name": "stdout",
          "text": [
            "\n",
            "Training options:\n",
            "{\n",
            "  \"G_args\": {\n",
            "    \"func_name\": \"training.networks.G_main\",\n",
            "    \"fmap_base\": 8192,\n",
            "    \"fmap_max\": 512,\n",
            "    \"mapping_layers\": 2,\n",
            "    \"num_fp16_res\": 4,\n",
            "    \"conv_clamp\": 256\n",
            "  },\n",
            "  \"D_args\": {\n",
            "    \"func_name\": \"training.networks.D_main\",\n",
            "    \"mbstd_group_size\": 4,\n",
            "    \"fmap_base\": 8192,\n",
            "    \"fmap_max\": 512,\n",
            "    \"num_fp16_res\": 4,\n",
            "    \"conv_clamp\": 256\n",
            "  },\n",
            "  \"G_opt_args\": {\n",
            "    \"beta1\": 0.0,\n",
            "    \"beta2\": 0.99,\n",
            "    \"learning_rate\": 0.0025\n",
            "  },\n",
            "  \"D_opt_args\": {\n",
            "    \"beta1\": 0.0,\n",
            "    \"beta2\": 0.99,\n",
            "    \"learning_rate\": 0.0025\n",
            "  },\n",
            "  \"loss_args\": {\n",
            "    \"func_name\": \"training.loss.stylegan2\",\n",
            "    \"r1_gamma\": 0.8192\n",
            "  },\n",
            "  \"augment_args\": {\n",
            "    \"class_name\": \"training.augment.AdaptiveAugment\",\n",
            "    \"tune_heuristic\": \"rt\",\n",
            "    \"tune_target\": 0.6,\n",
            "    \"apply_func\": \"training.augment.augment_pipeline\",\n",
            "    \"apply_args\": {\n",
            "      \"xflip\": 1,\n",
            "      \"rotate90\": 1,\n",
            "      \"xint\": 1,\n",
            "      \"scale\": 1,\n",
            "      \"rotate\": 1,\n",
            "      \"aniso\": 1,\n",
            "      \"xfrac\": 1,\n",
            "      \"brightness\": 1,\n",
            "      \"contrast\": 1,\n",
            "      \"lumaflip\": 1,\n",
            "      \"hue\": 1,\n",
            "      \"saturation\": 1\n",
            "    }\n",
            "  },\n",
            "  \"num_gpus\": 1,\n",
            "  \"image_snapshot_ticks\": 25,\n",
            "  \"network_snapshot_ticks\": 25,\n",
            "  \"train_dataset_args\": {\n",
            "    \"path\": \"/content/drive/MyDrive/data/gan/dataset\",\n",
            "    \"max_label_size\": 0,\n",
            "    \"resolution\": 256,\n",
            "    \"mirror_augment\": true\n",
            "  },\n",
            "  \"metric_arg_list\": [\n",
            "    {\n",
            "      \"name\": \"fid50k_full\",\n",
            "      \"class_name\": \"metrics.frechet_inception_distance.FID\",\n",
            "      \"max_reals\": null,\n",
            "      \"num_fakes\": 50000,\n",
            "      \"minibatch_per_gpu\": 8,\n",
            "      \"force_dataset_args\": {\n",
            "        \"shuffle\": false,\n",
            "        \"max_images\": null,\n",
            "        \"repeat\": false,\n",
            "        \"mirror_augment\": false\n",
            "      }\n",
            "    }\n",
            "  ],\n",
            "  \"metric_dataset_args\": {\n",
            "    \"path\": \"/content/drive/MyDrive/data/gan/dataset\",\n",
            "    \"max_label_size\": 0,\n",
            "    \"resolution\": 256,\n",
            "    \"mirror_augment\": true\n",
            "  },\n",
            "  \"total_kimg\": 25000,\n",
            "  \"minibatch_size\": 16,\n",
            "  \"minibatch_gpu\": 16,\n",
            "  \"G_smoothing_kimg\": 5.0,\n",
            "  \"G_smoothing_rampup\": 0.05,\n",
            "  \"run_dir\": \"/content/drive/MyDrive/data/gan/experiments/00000-dataset-mirror-auto1\"\n",
            "}\n",
            "\n",
            "Output directory:  /content/drive/MyDrive/data/gan/experiments/00000-dataset-mirror-auto1\n",
            "Training data:     /content/drive/MyDrive/data/gan/dataset\n",
            "Training length:   25000 kimg\n",
            "Resolution:        256\n",
            "Number of GPUs:    1\n",
            "\n",
            "Creating output directory...\n",
            "Loading training set...\n",
            "Image shape: [3, 256, 256]\n",
            "Label shape: [0]\n",
            "\n",
            "Constructing networks...\n",
            "Setting up TensorFlow plugin \"fused_bias_act.cu\": Compiling... Loading... Done.\n",
            "Setting up TensorFlow plugin \"upfirdn_2d.cu\": Compiling... Loading... Done.\n",
            "\n",
            "G                             Params    OutputShape         WeightShape     \n",
            "---                           ---       ---                 ---             \n",
            "latents_in                    -         (?, 512)            -               \n",
            "labels_in                     -         (?, 0)              -               \n",
            "G_mapping/Normalize           -         (?, 512)            -               \n",
            "G_mapping/Dense0              262656    (?, 512)            (512, 512)      \n",
            "G_mapping/Dense1              262656    (?, 512)            (512, 512)      \n",
            "G_mapping/Broadcast           -         (?, 14, 512)        -               \n",
            "dlatent_avg                   -         (512,)              -               \n",
            "Truncation/Lerp               -         (?, 14, 512)        -               \n",
            "G_synthesis/4x4/Const         8192      (?, 512, 4, 4)      (1, 512, 4, 4)  \n",
            "G_synthesis/4x4/Conv          2622465   (?, 512, 4, 4)      (3, 3, 512, 512)\n",
            "G_synthesis/4x4/ToRGB         264195    (?, 3, 4, 4)        (1, 1, 512, 3)  \n",
            "G_synthesis/8x8/Conv0_up      2622465   (?, 512, 8, 8)      (3, 3, 512, 512)\n",
            "G_synthesis/8x8/Conv1         2622465   (?, 512, 8, 8)      (3, 3, 512, 512)\n",
            "G_synthesis/8x8/Upsample      -         (?, 3, 8, 8)        -               \n",
            "G_synthesis/8x8/ToRGB         264195    (?, 3, 8, 8)        (1, 1, 512, 3)  \n",
            "G_synthesis/16x16/Conv0_up    2622465   (?, 512, 16, 16)    (3, 3, 512, 512)\n",
            "G_synthesis/16x16/Conv1       2622465   (?, 512, 16, 16)    (3, 3, 512, 512)\n",
            "G_synthesis/16x16/Upsample    -         (?, 3, 16, 16)      -               \n",
            "G_synthesis/16x16/ToRGB       264195    (?, 3, 16, 16)      (1, 1, 512, 3)  \n",
            "G_synthesis/32x32/Conv0_up    2622465   (?, 512, 32, 32)    (3, 3, 512, 512)\n",
            "G_synthesis/32x32/Conv1       2622465   (?, 512, 32, 32)    (3, 3, 512, 512)\n",
            "G_synthesis/32x32/Upsample    -         (?, 3, 32, 32)      -               \n",
            "G_synthesis/32x32/ToRGB       264195    (?, 3, 32, 32)      (1, 1, 512, 3)  \n",
            "G_synthesis/64x64/Conv0_up    1442561   (?, 256, 64, 64)    (3, 3, 512, 256)\n",
            "G_synthesis/64x64/Conv1       721409    (?, 256, 64, 64)    (3, 3, 256, 256)\n",
            "G_synthesis/64x64/Upsample    -         (?, 3, 64, 64)      -               \n",
            "G_synthesis/64x64/ToRGB       132099    (?, 3, 64, 64)      (1, 1, 256, 3)  \n",
            "G_synthesis/128x128/Conv0_up  426369    (?, 128, 128, 128)  (3, 3, 256, 128)\n",
            "G_synthesis/128x128/Conv1     213249    (?, 128, 128, 128)  (3, 3, 128, 128)\n",
            "G_synthesis/128x128/Upsample  -         (?, 3, 128, 128)    -               \n",
            "G_synthesis/128x128/ToRGB     66051     (?, 3, 128, 128)    (1, 1, 128, 3)  \n",
            "G_synthesis/256x256/Conv0_up  139457    (?, 64, 256, 256)   (3, 3, 128, 64) \n",
            "G_synthesis/256x256/Conv1     69761     (?, 64, 256, 256)   (3, 3, 64, 64)  \n",
            "G_synthesis/256x256/Upsample  -         (?, 3, 256, 256)    -               \n",
            "G_synthesis/256x256/ToRGB     33027     (?, 3, 256, 256)    (1, 1, 64, 3)   \n",
            "---                           ---       ---                 ---             \n",
            "Total                         23191522                                      \n",
            "\n",
            "\n",
            "D                    Params    OutputShape         WeightShape     \n",
            "---                  ---       ---                 ---             \n",
            "images_in            -         (?, 3, 256, 256)    -               \n",
            "labels_in            -         (?, 0)              -               \n",
            "256x256/FromRGB      256       (?, 64, 256, 256)   (1, 1, 3, 64)   \n",
            "256x256/Conv0        36928     (?, 64, 256, 256)   (3, 3, 64, 64)  \n",
            "256x256/Conv1_down   73856     (?, 128, 128, 128)  (3, 3, 64, 128) \n",
            "256x256/Skip         8192      (?, 128, 128, 128)  (1, 1, 64, 128) \n",
            "128x128/Conv0        147584    (?, 128, 128, 128)  (3, 3, 128, 128)\n",
            "128x128/Conv1_down   295168    (?, 256, 64, 64)    (3, 3, 128, 256)\n",
            "128x128/Skip         32768     (?, 256, 64, 64)    (1, 1, 128, 256)\n",
            "64x64/Conv0          590080    (?, 256, 64, 64)    (3, 3, 256, 256)\n",
            "64x64/Conv1_down     1180160   (?, 512, 32, 32)    (3, 3, 256, 512)\n",
            "64x64/Skip           131072    (?, 512, 32, 32)    (1, 1, 256, 512)\n",
            "32x32/Conv0          2359808   (?, 512, 32, 32)    (3, 3, 512, 512)\n",
            "32x32/Conv1_down     2359808   (?, 512, 16, 16)    (3, 3, 512, 512)\n",
            "32x32/Skip           262144    (?, 512, 16, 16)    (1, 1, 512, 512)\n",
            "16x16/Conv0          2359808   (?, 512, 16, 16)    (3, 3, 512, 512)\n",
            "16x16/Conv1_down     2359808   (?, 512, 8, 8)      (3, 3, 512, 512)\n",
            "16x16/Skip           262144    (?, 512, 8, 8)      (1, 1, 512, 512)\n",
            "8x8/Conv0            2359808   (?, 512, 8, 8)      (3, 3, 512, 512)\n",
            "8x8/Conv1_down       2359808   (?, 512, 4, 4)      (3, 3, 512, 512)\n",
            "8x8/Skip             262144    (?, 512, 4, 4)      (1, 1, 512, 512)\n",
            "4x4/MinibatchStddev  -         (?, 513, 4, 4)      -               \n",
            "4x4/Conv             2364416   (?, 512, 4, 4)      (3, 3, 513, 512)\n",
            "4x4/Dense0           4194816   (?, 512)            (8192, 512)     \n",
            "Output               513       (?, 1)              (512, 1)        \n",
            "---                  ---       ---                 ---             \n",
            "Total                24001089                                      \n",
            "\n",
            "Exporting sample images...\n",
            "Replicating networks across 1 GPUs...\n",
            "Initializing augmentations...\n",
            "Setting up optimizers...\n",
            "Constructing training graph...\n",
            "Finalizing training ops...\n",
            "Initializing metrics...\n",
            "Training for 25000 kimg...\n",
            "\n",
            "tick 0     kimg 0.1      time 2m 02s       sec/tick 22.7    sec/kimg 354.88  maintenance 99.2   gpumem 7.2   augment 0.000\n",
            "Evaluating metrics...\n",
            "Downloading https://nvlabs-fi-cdn.nvidia.com/stylegan2-ada/pretrained/metrics/inception_v3_features.pkl ... done\n",
            "Calculating real image statistics for fid50k_full...\n",
            "network-snapshot-000000        time 12m 37s      fid50k_full 327.5145\n",
            "tick 1     kimg 4.1      time 20m 39s      sec/tick 329.1   sec/kimg 81.63   maintenance 788.0  gpumem 7.2   augment 0.006\n",
            "tick 2     kimg 8.1      time 26m 08s      sec/tick 328.9   sec/kimg 81.58   maintenance 0.0    gpumem 7.2   augment 0.013\n",
            "tick 3     kimg 12.2     time 31m 38s      sec/tick 330.1   sec/kimg 81.88   maintenance 0.0    gpumem 7.2   augment 0.018\n",
            "tick 4     kimg 16.2     time 37m 09s      sec/tick 330.7   sec/kimg 82.01   maintenance 0.0    gpumem 7.2   augment 0.023\n",
            "tick 5     kimg 20.2     time 42m 41s      sec/tick 331.7   sec/kimg 82.28   maintenance 0.0    gpumem 7.2   augment 0.028\n",
            "tick 6     kimg 24.3     time 48m 13s      sec/tick 332.8   sec/kimg 82.54   maintenance 0.0    gpumem 7.2   augment 0.032\n",
            "tick 7     kimg 28.3     time 53m 46s      sec/tick 332.7   sec/kimg 82.53   maintenance 0.0    gpumem 7.2   augment 0.036\n",
            "tick 8     kimg 32.3     time 59m 20s      sec/tick 333.5   sec/kimg 82.71   maintenance 0.0    gpumem 7.2   augment 0.040\n",
            "tick 9     kimg 36.4     time 1h 04m 53s   sec/tick 333.5   sec/kimg 82.71   maintenance 0.0    gpumem 7.2   augment 0.041\n",
            "tick 10    kimg 40.4     time 1h 10m 27s   sec/tick 334.2   sec/kimg 82.89   maintenance 0.0    gpumem 7.2   augment 0.039\n",
            "tick 11    kimg 44.4     time 1h 16m 02s   sec/tick 334.2   sec/kimg 82.89   maintenance 0.0    gpumem 7.2   augment 0.037\n",
            "tick 12    kimg 48.4     time 1h 21m 36s   sec/tick 334.6   sec/kimg 82.99   maintenance 0.0    gpumem 7.2   augment 0.038\n",
            "tick 13    kimg 52.5     time 1h 27m 10s   sec/tick 334.1   sec/kimg 82.86   maintenance 0.0    gpumem 7.2   augment 0.039\n",
            "tick 14    kimg 56.5     time 1h 32m 46s   sec/tick 335.5   sec/kimg 83.20   maintenance 0.0    gpumem 7.2   augment 0.039\n",
            "tick 15    kimg 60.5     time 1h 38m 20s   sec/tick 334.4   sec/kimg 82.93   maintenance 0.0    gpumem 7.2   augment 0.039\n",
            "tick 16    kimg 64.6     time 1h 43m 56s   sec/tick 335.2   sec/kimg 83.15   maintenance 0.0    gpumem 7.2   augment 0.041\n",
            "tick 17    kimg 68.6     time 1h 49m 31s   sec/tick 335.0   sec/kimg 83.09   maintenance 0.0    gpumem 7.2   augment 0.045\n",
            "tick 18    kimg 72.6     time 1h 55m 06s   sec/tick 335.5   sec/kimg 83.22   maintenance 0.0    gpumem 7.2   augment 0.047\n",
            "tick 19    kimg 76.7     time 2h 00m 42s   sec/tick 335.6   sec/kimg 83.23   maintenance 0.0    gpumem 7.2   augment 0.050\n",
            "tick 20    kimg 80.7     time 2h 06m 17s   sec/tick 335.3   sec/kimg 83.17   maintenance 0.0    gpumem 7.2   augment 0.052\n",
            "tick 21    kimg 84.7     time 2h 11m 52s   sec/tick 335.2   sec/kimg 83.14   maintenance 0.0    gpumem 7.2   augment 0.054\n",
            "tick 22    kimg 88.8     time 2h 17m 28s   sec/tick 335.8   sec/kimg 83.28   maintenance 0.0    gpumem 7.2   augment 0.055\n",
            "tick 23    kimg 92.8     time 2h 23m 04s   sec/tick 335.4   sec/kimg 83.19   maintenance 0.0    gpumem 7.2   augment 0.057\n",
            "tick 24    kimg 96.8     time 2h 28m 39s   sec/tick 335.8   sec/kimg 83.29   maintenance 0.0    gpumem 7.2   augment 0.060\n",
            "tick 25    kimg 100.9    time 2h 34m 15s   sec/tick 335.5   sec/kimg 83.21   maintenance 0.0    gpumem 7.2   augment 0.063\n",
            "Evaluating metrics...\n"
          ]
        }
      ],
      "source": [
        "import os\n",
        "\n",
        "# Modify these to suit your needs\n",
        "EXPERIMENTS = \"/content/drive/MyDrive/data/gan/experiments\"\n",
        "DATA = \"/content/drive/MyDrive/data/gan/dataset\"\n",
        "SNAP = 25\n",
        "LOSS = 'wgangp'\n",
        "\n",
        "# Build the command and run it\n",
        "cmd = f\"/usr/bin/python3 /content/stylegan2-ada/train.py --snap {SNAP} --outdir {EXPERIMENTS} --data {DATA} --cmethod = {LOSS}\"\n",
        "!{cmd}"
      ]
    },
    {
      "cell_type": "code",
      "source": [
        "os.getcwd()"
      ],
      "metadata": {
        "colab": {
          "base_uri": "https://localhost:8080/",
          "height": 35
        },
        "id": "04gWhAmxd0lA",
        "outputId": "e6162952-1f7e-4547-b907-a7d525cfdca8"
      },
      "execution_count": 7,
      "outputs": [
        {
          "output_type": "execute_result",
          "data": {
            "application/vnd.google.colaboratory.intrinsic+json": {
              "type": "string"
            },
            "text/plain": [
              "'/content'"
            ]
          },
          "metadata": {},
          "execution_count": 7
        }
      ]
    },
    {
      "cell_type": "code",
      "execution_count": null,
      "metadata": {
        "id": "j4g2FUCwG1U_",
        "colab": {
          "base_uri": "https://localhost:8080/"
        },
        "outputId": "d2808326-4d6b-4248-c03f-fb0c21ccd94e"
      },
      "outputs": [
        {
          "output_type": "stream",
          "name": "stdout",
          "text": [
            "Usage: train.py [OPTIONS]\n",
            "Try 'train.py --help' for help.\n",
            "\n",
            "Error: --data: Path must point to a directory or zip\n"
          ]
        }
      ],
      "source": [
        "!/usr/bin/python3 /content/stylegan2-ada-pytorch/train.py --snap 5 --resume /content/drive/MyDrive/data/gan/experiments/00000-dataset-auto1/network-snapshot-000020.pkl --outdir /content/drive/MyDrive/data/gan/experiments --data /content/drive/MyDrive/data/gan/dataset"
      ]
    },
    {
      "cell_type": "markdown",
      "metadata": {
        "id": "NS-oe6jMG_0A"
      },
      "source": [
        "# Resume Training"
      ]
    },
    {
      "cell_type": "code",
      "execution_count": 27,
      "metadata": {
        "id": "pvPZLsCUlzGn",
        "colab": {
          "base_uri": "https://localhost:8080/"
        },
        "outputId": "509eaa0e-6ed3-4986-c3ac-be5712950673"
      },
      "outputs": [
        {
          "output_type": "stream",
          "name": "stdout",
          "text": [
            "Traceback (most recent call last):\n",
            "  File \"/content/stylegan2-ada/train.py\", line 16, in <module>\n",
            "    import tensorflow as tf\n",
            "  File \"/tensorflow-1.15.2/python3.7/tensorflow/__init__.py\", line 99, in <module>\n",
            "    from tensorflow_core import *\n",
            "  File \"/tensorflow-1.15.2/python3.7/tensorflow_core/__init__.py\", line 28, in <module>\n",
            "    from tensorflow.python import pywrap_tensorflow  # pylint: disable=unused-import\n",
            "  File \"<frozen importlib._bootstrap>\", line 1019, in _handle_fromlist\n",
            "  File \"/tensorflow-1.15.2/python3.7/tensorflow/__init__.py\", line 50, in __getattr__\n",
            "    module = self._load()\n",
            "  File \"/tensorflow-1.15.2/python3.7/tensorflow/__init__.py\", line 44, in _load\n",
            "    module = _importlib.import_module(self.__name__)\n",
            "  File \"/usr/lib/python3.7/importlib/__init__.py\", line 127, in import_module\n",
            "    return _bootstrap._gcd_import(name[level:], package, level)\n",
            "  File \"/tensorflow-1.15.2/python3.7/tensorflow_core/python/__init__.py\", line 73, in <module>\n",
            "    from tensorflow.python.ops.standard_ops import *\n",
            "  File \"/tensorflow-1.15.2/python3.7/tensorflow_core/python/ops/standard_ops.py\", line 25, in <module>\n",
            "    from tensorflow.python import autograph\n",
            "  File \"/tensorflow-1.15.2/python3.7/tensorflow_core/python/autograph/__init__.py\", line 35, in <module>\n",
            "    from tensorflow.python.autograph import operators\n",
            "  File \"/tensorflow-1.15.2/python3.7/tensorflow_core/python/autograph/__init__.py\", line 35, in <module>\n",
            "    from tensorflow.python.autograph import operators\n",
            "  File \"/tensorflow-1.15.2/python3.7/tensorflow_core/python/autograph/operators/__init__.py\", line 40, in <module>\n",
            "    from tensorflow.python.autograph.operators.control_flow import for_stmt\n",
            "  File \"/tensorflow-1.15.2/python3.7/tensorflow_core/python/autograph/operators/control_flow.py\", line 65, in <module>\n",
            "    from tensorflow.python.autograph.operators import py_builtins\n",
            "  File \"/tensorflow-1.15.2/python3.7/tensorflow_core/python/autograph/operators/py_builtins.py\", line 30, in <module>\n",
            "    from tensorflow.python.data.ops import dataset_ops\n",
            "  File \"/tensorflow-1.15.2/python3.7/tensorflow_core/python/data/__init__.py\", line 25, in <module>\n",
            "    from tensorflow.python.data import experimental\n",
            "  File \"/tensorflow-1.15.2/python3.7/tensorflow_core/python/data/experimental/__init__.py\", line 89, in <module>\n",
            "    from tensorflow.python.data.experimental.ops.batching import dense_to_sparse_batch\n",
            "  File \"/tensorflow-1.15.2/python3.7/tensorflow_core/python/data/experimental/ops/batching.py\", line 20, in <module>\n",
            "    from tensorflow.python.data.ops import dataset_ops\n",
            "  File \"/tensorflow-1.15.2/python3.7/tensorflow_core/python/data/ops/dataset_ops.py\", line 39, in <module>\n",
            "    from tensorflow.python.data.ops import iterator_ops\n",
            "  File \"/tensorflow-1.15.2/python3.7/tensorflow_core/python/data/ops/iterator_ops.py\", line 35, in <module>\n",
            "    from tensorflow.python.training.saver import BaseSaverBuilder\n",
            "  File \"<frozen importlib._bootstrap>\", line 983, in _find_and_load\n",
            "  File \"<frozen importlib._bootstrap>\", line 967, in _find_and_load_unlocked\n",
            "  File \"<frozen importlib._bootstrap>\", line 677, in _load_unlocked\n",
            "  File \"<frozen importlib._bootstrap_external>\", line 724, in exec_module\n",
            "  File \"<frozen importlib._bootstrap_external>\", line 818, in get_code\n",
            "  File \"<frozen importlib._bootstrap_external>\", line 917, in get_data\n",
            "KeyboardInterrupt\n"
          ]
        }
      ],
      "source": [
        "import os\n",
        "\n",
        "# Modify these to suit your needs\n",
        "EXPERIMENTS = \"/content/drive/MyDrive/data/gan/experiments\"\n",
        "NETWORK = \"network-snapshot-000028.pkl\"\n",
        "RESUME = os.path.join(EXPERIMENTS, \"00003-dataset-auto1-resumecustom\", NETWORK)\n",
        "DATA = \"/content/drive/MyDrive/data/gan/dataset\"\n",
        "SNAP = 7\n",
        "LOSS = 'wgangp'\n",
        "\n",
        "# Build the command and run it\n",
        "cmd = f\"/usr/bin/python3 /content/stylegan2-ada/train.py --snap {SNAP} --outdir {EXPERIMENTS} --data {DATA} --cmethod {LOSS} --aug=noaug --resume {RESUME}\"\n",
        "!{cmd}"
      ]
    },
    {
      "cell_type": "markdown",
      "metadata": {
        "id": "xMm34ut0wKCb"
      },
      "source": [
        "# Resume with stylegan loss"
      ]
    },
    {
      "cell_type": "code",
      "source": [
        "import os\n",
        "\n",
        "# Modify these to suit your needs\n",
        "EXPERIMENTS = \"/content/drive/MyDrive/data/gan/experiments\"\n",
        "NETWORK = \"network-snapshot-000028.pkl\"\n",
        "RESUME = os.path.join(EXPERIMENTS, \"00003-dataset-auto1-resumecustom\", NETWORK)\n",
        "DATA = \"/content/drive/MyDrive/data/gan/dataset\"\n",
        "SNAP = 7\n",
        "LOSS = 'wgangp'\n",
        "\n",
        "# Build the command and run it\n",
        "cmd = f\"/usr/bin/python3 /content/stylegan2-ada/train.py --snap {SNAP} --outdir {EXPERIMENTS} --data {DATA} --resume {RESUME}\"\n",
        "!{cmd}"
      ],
      "metadata": {
        "colab": {
          "base_uri": "https://localhost:8080/"
        },
        "id": "11tAR2BUTtjD",
        "outputId": "ddce122a-6565-4888-b07d-b73a39f2e7b7"
      },
      "execution_count": null,
      "outputs": [
        {
          "output_type": "stream",
          "name": "stdout",
          "text": [
            "\n",
            "Training options:\n",
            "{\n",
            "  \"G_args\": {\n",
            "    \"func_name\": \"training.networks.G_main\",\n",
            "    \"fmap_base\": 8192,\n",
            "    \"fmap_max\": 512,\n",
            "    \"mapping_layers\": 2,\n",
            "    \"num_fp16_res\": 4,\n",
            "    \"conv_clamp\": 256\n",
            "  },\n",
            "  \"D_args\": {\n",
            "    \"func_name\": \"training.networks.D_main\",\n",
            "    \"mbstd_group_size\": 4,\n",
            "    \"fmap_base\": 8192,\n",
            "    \"fmap_max\": 512,\n",
            "    \"num_fp16_res\": 4,\n",
            "    \"conv_clamp\": 256\n",
            "  },\n",
            "  \"G_opt_args\": {\n",
            "    \"beta1\": 0.0,\n",
            "    \"beta2\": 0.99,\n",
            "    \"learning_rate\": 0.0025\n",
            "  },\n",
            "  \"D_opt_args\": {\n",
            "    \"beta1\": 0.0,\n",
            "    \"beta2\": 0.99,\n",
            "    \"learning_rate\": 0.0025\n",
            "  },\n",
            "  \"loss_args\": {\n",
            "    \"func_name\": \"training.loss.stylegan2\",\n",
            "    \"r1_gamma\": 0.8192\n",
            "  },\n",
            "  \"augment_args\": {\n",
            "    \"class_name\": \"training.augment.AdaptiveAugment\",\n",
            "    \"tune_heuristic\": \"rt\",\n",
            "    \"tune_target\": 0.6,\n",
            "    \"apply_func\": \"training.augment.augment_pipeline\",\n",
            "    \"apply_args\": {\n",
            "      \"xflip\": 1,\n",
            "      \"rotate90\": 1,\n",
            "      \"xint\": 1,\n",
            "      \"scale\": 1,\n",
            "      \"rotate\": 1,\n",
            "      \"aniso\": 1,\n",
            "      \"xfrac\": 1,\n",
            "      \"brightness\": 1,\n",
            "      \"contrast\": 1,\n",
            "      \"lumaflip\": 1,\n",
            "      \"hue\": 1,\n",
            "      \"saturation\": 1\n",
            "    },\n",
            "    \"tune_kimg\": 100\n",
            "  },\n",
            "  \"num_gpus\": 1,\n",
            "  \"image_snapshot_ticks\": 7,\n",
            "  \"network_snapshot_ticks\": 7,\n",
            "  \"train_dataset_args\": {\n",
            "    \"path\": \"/content/drive/MyDrive/data/gan/dataset\",\n",
            "    \"max_label_size\": 0,\n",
            "    \"resolution\": 256,\n",
            "    \"mirror_augment\": false\n",
            "  },\n",
            "  \"metric_arg_list\": [\n",
            "    {\n",
            "      \"name\": \"fid50k_full\",\n",
            "      \"class_name\": \"metrics.frechet_inception_distance.FID\",\n",
            "      \"max_reals\": null,\n",
            "      \"num_fakes\": 50000,\n",
            "      \"minibatch_per_gpu\": 8,\n",
            "      \"force_dataset_args\": {\n",
            "        \"shuffle\": false,\n",
            "        \"max_images\": null,\n",
            "        \"repeat\": false,\n",
            "        \"mirror_augment\": false\n",
            "      }\n",
            "    }\n",
            "  ],\n",
            "  \"metric_dataset_args\": {\n",
            "    \"path\": \"/content/drive/MyDrive/data/gan/dataset\",\n",
            "    \"max_label_size\": 0,\n",
            "    \"resolution\": 256,\n",
            "    \"mirror_augment\": false\n",
            "  },\n",
            "  \"total_kimg\": 25000,\n",
            "  \"minibatch_size\": 16,\n",
            "  \"minibatch_gpu\": 16,\n",
            "  \"G_smoothing_kimg\": 5.0,\n",
            "  \"G_smoothing_rampup\": null,\n",
            "  \"resume_pkl\": \"/content/drive/MyDrive/data/gan/experiments/00003-dataset-auto1-resumecustom/network-snapshot-000028.pkl\",\n",
            "  \"run_dir\": \"/content/drive/MyDrive/data/gan/experiments/00006-dataset-auto1-resumecustom\"\n",
            "}\n",
            "\n",
            "Output directory:  /content/drive/MyDrive/data/gan/experiments/00006-dataset-auto1-resumecustom\n",
            "Training data:     /content/drive/MyDrive/data/gan/dataset\n",
            "Training length:   25000 kimg\n",
            "Resolution:        256\n",
            "Number of GPUs:    1\n",
            "\n",
            "Creating output directory...\n",
            "Loading training set...\n",
            "Image shape: [3, 256, 256]\n",
            "Label shape: [0]\n",
            "\n",
            "Constructing networks...\n",
            "Setting up TensorFlow plugin \"fused_bias_act.cu\": Loading... Done.\n",
            "Setting up TensorFlow plugin \"upfirdn_2d.cu\": Loading... Done.\n",
            "Resuming from \"/content/drive/MyDrive/data/gan/experiments/00003-dataset-auto1-resumecustom/network-snapshot-000028.pkl\"\n",
            "\n",
            "G                             Params    OutputShape         WeightShape     \n",
            "---                           ---       ---                 ---             \n",
            "latents_in                    -         (?, 512)            -               \n",
            "labels_in                     -         (?, 0)              -               \n",
            "G_mapping/Normalize           -         (?, 512)            -               \n",
            "G_mapping/Dense0              262656    (?, 512)            (512, 512)      \n",
            "G_mapping/Dense1              262656    (?, 512)            (512, 512)      \n",
            "G_mapping/Broadcast           -         (?, 14, 512)        -               \n",
            "dlatent_avg                   -         (512,)              -               \n",
            "Truncation/Lerp               -         (?, 14, 512)        -               \n",
            "G_synthesis/4x4/Const         8192      (?, 512, 4, 4)      (1, 512, 4, 4)  \n",
            "G_synthesis/4x4/Conv          2622465   (?, 512, 4, 4)      (3, 3, 512, 512)\n",
            "G_synthesis/4x4/ToRGB         264195    (?, 3, 4, 4)        (1, 1, 512, 3)  \n",
            "G_synthesis/8x8/Conv0_up      2622465   (?, 512, 8, 8)      (3, 3, 512, 512)\n",
            "G_synthesis/8x8/Conv1         2622465   (?, 512, 8, 8)      (3, 3, 512, 512)\n",
            "G_synthesis/8x8/Upsample      -         (?, 3, 8, 8)        -               \n",
            "G_synthesis/8x8/ToRGB         264195    (?, 3, 8, 8)        (1, 1, 512, 3)  \n",
            "G_synthesis/16x16/Conv0_up    2622465   (?, 512, 16, 16)    (3, 3, 512, 512)\n",
            "G_synthesis/16x16/Conv1       2622465   (?, 512, 16, 16)    (3, 3, 512, 512)\n",
            "G_synthesis/16x16/Upsample    -         (?, 3, 16, 16)      -               \n",
            "G_synthesis/16x16/ToRGB       264195    (?, 3, 16, 16)      (1, 1, 512, 3)  \n",
            "G_synthesis/32x32/Conv0_up    2622465   (?, 512, 32, 32)    (3, 3, 512, 512)\n",
            "G_synthesis/32x32/Conv1       2622465   (?, 512, 32, 32)    (3, 3, 512, 512)\n",
            "G_synthesis/32x32/Upsample    -         (?, 3, 32, 32)      -               \n",
            "G_synthesis/32x32/ToRGB       264195    (?, 3, 32, 32)      (1, 1, 512, 3)  \n",
            "G_synthesis/64x64/Conv0_up    1442561   (?, 256, 64, 64)    (3, 3, 512, 256)\n",
            "G_synthesis/64x64/Conv1       721409    (?, 256, 64, 64)    (3, 3, 256, 256)\n",
            "G_synthesis/64x64/Upsample    -         (?, 3, 64, 64)      -               \n",
            "G_synthesis/64x64/ToRGB       132099    (?, 3, 64, 64)      (1, 1, 256, 3)  \n",
            "G_synthesis/128x128/Conv0_up  426369    (?, 128, 128, 128)  (3, 3, 256, 128)\n",
            "G_synthesis/128x128/Conv1     213249    (?, 128, 128, 128)  (3, 3, 128, 128)\n",
            "G_synthesis/128x128/Upsample  -         (?, 3, 128, 128)    -               \n",
            "G_synthesis/128x128/ToRGB     66051     (?, 3, 128, 128)    (1, 1, 128, 3)  \n",
            "G_synthesis/256x256/Conv0_up  139457    (?, 64, 256, 256)   (3, 3, 128, 64) \n",
            "G_synthesis/256x256/Conv1     69761     (?, 64, 256, 256)   (3, 3, 64, 64)  \n",
            "G_synthesis/256x256/Upsample  -         (?, 3, 256, 256)    -               \n",
            "G_synthesis/256x256/ToRGB     33027     (?, 3, 256, 256)    (1, 1, 64, 3)   \n",
            "---                           ---       ---                 ---             \n",
            "Total                         23191522                                      \n",
            "\n",
            "\n",
            "D                    Params    OutputShape         WeightShape     \n",
            "---                  ---       ---                 ---             \n",
            "images_in            -         (?, 3, 256, 256)    -               \n",
            "labels_in            -         (?, 0)              -               \n",
            "256x256/FromRGB      256       (?, 64, 256, 256)   (1, 1, 3, 64)   \n",
            "256x256/Conv0        36928     (?, 64, 256, 256)   (3, 3, 64, 64)  \n",
            "256x256/Conv1_down   73856     (?, 128, 128, 128)  (3, 3, 64, 128) \n",
            "256x256/Skip         8192      (?, 128, 128, 128)  (1, 1, 64, 128) \n",
            "128x128/Conv0        147584    (?, 128, 128, 128)  (3, 3, 128, 128)\n",
            "128x128/Conv1_down   295168    (?, 256, 64, 64)    (3, 3, 128, 256)\n",
            "128x128/Skip         32768     (?, 256, 64, 64)    (1, 1, 128, 256)\n",
            "64x64/Conv0          590080    (?, 256, 64, 64)    (3, 3, 256, 256)\n",
            "64x64/Conv1_down     1180160   (?, 512, 32, 32)    (3, 3, 256, 512)\n",
            "64x64/Skip           131072    (?, 512, 32, 32)    (1, 1, 256, 512)\n",
            "32x32/Conv0          2359808   (?, 512, 32, 32)    (3, 3, 512, 512)\n",
            "32x32/Conv1_down     2359808   (?, 512, 16, 16)    (3, 3, 512, 512)\n",
            "32x32/Skip           262144    (?, 512, 16, 16)    (1, 1, 512, 512)\n",
            "16x16/Conv0          2359808   (?, 512, 16, 16)    (3, 3, 512, 512)\n",
            "16x16/Conv1_down     2359808   (?, 512, 8, 8)      (3, 3, 512, 512)\n",
            "16x16/Skip           262144    (?, 512, 8, 8)      (1, 1, 512, 512)\n",
            "8x8/Conv0            2359808   (?, 512, 8, 8)      (3, 3, 512, 512)\n",
            "8x8/Conv1_down       2359808   (?, 512, 4, 4)      (3, 3, 512, 512)\n",
            "8x8/Skip             262144    (?, 512, 4, 4)      (1, 1, 512, 512)\n",
            "4x4/MinibatchStddev  -         (?, 513, 4, 4)      -               \n",
            "4x4/Conv             2364416   (?, 512, 4, 4)      (3, 3, 513, 512)\n",
            "4x4/Dense0           4194816   (?, 512)            (8192, 512)     \n",
            "Output               513       (?, 1)              (512, 1)        \n",
            "---                  ---       ---                 ---             \n",
            "Total                24001089                                      \n",
            "\n",
            "Exporting sample images...\n",
            "Replicating networks across 1 GPUs...\n",
            "Initializing augmentations...\n",
            "Setting up optimizers...\n",
            "Constructing training graph...\n",
            "Finalizing training ops...\n",
            "Initializing metrics...\n",
            "Training for 25000 kimg...\n",
            "\n",
            "tick 0     kimg 0.1      time 1m 25s       sec/tick 18.1    sec/kimg 282.33  maintenance 66.7   gpumem 7.3   augment 0.001\n",
            "Evaluating metrics...\n",
            "network-snapshot-000000        time 9m 54s       fid50k_full 51.0114\n",
            "tick 1     kimg 4.1      time 16m 28s      sec/tick 281.7   sec/kimg 69.86   maintenance 621.7  gpumem 7.3   augment 0.014\n",
            "tick 2     kimg 8.1      time 21m 11s      sec/tick 282.9   sec/kimg 70.17   maintenance 0.0    gpumem 7.3   augment 0.026\n",
            "tick 3     kimg 12.2     time 25m 55s      sec/tick 283.5   sec/kimg 70.30   maintenance 0.0    gpumem 7.3   augment 0.038\n",
            "tick 4     kimg 16.2     time 30m 38s      sec/tick 283.7   sec/kimg 70.37   maintenance 0.0    gpumem 7.3   augment 0.049\n",
            "tick 5     kimg 20.2     time 35m 22s      sec/tick 283.5   sec/kimg 70.32   maintenance 0.0    gpumem 7.3   augment 0.063\n",
            "tick 6     kimg 24.3     time 40m 06s      sec/tick 284.3   sec/kimg 70.51   maintenance 0.0    gpumem 7.3   augment 0.071\n",
            "tick 7     kimg 28.3     time 44m 51s      sec/tick 284.8   sec/kimg 70.64   maintenance 0.0    gpumem 7.3   augment 0.082\n",
            "Evaluating metrics...\n",
            "network-snapshot-000028        time 9m 53s       fid50k_full 50.4774\n",
            "tick 8     kimg 32.3     time 59m 46s      sec/tick 284.7   sec/kimg 70.61   maintenance 609.9  gpumem 7.3   augment 0.086\n",
            "tick 9     kimg 36.4     time 1h 04m 30s   sec/tick 284.4   sec/kimg 70.53   maintenance 0.0    gpumem 7.3   augment 0.099\n",
            "tick 10    kimg 40.4     time 1h 09m 15s   sec/tick 285.2   sec/kimg 70.74   maintenance 0.0    gpumem 7.3   augment 0.108\n",
            "tick 11    kimg 44.4     time 1h 14m 01s   sec/tick 285.2   sec/kimg 70.74   maintenance 0.0    gpumem 7.3   augment 0.114\n",
            "tick 12    kimg 48.4     time 1h 18m 46s   sec/tick 285.4   sec/kimg 70.78   maintenance 0.0    gpumem 7.3   augment 0.129\n",
            "tick 13    kimg 52.5     time 1h 23m 31s   sec/tick 285.1   sec/kimg 70.71   maintenance 0.0    gpumem 7.3   augment 0.128\n",
            "tick 14    kimg 56.5     time 1h 28m 17s   sec/tick 285.4   sec/kimg 70.79   maintenance 0.0    gpumem 7.3   augment 0.135\n",
            "Evaluating metrics...\n",
            "network-snapshot-000056        time 9m 52s       fid50k_full 44.8422\n",
            "tick 15    kimg 60.5     time 1h 43m 11s   sec/tick 285.7   sec/kimg 70.86   maintenance 608.6  gpumem 7.3   augment 0.142\n",
            "tick 16    kimg 64.6     time 1h 47m 57s   sec/tick 285.8   sec/kimg 70.87   maintenance 0.0    gpumem 7.3   augment 0.150\n",
            "tick 17    kimg 68.6     time 1h 52m 42s   sec/tick 285.5   sec/kimg 70.80   maintenance 0.0    gpumem 7.3   augment 0.157\n",
            "tick 18    kimg 72.6     time 1h 57m 28s   sec/tick 286.1   sec/kimg 70.95   maintenance 0.0    gpumem 7.3   augment 0.164\n",
            "tick 19    kimg 76.7     time 2h 02m 14s   sec/tick 286.1   sec/kimg 70.95   maintenance 0.0    gpumem 7.3   augment 0.172\n",
            "tick 20    kimg 80.7     time 2h 07m 00s   sec/tick 286.2   sec/kimg 70.99   maintenance 0.0    gpumem 7.3   augment 0.176\n",
            "tick 21    kimg 84.7     time 2h 11m 46s   sec/tick 285.8   sec/kimg 70.89   maintenance 0.0    gpumem 7.3   augment 0.184\n",
            "Evaluating metrics...\n",
            "network-snapshot-000084        time 9m 55s       fid50k_full 42.0294\n",
            "tick 22    kimg 88.8     time 2h 26m 44s   sec/tick 286.4   sec/kimg 71.03   maintenance 611.0  gpumem 7.3   augment 0.185\n",
            "tick 23    kimg 92.8     time 2h 31m 30s   sec/tick 286.5   sec/kimg 71.05   maintenance 0.0    gpumem 7.3   augment 0.193\n",
            "tick 24    kimg 96.8     time 2h 36m 17s   sec/tick 286.6   sec/kimg 71.08   maintenance 0.0    gpumem 7.3   augment 0.194\n",
            "tick 25    kimg 100.9    time 2h 41m 03s   sec/tick 286.0   sec/kimg 70.94   maintenance 0.0    gpumem 7.3   augment 0.198\n",
            "tick 26    kimg 104.9    time 2h 45m 50s   sec/tick 286.6   sec/kimg 71.09   maintenance 0.0    gpumem 7.3   augment 0.202\n",
            "tick 27    kimg 108.9    time 2h 50m 36s   sec/tick 286.7   sec/kimg 71.11   maintenance 0.0    gpumem 7.3   augment 0.211\n",
            "tick 28    kimg 113.0    time 2h 55m 23s   sec/tick 286.9   sec/kimg 71.15   maintenance 0.0    gpumem 7.3   augment 0.213\n",
            "Evaluating metrics...\n",
            "network-snapshot-000112        time 9m 55s       fid50k_full 38.3396\n",
            "tick 29    kimg 117.0    time 3h 10m 21s   sec/tick 286.5   sec/kimg 71.06   maintenance 611.5  gpumem 7.3   augment 0.219\n",
            "tick 30    kimg 121.0    time 3h 15m 08s   sec/tick 287.0   sec/kimg 71.17   maintenance 0.0    gpumem 7.3   augment 0.225\n",
            "tick 31    kimg 125.1    time 3h 19m 55s   sec/tick 287.0   sec/kimg 71.17   maintenance 0.0    gpumem 7.3   augment 0.227\n",
            "tick 32    kimg 129.1    time 3h 24m 42s   sec/tick 287.1   sec/kimg 71.20   maintenance 0.0    gpumem 7.3   augment 0.231\n",
            "tick 33    kimg 133.1    time 3h 29m 29s   sec/tick 286.6   sec/kimg 71.09   maintenance 0.0    gpumem 7.3   augment 0.237\n",
            "tick 34    kimg 137.2    time 3h 34m 16s   sec/tick 287.1   sec/kimg 71.20   maintenance 0.0    gpumem 7.3   augment 0.241\n",
            "tick 35    kimg 141.2    time 3h 39m 03s   sec/tick 287.4   sec/kimg 71.27   maintenance 0.0    gpumem 7.3   augment 0.244\n",
            "Evaluating metrics...\n",
            "network-snapshot-000141        time 9m 56s       fid50k_full 36.9828\n",
            "tick 36    kimg 145.2    time 3h 54m 04s   sec/tick 287.5   sec/kimg 71.30   maintenance 612.8  gpumem 7.3   augment 0.249\n",
            "tick 37    kimg 149.2    time 3h 58m 50s   sec/tick 286.8   sec/kimg 71.13   maintenance 0.0    gpumem 7.3   augment 0.256\n",
            "tick 38    kimg 153.3    time 4h 03m 38s   sec/tick 287.5   sec/kimg 71.31   maintenance 0.0    gpumem 7.3   augment 0.260\n",
            "tick 39    kimg 157.3    time 4h 08m 26s   sec/tick 287.6   sec/kimg 71.32   maintenance 0.0    gpumem 7.3   augment 0.259\n",
            "tick 40    kimg 161.3    time 4h 13m 13s   sec/tick 287.5   sec/kimg 71.31   maintenance 0.0    gpumem 7.3   augment 0.263\n",
            "tick 41    kimg 165.4    time 4h 18m 00s   sec/tick 287.2   sec/kimg 71.23   maintenance 0.0    gpumem 7.3   augment 0.261\n",
            "tick 42    kimg 169.4    time 4h 22m 48s   sec/tick 287.6   sec/kimg 71.32   maintenance 0.0    gpumem 7.3   augment 0.266\n",
            "Evaluating metrics...\n",
            "network-snapshot-000169        time 9m 55s       fid50k_full 33.3770\n",
            "tick 43    kimg 173.4    time 4h 37m 47s   sec/tick 287.5   sec/kimg 71.31   maintenance 611.5  gpumem 7.3   augment 0.265\n",
            "tick 44    kimg 177.5    time 4h 42m 35s   sec/tick 287.7   sec/kimg 71.35   maintenance 0.0    gpumem 7.3   augment 0.269\n",
            "tick 45    kimg 181.5    time 4h 47m 22s   sec/tick 287.2   sec/kimg 71.23   maintenance 0.0    gpumem 7.3   augment 0.270\n",
            "tick 46    kimg 185.5    time 4h 52m 10s   sec/tick 287.8   sec/kimg 71.37   maintenance 0.0    gpumem 7.3   augment 0.271\n",
            "tick 47    kimg 189.6    time 4h 56m 57s   sec/tick 287.6   sec/kimg 71.33   maintenance 0.0    gpumem 7.3   augment 0.274\n",
            "tick 48    kimg 193.6    time 5h 01m 45s   sec/tick 287.6   sec/kimg 71.33   maintenance 0.0    gpumem 7.3   augment 0.281\n",
            "tick 49    kimg 197.6    time 5h 06m 33s   sec/tick 287.6   sec/kimg 71.32   maintenance 0.0    gpumem 7.3   augment 0.284\n",
            "Evaluating metrics...\n",
            "network-snapshot-000197        time 9m 55s       fid50k_full 33.6426\n",
            "tick 50    kimg 201.7    time 5h 21m 32s   sec/tick 287.7   sec/kimg 71.36   maintenance 612.0  gpumem 7.3   augment 0.284\n",
            "tick 51    kimg 205.7    time 5h 26m 20s   sec/tick 288.0   sec/kimg 71.42   maintenance 0.0    gpumem 7.3   augment 0.287\n",
            "tick 52    kimg 209.7    time 5h 31m 08s   sec/tick 288.1   sec/kimg 71.44   maintenance 0.0    gpumem 7.3   augment 0.291\n",
            "tick 53    kimg 213.8    time 5h 35m 56s   sec/tick 287.4   sec/kimg 71.29   maintenance 0.0    gpumem 7.3   augment 0.298\n",
            "tick 54    kimg 217.8    time 5h 40m 44s   sec/tick 288.1   sec/kimg 71.46   maintenance 0.0    gpumem 7.3   augment 0.298\n",
            "tick 55    kimg 221.8    time 5h 45m 32s   sec/tick 287.9   sec/kimg 71.41   maintenance 0.0    gpumem 7.3   augment 0.305\n",
            "tick 56    kimg 225.9    time 5h 50m 20s   sec/tick 287.9   sec/kimg 71.41   maintenance 0.0    gpumem 7.3   augment 0.299\n",
            "Evaluating metrics...\n",
            "network-snapshot-000225        time 9m 55s       fid50k_full 30.4170\n",
            "tick 57    kimg 229.9    time 6h 05m 19s   sec/tick 287.6   sec/kimg 71.33   maintenance 611.5  gpumem 7.3   augment 0.297\n",
            "tick 58    kimg 233.9    time 6h 10m 07s   sec/tick 288.1   sec/kimg 71.45   maintenance 0.0    gpumem 7.3   augment 0.292\n",
            "tick 59    kimg 238.0    time 6h 14m 55s   sec/tick 288.0   sec/kimg 71.42   maintenance 0.0    gpumem 7.3   augment 0.297\n",
            "tick 60    kimg 242.0    time 6h 19m 43s   sec/tick 287.9   sec/kimg 71.41   maintenance 0.0    gpumem 7.3   augment 0.301\n",
            "tick 61    kimg 246.0    time 6h 24m 30s   sec/tick 287.5   sec/kimg 71.31   maintenance 0.0    gpumem 7.3   augment 0.298\n",
            "tick 62    kimg 250.0    time 6h 29m 18s   sec/tick 287.8   sec/kimg 71.38   maintenance 0.0    gpumem 7.3   augment 0.296\n",
            "tick 63    kimg 254.1    time 6h 34m 06s   sec/tick 287.9   sec/kimg 71.41   maintenance 0.0    gpumem 7.3   augment 0.298\n",
            "Evaluating metrics...\n",
            "network-snapshot-000254        time 9m 54s       fid50k_full 29.5032\n",
            "tick 64    kimg 258.1    time 6h 49m 05s   sec/tick 288.0   sec/kimg 71.43   maintenance 610.8  gpumem 7.3   augment 0.298\n",
            "tick 65    kimg 262.1    time 6h 53m 53s   sec/tick 287.5   sec/kimg 71.32   maintenance 0.0    gpumem 7.3   augment 0.298\n",
            "tick 66    kimg 266.2    time 6h 58m 41s   sec/tick 288.1   sec/kimg 71.46   maintenance 0.0    gpumem 7.3   augment 0.304\n",
            "tick 67    kimg 270.2    time 7h 03m 29s   sec/tick 288.2   sec/kimg 71.49   maintenance 0.0    gpumem 7.3   augment 0.307\n",
            "tick 68    kimg 274.2    time 7h 08m 17s   sec/tick 288.1   sec/kimg 71.46   maintenance 0.0    gpumem 7.3   augment 0.310\n",
            "tick 69    kimg 278.3    time 7h 13m 05s   sec/tick 287.7   sec/kimg 71.36   maintenance 0.0    gpumem 7.3   augment 0.314\n"
          ]
        }
      ]
    }
  ],
  "metadata": {
    "accelerator": "GPU",
    "colab": {
      "collapsed_sections": [],
      "name": "Style2tensorflow.ipynb",
      "provenance": []
    },
    "kernelspec": {
      "display_name": "Python 3 (ipykernel)",
      "language": "python",
      "name": "python3"
    },
    "language_info": {
      "codemirror_mode": {
        "name": "ipython",
        "version": 3
      },
      "file_extension": ".py",
      "mimetype": "text/x-python",
      "name": "python",
      "nbconvert_exporter": "python",
      "pygments_lexer": "ipython3",
      "version": "3.9.5"
    },
    "widgets": {
      "application/vnd.jupyter.widget-state+json": {
        "482ffb649f794ee0937e156058b862dd": {
          "model_module": "@jupyter-widgets/controls",
          "model_name": "HBoxModel",
          "model_module_version": "1.5.0",
          "state": {
            "_view_name": "HBoxView",
            "_dom_classes": [],
            "_model_name": "HBoxModel",
            "_view_module": "@jupyter-widgets/controls",
            "_model_module_version": "1.5.0",
            "_view_count": null,
            "_view_module_version": "1.5.0",
            "box_style": "",
            "layout": "IPY_MODEL_5f2df56759e14c33a1ae694f338e30a3",
            "_model_module": "@jupyter-widgets/controls",
            "children": [
              "IPY_MODEL_0c57e2727d474c8cadac7a2be245f29c",
              "IPY_MODEL_1c67b911965f452eb82868052c28e08a",
              "IPY_MODEL_b6080fab57ee47248f832a9b09e1f23c"
            ]
          }
        },
        "5f2df56759e14c33a1ae694f338e30a3": {
          "model_module": "@jupyter-widgets/base",
          "model_name": "LayoutModel",
          "model_module_version": "1.2.0",
          "state": {
            "_view_name": "LayoutView",
            "grid_template_rows": null,
            "right": null,
            "justify_content": null,
            "_view_module": "@jupyter-widgets/base",
            "overflow": null,
            "_model_module_version": "1.2.0",
            "_view_count": null,
            "flex_flow": null,
            "width": null,
            "min_width": null,
            "border": null,
            "align_items": null,
            "bottom": null,
            "_model_module": "@jupyter-widgets/base",
            "top": null,
            "grid_column": null,
            "overflow_y": null,
            "overflow_x": null,
            "grid_auto_flow": null,
            "grid_area": null,
            "grid_template_columns": null,
            "flex": null,
            "_model_name": "LayoutModel",
            "justify_items": null,
            "grid_row": null,
            "max_height": null,
            "align_content": null,
            "visibility": null,
            "align_self": null,
            "height": null,
            "min_height": null,
            "padding": null,
            "grid_auto_rows": null,
            "grid_gap": null,
            "max_width": null,
            "order": null,
            "_view_module_version": "1.2.0",
            "grid_template_areas": null,
            "object_position": null,
            "object_fit": null,
            "grid_auto_columns": null,
            "margin": null,
            "display": null,
            "left": null
          }
        },
        "0c57e2727d474c8cadac7a2be245f29c": {
          "model_module": "@jupyter-widgets/controls",
          "model_name": "HTMLModel",
          "model_module_version": "1.5.0",
          "state": {
            "_view_name": "HTMLView",
            "style": "IPY_MODEL_3fb638fc54d44622846c64293957ebb1",
            "_dom_classes": [],
            "description": "",
            "_model_name": "HTMLModel",
            "placeholder": "​",
            "_view_module": "@jupyter-widgets/controls",
            "_model_module_version": "1.5.0",
            "value": "100%",
            "_view_count": null,
            "_view_module_version": "1.5.0",
            "description_tooltip": null,
            "_model_module": "@jupyter-widgets/controls",
            "layout": "IPY_MODEL_a241891a2ce54ce0838c512dfa7fb457"
          }
        },
        "1c67b911965f452eb82868052c28e08a": {
          "model_module": "@jupyter-widgets/controls",
          "model_name": "FloatProgressModel",
          "model_module_version": "1.5.0",
          "state": {
            "_view_name": "ProgressView",
            "style": "IPY_MODEL_070530f9e52e4f049538727bf60e5c27",
            "_dom_classes": [],
            "description": "",
            "_model_name": "FloatProgressModel",
            "bar_style": "success",
            "max": 2281,
            "_view_module": "@jupyter-widgets/controls",
            "_model_module_version": "1.5.0",
            "value": 2281,
            "_view_count": null,
            "_view_module_version": "1.5.0",
            "orientation": "horizontal",
            "min": 0,
            "description_tooltip": null,
            "_model_module": "@jupyter-widgets/controls",
            "layout": "IPY_MODEL_46d98cb19e264cfd88d724f746e0086e"
          }
        },
        "b6080fab57ee47248f832a9b09e1f23c": {
          "model_module": "@jupyter-widgets/controls",
          "model_name": "HTMLModel",
          "model_module_version": "1.5.0",
          "state": {
            "_view_name": "HTMLView",
            "style": "IPY_MODEL_ad58ea2d88fe4697a832b0eff633090d",
            "_dom_classes": [],
            "description": "",
            "_model_name": "HTMLModel",
            "placeholder": "​",
            "_view_module": "@jupyter-widgets/controls",
            "_model_module_version": "1.5.0",
            "value": " 2281/2281 [00:03&lt;00:00, 1027.91it/s]",
            "_view_count": null,
            "_view_module_version": "1.5.0",
            "description_tooltip": null,
            "_model_module": "@jupyter-widgets/controls",
            "layout": "IPY_MODEL_377316900fc44e21bb3868f9f2f90d90"
          }
        },
        "3fb638fc54d44622846c64293957ebb1": {
          "model_module": "@jupyter-widgets/controls",
          "model_name": "DescriptionStyleModel",
          "model_module_version": "1.5.0",
          "state": {
            "_view_name": "StyleView",
            "_model_name": "DescriptionStyleModel",
            "description_width": "",
            "_view_module": "@jupyter-widgets/base",
            "_model_module_version": "1.5.0",
            "_view_count": null,
            "_view_module_version": "1.2.0",
            "_model_module": "@jupyter-widgets/controls"
          }
        },
        "a241891a2ce54ce0838c512dfa7fb457": {
          "model_module": "@jupyter-widgets/base",
          "model_name": "LayoutModel",
          "model_module_version": "1.2.0",
          "state": {
            "_view_name": "LayoutView",
            "grid_template_rows": null,
            "right": null,
            "justify_content": null,
            "_view_module": "@jupyter-widgets/base",
            "overflow": null,
            "_model_module_version": "1.2.0",
            "_view_count": null,
            "flex_flow": null,
            "width": null,
            "min_width": null,
            "border": null,
            "align_items": null,
            "bottom": null,
            "_model_module": "@jupyter-widgets/base",
            "top": null,
            "grid_column": null,
            "overflow_y": null,
            "overflow_x": null,
            "grid_auto_flow": null,
            "grid_area": null,
            "grid_template_columns": null,
            "flex": null,
            "_model_name": "LayoutModel",
            "justify_items": null,
            "grid_row": null,
            "max_height": null,
            "align_content": null,
            "visibility": null,
            "align_self": null,
            "height": null,
            "min_height": null,
            "padding": null,
            "grid_auto_rows": null,
            "grid_gap": null,
            "max_width": null,
            "order": null,
            "_view_module_version": "1.2.0",
            "grid_template_areas": null,
            "object_position": null,
            "object_fit": null,
            "grid_auto_columns": null,
            "margin": null,
            "display": null,
            "left": null
          }
        },
        "070530f9e52e4f049538727bf60e5c27": {
          "model_module": "@jupyter-widgets/controls",
          "model_name": "ProgressStyleModel",
          "model_module_version": "1.5.0",
          "state": {
            "_view_name": "StyleView",
            "_model_name": "ProgressStyleModel",
            "description_width": "",
            "_view_module": "@jupyter-widgets/base",
            "_model_module_version": "1.5.0",
            "_view_count": null,
            "_view_module_version": "1.2.0",
            "bar_color": null,
            "_model_module": "@jupyter-widgets/controls"
          }
        },
        "46d98cb19e264cfd88d724f746e0086e": {
          "model_module": "@jupyter-widgets/base",
          "model_name": "LayoutModel",
          "model_module_version": "1.2.0",
          "state": {
            "_view_name": "LayoutView",
            "grid_template_rows": null,
            "right": null,
            "justify_content": null,
            "_view_module": "@jupyter-widgets/base",
            "overflow": null,
            "_model_module_version": "1.2.0",
            "_view_count": null,
            "flex_flow": null,
            "width": null,
            "min_width": null,
            "border": null,
            "align_items": null,
            "bottom": null,
            "_model_module": "@jupyter-widgets/base",
            "top": null,
            "grid_column": null,
            "overflow_y": null,
            "overflow_x": null,
            "grid_auto_flow": null,
            "grid_area": null,
            "grid_template_columns": null,
            "flex": null,
            "_model_name": "LayoutModel",
            "justify_items": null,
            "grid_row": null,
            "max_height": null,
            "align_content": null,
            "visibility": null,
            "align_self": null,
            "height": null,
            "min_height": null,
            "padding": null,
            "grid_auto_rows": null,
            "grid_gap": null,
            "max_width": null,
            "order": null,
            "_view_module_version": "1.2.0",
            "grid_template_areas": null,
            "object_position": null,
            "object_fit": null,
            "grid_auto_columns": null,
            "margin": null,
            "display": null,
            "left": null
          }
        },
        "ad58ea2d88fe4697a832b0eff633090d": {
          "model_module": "@jupyter-widgets/controls",
          "model_name": "DescriptionStyleModel",
          "model_module_version": "1.5.0",
          "state": {
            "_view_name": "StyleView",
            "_model_name": "DescriptionStyleModel",
            "description_width": "",
            "_view_module": "@jupyter-widgets/base",
            "_model_module_version": "1.5.0",
            "_view_count": null,
            "_view_module_version": "1.2.0",
            "_model_module": "@jupyter-widgets/controls"
          }
        },
        "377316900fc44e21bb3868f9f2f90d90": {
          "model_module": "@jupyter-widgets/base",
          "model_name": "LayoutModel",
          "model_module_version": "1.2.0",
          "state": {
            "_view_name": "LayoutView",
            "grid_template_rows": null,
            "right": null,
            "justify_content": null,
            "_view_module": "@jupyter-widgets/base",
            "overflow": null,
            "_model_module_version": "1.2.0",
            "_view_count": null,
            "flex_flow": null,
            "width": null,
            "min_width": null,
            "border": null,
            "align_items": null,
            "bottom": null,
            "_model_module": "@jupyter-widgets/base",
            "top": null,
            "grid_column": null,
            "overflow_y": null,
            "overflow_x": null,
            "grid_auto_flow": null,
            "grid_area": null,
            "grid_template_columns": null,
            "flex": null,
            "_model_name": "LayoutModel",
            "justify_items": null,
            "grid_row": null,
            "max_height": null,
            "align_content": null,
            "visibility": null,
            "align_self": null,
            "height": null,
            "min_height": null,
            "padding": null,
            "grid_auto_rows": null,
            "grid_gap": null,
            "max_width": null,
            "order": null,
            "_view_module_version": "1.2.0",
            "grid_template_areas": null,
            "object_position": null,
            "object_fit": null,
            "grid_auto_columns": null,
            "margin": null,
            "display": null,
            "left": null
          }
        }
      }
    }
  },
  "nbformat": 4,
  "nbformat_minor": 0
}