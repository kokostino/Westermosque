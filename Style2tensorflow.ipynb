{
  "cells": [
    {
      "cell_type": "markdown",
      "metadata": {
        "id": "9r4UQEzphrBC"
      },
      "source": [
        "<a href=\"https://colab.research.google.com/github/jeffheaton/present/blob/master/youtube/gan/colab_gan_train.ipynb\" target=\"_parent\"><img src=\"https://colab.research.google.com/assets/colab-badge.svg\" alt=\"Open In Colab\"/></a>"
      ]
    },
    {
      "cell_type": "markdown",
      "metadata": {
        "id": "_9qbVplkZYjp"
      },
      "source": [
        "\n"
      ]
    },
    {
      "cell_type": "code",
      "execution_count": 1,
      "metadata": {
        "colab": {
          "base_uri": "https://localhost:8080/"
        },
        "id": "iPrGcTX8c7E-",
        "outputId": "08ff238a-28df-4cc6-ec4f-4498d9506b06"
      },
      "outputs": [
        {
          "output_type": "stream",
          "name": "stdout",
          "text": [
            "Thu Apr  7 16:48:31 2022       \n",
            "+-----------------------------------------------------------------------------+\n",
            "| NVIDIA-SMI 460.32.03    Driver Version: 460.32.03    CUDA Version: 11.2     |\n",
            "|-------------------------------+----------------------+----------------------+\n",
            "| GPU  Name        Persistence-M| Bus-Id        Disp.A | Volatile Uncorr. ECC |\n",
            "| Fan  Temp  Perf  Pwr:Usage/Cap|         Memory-Usage | GPU-Util  Compute M. |\n",
            "|                               |                      |               MIG M. |\n",
            "|===============================+======================+======================|\n",
            "|   0  Tesla T4            Off  | 00000000:00:04.0 Off |                    0 |\n",
            "| N/A   35C    P8     9W /  70W |      0MiB / 15109MiB |      0%      Default |\n",
            "|                               |                      |                  N/A |\n",
            "+-------------------------------+----------------------+----------------------+\n",
            "                                                                               \n",
            "+-----------------------------------------------------------------------------+\n",
            "| Processes:                                                                  |\n",
            "|  GPU   GI   CI        PID   Type   Process name                  GPU Memory |\n",
            "|        ID   ID                                                   Usage      |\n",
            "|=============================================================================|\n",
            "|  No running processes found                                                 |\n",
            "+-----------------------------------------------------------------------------+\n"
          ]
        }
      ],
      "source": [
        "!nvidia-smi"
      ]
    },
    {
      "cell_type": "markdown",
      "metadata": {
        "id": "wzWrFN_tGV-Y"
      },
      "source": [
        "# Set Up New Environment\n",
        "\n",
        "You will likely need to train for >24 hours.  Colab will disconnect you.  You must be prepared to restart training when this eventually happens.  Training is divided into ticks, every so many ticks (50 by default) your neural network is evaluated and a snapshot is saved.  When CoLab shuts down, all training after the last snapshot is lost. It might seem desirable to snapshot after each tick; however, this snapshotting process itself takes nearly an hour.  It is important to learn an optimal snapshot size for your resolution and training data.\n",
        "\n",
        "We will mount GDRIVE so that your snapshots are saved there.  You must also place your training images in GDRIVE."
      ]
    },
    {
      "cell_type": "code",
      "execution_count": 2,
      "metadata": {
        "colab": {
          "base_uri": "https://localhost:8080/"
        },
        "id": "uxs1j1bk_fwj",
        "outputId": "248e6c84-21b5-4e92-9223-3a08d913b66e"
      },
      "outputs": [
        {
          "output_type": "stream",
          "name": "stdout",
          "text": [
            "Mounted at /content/drive\n",
            "Note: using Google CoLab\n"
          ]
        }
      ],
      "source": [
        "try:\n",
        "    from google.colab import drive\n",
        "    drive.mount('/content/drive', force_remount=True)\n",
        "    COLAB = True\n",
        "    print(\"Note: using Google CoLab\")\n",
        "except:\n",
        "    print(\"Note: not using Google CoLab\")\n",
        "    COLAB = False"
      ]
    },
    {
      "cell_type": "code",
      "execution_count": 3,
      "metadata": {
        "colab": {
          "base_uri": "https://localhost:8080/"
        },
        "id": "EzlrpBSnsA0r",
        "outputId": "50fd7339-6752-4b10-f9d6-76b81b96b8ab"
      },
      "outputs": [
        {
          "output_type": "stream",
          "name": "stdout",
          "text": [
            "Python 3.7.13\n"
          ]
        }
      ],
      "source": [
        "!python --version"
      ]
    },
    {
      "cell_type": "markdown",
      "metadata": {
        "id": "X41Ll0WtYqB0"
      },
      "source": [
        "You must also install NVIDIA StyleGAN2 ADA PyTorch.  We also need to downgrade PyTorch to a version that supports StyleGAN."
      ]
    },
    {
      "cell_type": "code",
      "execution_count": 43,
      "metadata": {
        "colab": {
          "base_uri": "https://localhost:8080/",
          "height": 929
        },
        "id": "uNqsi6VWAlWo",
        "outputId": "be4581f8-682a-4446-ec64-3dea9fa71aa8"
      },
      "outputs": [
        {
          "output_type": "stream",
          "name": "stdout",
          "text": [
            "Requirement already satisfied: numpy==1.16.4 in /usr/local/lib/python3.7/dist-packages (1.16.4)\n",
            "Requirement already satisfied: tensorflow-gpu==1.14 in /usr/local/lib/python3.7/dist-packages (1.14.0)\n",
            "Requirement already satisfied: protobuf>=3.6.1 in /usr/local/lib/python3.7/dist-packages (from tensorflow-gpu==1.14) (3.17.3)\n",
            "Requirement already satisfied: keras-preprocessing>=1.0.5 in /usr/local/lib/python3.7/dist-packages (from tensorflow-gpu==1.14) (1.1.2)\n",
            "Requirement already satisfied: numpy<2.0,>=1.14.5 in /usr/local/lib/python3.7/dist-packages (from tensorflow-gpu==1.14) (1.16.4)\n",
            "Requirement already satisfied: wrapt>=1.11.1 in /usr/local/lib/python3.7/dist-packages (from tensorflow-gpu==1.14) (1.14.0)\n",
            "Requirement already satisfied: grpcio>=1.8.6 in /usr/local/lib/python3.7/dist-packages (from tensorflow-gpu==1.14) (1.44.0)\n",
            "Requirement already satisfied: six>=1.10.0 in /usr/local/lib/python3.7/dist-packages (from tensorflow-gpu==1.14) (1.15.0)\n",
            "Requirement already satisfied: termcolor>=1.1.0 in /usr/local/lib/python3.7/dist-packages (from tensorflow-gpu==1.14) (1.1.0)\n",
            "Requirement already satisfied: astor>=0.6.0 in /usr/local/lib/python3.7/dist-packages (from tensorflow-gpu==1.14) (0.8.1)\n",
            "Requirement already satisfied: gast>=0.2.0 in /usr/local/lib/python3.7/dist-packages (from tensorflow-gpu==1.14) (0.5.3)\n",
            "Requirement already satisfied: google-pasta>=0.1.6 in /usr/local/lib/python3.7/dist-packages (from tensorflow-gpu==1.14) (0.2.0)\n",
            "Requirement already satisfied: keras-applications>=1.0.6 in /tensorflow-1.15.2/python3.7 (from tensorflow-gpu==1.14) (1.0.8)\n",
            "Requirement already satisfied: wheel>=0.26 in /usr/local/lib/python3.7/dist-packages (from tensorflow-gpu==1.14) (0.37.1)\n",
            "Collecting tensorflow-estimator<1.15.0rc0,>=1.14.0rc0\n",
            "  Using cached tensorflow_estimator-1.14.0-py2.py3-none-any.whl (488 kB)\n",
            "Requirement already satisfied: absl-py>=0.7.0 in /usr/local/lib/python3.7/dist-packages (from tensorflow-gpu==1.14) (1.0.0)\n",
            "Collecting tensorboard<1.15.0,>=1.14.0\n",
            "  Using cached tensorboard-1.14.0-py3-none-any.whl (3.1 MB)\n",
            "Requirement already satisfied: h5py in /usr/local/lib/python3.7/dist-packages (from keras-applications>=1.0.6->tensorflow-gpu==1.14) (3.1.0)\n",
            "Requirement already satisfied: markdown>=2.6.8 in /usr/local/lib/python3.7/dist-packages (from tensorboard<1.15.0,>=1.14.0->tensorflow-gpu==1.14) (3.3.6)\n",
            "Requirement already satisfied: setuptools>=41.0.0 in /usr/local/lib/python3.7/dist-packages (from tensorboard<1.15.0,>=1.14.0->tensorflow-gpu==1.14) (57.4.0)\n",
            "Requirement already satisfied: werkzeug>=0.11.15 in /usr/local/lib/python3.7/dist-packages (from tensorboard<1.15.0,>=1.14.0->tensorflow-gpu==1.14) (1.0.1)\n",
            "Requirement already satisfied: importlib-metadata>=4.4 in /usr/local/lib/python3.7/dist-packages (from markdown>=2.6.8->tensorboard<1.15.0,>=1.14.0->tensorflow-gpu==1.14) (4.11.3)\n",
            "Requirement already satisfied: typing-extensions>=3.6.4 in /usr/local/lib/python3.7/dist-packages (from importlib-metadata>=4.4->markdown>=2.6.8->tensorboard<1.15.0,>=1.14.0->tensorflow-gpu==1.14) (3.10.0.2)\n",
            "Requirement already satisfied: zipp>=0.5 in /usr/local/lib/python3.7/dist-packages (from importlib-metadata>=4.4->markdown>=2.6.8->tensorboard<1.15.0,>=1.14.0->tensorflow-gpu==1.14) (3.7.0)\n",
            "Requirement already satisfied: cached-property in /usr/local/lib/python3.7/dist-packages (from h5py->keras-applications>=1.0.6->tensorflow-gpu==1.14) (1.5.2)\n",
            "Installing collected packages: tensorflow-estimator, tensorboard\n",
            "  Attempting uninstall: tensorflow-estimator\n",
            "    Found existing installation: tensorflow-estimator 1.15.1\n",
            "    Uninstalling tensorflow-estimator-1.15.1:\n",
            "      Successfully uninstalled tensorflow-estimator-1.15.1\n",
            "  Attempting uninstall: tensorboard\n",
            "    Found existing installation: tensorboard 1.15.0\n",
            "    Uninstalling tensorboard-1.15.0:\n",
            "      Successfully uninstalled tensorboard-1.15.0\n",
            "\u001b[31mERROR: pip's dependency resolver does not currently take into account all the packages that are installed. This behaviour is the source of the following dependency conflicts.\n",
            "tensorflow 1.15.2 requires gast==0.2.2, but you have gast 0.5.3 which is incompatible.\n",
            "tensorflow 1.15.2 requires tensorboard<1.16.0,>=1.15.0, but you have tensorboard 1.14.0 which is incompatible.\n",
            "tensorflow 1.15.2 requires tensorflow-estimator==1.15.1, but you have tensorflow-estimator 1.14.0 which is incompatible.\n",
            "kapre 0.3.7 requires numpy>=1.18.5, but you have numpy 1.16.4 which is incompatible.\n",
            "kapre 0.3.7 requires tensorflow>=2.0.0, but you have tensorflow 1.15.2 which is incompatible.\u001b[0m\n",
            "Successfully installed tensorboard-1.14.0 tensorflow-estimator-1.14.0\n"
          ]
        },
        {
          "output_type": "display_data",
          "data": {
            "application/vnd.colab-display-data+json": {
              "pip_warning": {
                "packages": [
                  "tensorboard",
                  "tensorflow_estimator"
                ]
              }
            }
          },
          "metadata": {}
        },
        {
          "output_type": "stream",
          "name": "stdout",
          "text": [
            "fatal: destination path 'stylegan2-ada' already exists and is not an empty directory.\n",
            "Requirement already satisfied: ninja in /usr/local/lib/python3.7/dist-packages (1.10.2.3)\n"
          ]
        }
      ],
      "source": [
        "!pip install numpy==1.16.4\n",
        "!pip install tensorflow-gpu==1.14\n",
        "#!pip install conda\n",
        "#!conda install tensorflow-gpu==1.14\n",
        "#!git clone https://github.com/NVlabs/stylegan2-ada\n",
        "!git clone https://github.com/kokostino/stylegan2-ada\n",
        "!pip install ninja"
      ]
    },
    {
      "cell_type": "markdown",
      "metadata": {
        "id": "_snJl4FEGi4w"
      },
      "source": [
        "# Find Your Files\n",
        "\n",
        "The drive is mounted to the following location.\n",
        "\n",
        "```\n",
        "/content/drive/MyDrive/data\n",
        "```\n",
        "\n",
        "It might be helpful to use an ```ls``` command to establish the exact path for your images."
      ]
    },
    {
      "cell_type": "code",
      "execution_count": null,
      "metadata": {
        "id": "LGdFfTSXBBr5"
      },
      "outputs": [],
      "source": [
        "#!ls /content/drive/MyDrive/data/gan/images"
      ]
    },
    {
      "cell_type": "markdown",
      "metadata": {
        "id": "JXAgXh8uGo13"
      },
      "source": [
        "# Convert Your Images"
      ]
    },
    {
      "cell_type": "code",
      "execution_count": 7,
      "metadata": {
        "colab": {
          "base_uri": "https://localhost:8080/"
        },
        "id": "axb7EQHYWglJ",
        "outputId": "f59c9be2-4a7a-47b4-d42d-b8e7d9f0901f"
      },
      "outputs": [
        {
          "output_type": "stream",
          "name": "stdout",
          "text": [
            "TensorFlow 1.x selected.\n"
          ]
        }
      ],
      "source": [
        "%tensorflow_version 1.x\n",
        "import tensorflow as tf\n",
        "#import os\n",
        "#os.getcwd()\n",
        "#sess = tf.Session()"
      ]
    },
    {
      "cell_type": "code",
      "execution_count": null,
      "metadata": {
        "colab": {
          "base_uri": "https://localhost:8080/"
        },
        "id": "lYP2NlwHA6r9",
        "outputId": "aeb0a797-5a2c-48f6-fcf0-6f003e538f3d"
      },
      "outputs": [
        {
          "name": "stdout",
          "output_type": "stream",
          "text": [
            "Loading images from \"/content/drive/MyDrive/data/gan/images\"\n",
            "Creating dataset \"/content/drive/MyDrive/data/gan/dataset\"\n",
            "Added 2280 images.\n"
          ]
        }
      ],
      "source": [
        "!python /content/stylegan2-ada/dataset_tool.py create_from_images /content/drive/MyDrive/data/gan/dataset /content/drive/MyDrive/data/gan/images"
      ]
    },
    {
      "cell_type": "code",
      "execution_count": null,
      "metadata": {
        "colab": {
          "base_uri": "https://localhost:8080/"
        },
        "id": "hU8rFbgPhi4k",
        "outputId": "c7f622d7-60f6-47d7-cacd-22abef0ed439"
      },
      "outputs": [
        {
          "name": "stdout",
          "output_type": "stream",
          "text": [
            "Loading dataset \"/content/drive/MyDrive/data/gan/dataset\"\n",
            "Displaying images\n",
            ": cannot connect to X server \n"
          ]
        }
      ],
      "source": [
        "!python /content/stylegan2-ada/dataset_tool.py display /content/drive/MyDrive/data/gan/dataset"
      ]
    },
    {
      "cell_type": "markdown",
      "metadata": {
        "id": "otsNELpn8_2D"
      },
      "source": [
        "The following command can be used to clear out the newly created dataset.  If something goes wrong and you need to clean up your images and rerun the above command, you should delete your partially created dataset directory."
      ]
    },
    {
      "cell_type": "code",
      "execution_count": null,
      "metadata": {
        "id": "ctdqmU96BhB3"
      },
      "outputs": [],
      "source": [
        "!rm -R /content/drive/MyDrive/data/gan/dataset/*"
      ]
    },
    {
      "cell_type": "markdown",
      "metadata": {
        "id": "xmSOo3HvGwgV"
      },
      "source": [
        "# Clean Up your Images\n",
        "\n",
        "It is important that all images have the same dimensions and color depth.  This code can identify images that have issues."
      ]
    },
    {
      "cell_type": "code",
      "execution_count": null,
      "metadata": {
        "colab": {
          "base_uri": "https://localhost:8080/",
          "height": 66,
          "referenced_widgets": [
            "482ffb649f794ee0937e156058b862dd",
            "0c57e2727d474c8cadac7a2be245f29c",
            "1c67b911965f452eb82868052c28e08a",
            "b6080fab57ee47248f832a9b09e1f23c",
            "5f2df56759e14c33a1ae694f338e30a3",
            "a241891a2ce54ce0838c512dfa7fb457",
            "3fb638fc54d44622846c64293957ebb1",
            "46d98cb19e264cfd88d724f746e0086e",
            "070530f9e52e4f049538727bf60e5c27",
            "377316900fc44e21bb3868f9f2f90d90",
            "ad58ea2d88fe4697a832b0eff633090d"
          ]
        },
        "id": "FLKBUUfXHJ0a",
        "outputId": "5a807081-a037-423e-cd96-a82318a96ff2"
      },
      "outputs": [
        {
          "data": {
            "application/vnd.jupyter.widget-view+json": {
              "model_id": "482ffb649f794ee0937e156058b862dd",
              "version_major": 2,
              "version_minor": 0
            },
            "text/plain": [
              "  0%|          | 0/2281 [00:00<?, ?it/s]"
            ]
          },
          "metadata": {},
          "output_type": "display_data"
        },
        {
          "name": "stdout",
          "output_type": "stream",
          "text": [
            "Inconsistant color format: /content/drive/MyDrive/data/gan/images/Screenshot_20210627-215429.png\n"
          ]
        }
      ],
      "source": [
        "from os import listdir\n",
        "from os.path import isfile, join\n",
        "import os\n",
        "from PIL import Image\n",
        "from tqdm.notebook import tqdm\n",
        "\n",
        "IMAGE_PATH = '/content/drive/MyDrive/data/gan/images'\n",
        "files = [f for f in listdir(IMAGE_PATH) if isfile(join(IMAGE_PATH, f))]\n",
        "\n",
        "base_size = None\n",
        "for file in tqdm(files):\n",
        "  file2 = os.path.join(IMAGE_PATH,file)\n",
        "  img = Image.open(file2)\n",
        "  sz = img.size\n",
        "  if base_size and sz!=base_size:\n",
        "    print(f\"Inconsistant size: {file2}\")\n",
        "  elif img.mode!='RGB':\n",
        "    print(f\"Inconsistant color format: {file2}\")\n",
        "  else:\n",
        "    base_size = sz\n"
      ]
    },
    {
      "cell_type": "markdown",
      "metadata": {
        "id": "5No-bokaG5Ed"
      },
      "source": [
        "# Perform Initial Training"
      ]
    },
    {
      "cell_type": "code",
      "execution_count": null,
      "metadata": {
        "colab": {
          "base_uri": "https://localhost:8080/"
        },
        "id": "b9IWfeBJj_nT",
        "outputId": "7dfdcbd7-04a8-48f3-ba28-ca2b3d648f77"
      },
      "outputs": [
        {
          "name": "stdout",
          "output_type": "stream",
          "text": [
            "CPU says hello.\n",
            "GPU says hello.\n"
          ]
        }
      ],
      "source": [
        "!nvcc /content/stylegan2-ada/test_nvcc.cu -o /content/stylegan2-ada/test_nvcc -run"
      ]
    },
    {
      "cell_type": "code",
      "execution_count": null,
      "metadata": {
        "colab": {
          "base_uri": "https://localhost:8080/"
        },
        "id": "tzAdHMp7KLzz",
        "outputId": "f16eb0dd-06e2-440f-9845-ac335be4be6c"
      },
      "outputs": [
        {
          "name": "stdout",
          "output_type": "stream",
          "text": [
            "\n",
            "Training options:\n",
            "{\n",
            "  \"G_args\": {\n",
            "    \"func_name\": \"training.networks.G_main\",\n",
            "    \"fmap_base\": 8192,\n",
            "    \"fmap_max\": 512,\n",
            "    \"mapping_layers\": 2,\n",
            "    \"num_fp16_res\": 4,\n",
            "    \"conv_clamp\": 256\n",
            "  },\n",
            "  \"D_args\": {\n",
            "    \"func_name\": \"training.networks.D_main\",\n",
            "    \"mbstd_group_size\": 4,\n",
            "    \"fmap_base\": 8192,\n",
            "    \"fmap_max\": 512,\n",
            "    \"num_fp16_res\": 4,\n",
            "    \"conv_clamp\": 256\n",
            "  },\n",
            "  \"G_opt_args\": {\n",
            "    \"beta1\": 0.0,\n",
            "    \"beta2\": 0.99,\n",
            "    \"learning_rate\": 0.0025\n",
            "  },\n",
            "  \"D_opt_args\": {\n",
            "    \"beta1\": 0.0,\n",
            "    \"beta2\": 0.99,\n",
            "    \"learning_rate\": 0.0025\n",
            "  },\n",
            "  \"loss_args\": {\n",
            "    \"func_name\": \"training.loss.stylegan2\",\n",
            "    \"r1_gamma\": 0.8192\n",
            "  },\n",
            "  \"augment_args\": {\n",
            "    \"class_name\": \"training.augment.AdaptiveAugment\",\n",
            "    \"tune_heuristic\": \"rt\",\n",
            "    \"tune_target\": 0.6,\n",
            "    \"apply_func\": \"training.augment.augment_pipeline\",\n",
            "    \"apply_args\": {\n",
            "      \"xflip\": 1,\n",
            "      \"rotate90\": 1,\n",
            "      \"xint\": 1,\n",
            "      \"scale\": 1,\n",
            "      \"rotate\": 1,\n",
            "      \"aniso\": 1,\n",
            "      \"xfrac\": 1,\n",
            "      \"brightness\": 1,\n",
            "      \"contrast\": 1,\n",
            "      \"lumaflip\": 1,\n",
            "      \"hue\": 1,\n",
            "      \"saturation\": 1\n",
            "    }\n",
            "  },\n",
            "  \"num_gpus\": 1,\n",
            "  \"image_snapshot_ticks\": 25,\n",
            "  \"network_snapshot_ticks\": 25,\n",
            "  \"train_dataset_args\": {\n",
            "    \"path\": \"/content/drive/MyDrive/data/gan/dataset\",\n",
            "    \"max_label_size\": 0,\n",
            "    \"resolution\": 256,\n",
            "    \"mirror_augment\": true\n",
            "  },\n",
            "  \"metric_arg_list\": [\n",
            "    {\n",
            "      \"name\": \"fid50k_full\",\n",
            "      \"class_name\": \"metrics.frechet_inception_distance.FID\",\n",
            "      \"max_reals\": null,\n",
            "      \"num_fakes\": 50000,\n",
            "      \"minibatch_per_gpu\": 8,\n",
            "      \"force_dataset_args\": {\n",
            "        \"shuffle\": false,\n",
            "        \"max_images\": null,\n",
            "        \"repeat\": false,\n",
            "        \"mirror_augment\": false\n",
            "      }\n",
            "    }\n",
            "  ],\n",
            "  \"metric_dataset_args\": {\n",
            "    \"path\": \"/content/drive/MyDrive/data/gan/dataset\",\n",
            "    \"max_label_size\": 0,\n",
            "    \"resolution\": 256,\n",
            "    \"mirror_augment\": true\n",
            "  },\n",
            "  \"total_kimg\": 25000,\n",
            "  \"minibatch_size\": 16,\n",
            "  \"minibatch_gpu\": 16,\n",
            "  \"G_smoothing_kimg\": 5.0,\n",
            "  \"G_smoothing_rampup\": 0.05,\n",
            "  \"run_dir\": \"/content/drive/MyDrive/data/gan/experiments/00000-dataset-mirror-auto1\"\n",
            "}\n",
            "\n",
            "Output directory:  /content/drive/MyDrive/data/gan/experiments/00000-dataset-mirror-auto1\n",
            "Training data:     /content/drive/MyDrive/data/gan/dataset\n",
            "Training length:   25000 kimg\n",
            "Resolution:        256\n",
            "Number of GPUs:    1\n",
            "\n",
            "Creating output directory...\n",
            "Loading training set...\n",
            "Image shape: [3, 256, 256]\n",
            "Label shape: [0]\n",
            "\n",
            "Constructing networks...\n",
            "Setting up TensorFlow plugin \"fused_bias_act.cu\": Compiling... Loading... Done.\n",
            "Setting up TensorFlow plugin \"upfirdn_2d.cu\": Compiling... Loading... Done.\n",
            "\n",
            "G                             Params    OutputShape         WeightShape     \n",
            "---                           ---       ---                 ---             \n",
            "latents_in                    -         (?, 512)            -               \n",
            "labels_in                     -         (?, 0)              -               \n",
            "G_mapping/Normalize           -         (?, 512)            -               \n",
            "G_mapping/Dense0              262656    (?, 512)            (512, 512)      \n",
            "G_mapping/Dense1              262656    (?, 512)            (512, 512)      \n",
            "G_mapping/Broadcast           -         (?, 14, 512)        -               \n",
            "dlatent_avg                   -         (512,)              -               \n",
            "Truncation/Lerp               -         (?, 14, 512)        -               \n",
            "G_synthesis/4x4/Const         8192      (?, 512, 4, 4)      (1, 512, 4, 4)  \n",
            "G_synthesis/4x4/Conv          2622465   (?, 512, 4, 4)      (3, 3, 512, 512)\n",
            "G_synthesis/4x4/ToRGB         264195    (?, 3, 4, 4)        (1, 1, 512, 3)  \n",
            "G_synthesis/8x8/Conv0_up      2622465   (?, 512, 8, 8)      (3, 3, 512, 512)\n",
            "G_synthesis/8x8/Conv1         2622465   (?, 512, 8, 8)      (3, 3, 512, 512)\n",
            "G_synthesis/8x8/Upsample      -         (?, 3, 8, 8)        -               \n",
            "G_synthesis/8x8/ToRGB         264195    (?, 3, 8, 8)        (1, 1, 512, 3)  \n",
            "G_synthesis/16x16/Conv0_up    2622465   (?, 512, 16, 16)    (3, 3, 512, 512)\n",
            "G_synthesis/16x16/Conv1       2622465   (?, 512, 16, 16)    (3, 3, 512, 512)\n",
            "G_synthesis/16x16/Upsample    -         (?, 3, 16, 16)      -               \n",
            "G_synthesis/16x16/ToRGB       264195    (?, 3, 16, 16)      (1, 1, 512, 3)  \n",
            "G_synthesis/32x32/Conv0_up    2622465   (?, 512, 32, 32)    (3, 3, 512, 512)\n",
            "G_synthesis/32x32/Conv1       2622465   (?, 512, 32, 32)    (3, 3, 512, 512)\n",
            "G_synthesis/32x32/Upsample    -         (?, 3, 32, 32)      -               \n",
            "G_synthesis/32x32/ToRGB       264195    (?, 3, 32, 32)      (1, 1, 512, 3)  \n",
            "G_synthesis/64x64/Conv0_up    1442561   (?, 256, 64, 64)    (3, 3, 512, 256)\n",
            "G_synthesis/64x64/Conv1       721409    (?, 256, 64, 64)    (3, 3, 256, 256)\n",
            "G_synthesis/64x64/Upsample    -         (?, 3, 64, 64)      -               \n",
            "G_synthesis/64x64/ToRGB       132099    (?, 3, 64, 64)      (1, 1, 256, 3)  \n",
            "G_synthesis/128x128/Conv0_up  426369    (?, 128, 128, 128)  (3, 3, 256, 128)\n",
            "G_synthesis/128x128/Conv1     213249    (?, 128, 128, 128)  (3, 3, 128, 128)\n",
            "G_synthesis/128x128/Upsample  -         (?, 3, 128, 128)    -               \n",
            "G_synthesis/128x128/ToRGB     66051     (?, 3, 128, 128)    (1, 1, 128, 3)  \n",
            "G_synthesis/256x256/Conv0_up  139457    (?, 64, 256, 256)   (3, 3, 128, 64) \n",
            "G_synthesis/256x256/Conv1     69761     (?, 64, 256, 256)   (3, 3, 64, 64)  \n",
            "G_synthesis/256x256/Upsample  -         (?, 3, 256, 256)    -               \n",
            "G_synthesis/256x256/ToRGB     33027     (?, 3, 256, 256)    (1, 1, 64, 3)   \n",
            "---                           ---       ---                 ---             \n",
            "Total                         23191522                                      \n",
            "\n",
            "\n",
            "D                    Params    OutputShape         WeightShape     \n",
            "---                  ---       ---                 ---             \n",
            "images_in            -         (?, 3, 256, 256)    -               \n",
            "labels_in            -         (?, 0)              -               \n",
            "256x256/FromRGB      256       (?, 64, 256, 256)   (1, 1, 3, 64)   \n",
            "256x256/Conv0        36928     (?, 64, 256, 256)   (3, 3, 64, 64)  \n",
            "256x256/Conv1_down   73856     (?, 128, 128, 128)  (3, 3, 64, 128) \n",
            "256x256/Skip         8192      (?, 128, 128, 128)  (1, 1, 64, 128) \n",
            "128x128/Conv0        147584    (?, 128, 128, 128)  (3, 3, 128, 128)\n",
            "128x128/Conv1_down   295168    (?, 256, 64, 64)    (3, 3, 128, 256)\n",
            "128x128/Skip         32768     (?, 256, 64, 64)    (1, 1, 128, 256)\n",
            "64x64/Conv0          590080    (?, 256, 64, 64)    (3, 3, 256, 256)\n",
            "64x64/Conv1_down     1180160   (?, 512, 32, 32)    (3, 3, 256, 512)\n",
            "64x64/Skip           131072    (?, 512, 32, 32)    (1, 1, 256, 512)\n",
            "32x32/Conv0          2359808   (?, 512, 32, 32)    (3, 3, 512, 512)\n",
            "32x32/Conv1_down     2359808   (?, 512, 16, 16)    (3, 3, 512, 512)\n",
            "32x32/Skip           262144    (?, 512, 16, 16)    (1, 1, 512, 512)\n",
            "16x16/Conv0          2359808   (?, 512, 16, 16)    (3, 3, 512, 512)\n",
            "16x16/Conv1_down     2359808   (?, 512, 8, 8)      (3, 3, 512, 512)\n",
            "16x16/Skip           262144    (?, 512, 8, 8)      (1, 1, 512, 512)\n",
            "8x8/Conv0            2359808   (?, 512, 8, 8)      (3, 3, 512, 512)\n",
            "8x8/Conv1_down       2359808   (?, 512, 4, 4)      (3, 3, 512, 512)\n",
            "8x8/Skip             262144    (?, 512, 4, 4)      (1, 1, 512, 512)\n",
            "4x4/MinibatchStddev  -         (?, 513, 4, 4)      -               \n",
            "4x4/Conv             2364416   (?, 512, 4, 4)      (3, 3, 513, 512)\n",
            "4x4/Dense0           4194816   (?, 512)            (8192, 512)     \n",
            "Output               513       (?, 1)              (512, 1)        \n",
            "---                  ---       ---                 ---             \n",
            "Total                24001089                                      \n",
            "\n",
            "Exporting sample images...\n",
            "Replicating networks across 1 GPUs...\n",
            "Initializing augmentations...\n",
            "Setting up optimizers...\n",
            "Constructing training graph...\n",
            "Finalizing training ops...\n",
            "Initializing metrics...\n",
            "Training for 25000 kimg...\n",
            "\n",
            "tick 0     kimg 0.1      time 2m 02s       sec/tick 22.7    sec/kimg 354.88  maintenance 99.2   gpumem 7.2   augment 0.000\n",
            "Evaluating metrics...\n",
            "Downloading https://nvlabs-fi-cdn.nvidia.com/stylegan2-ada/pretrained/metrics/inception_v3_features.pkl ... done\n",
            "Calculating real image statistics for fid50k_full...\n",
            "network-snapshot-000000        time 12m 37s      fid50k_full 327.5145\n",
            "tick 1     kimg 4.1      time 20m 39s      sec/tick 329.1   sec/kimg 81.63   maintenance 788.0  gpumem 7.2   augment 0.006\n",
            "tick 2     kimg 8.1      time 26m 08s      sec/tick 328.9   sec/kimg 81.58   maintenance 0.0    gpumem 7.2   augment 0.013\n",
            "tick 3     kimg 12.2     time 31m 38s      sec/tick 330.1   sec/kimg 81.88   maintenance 0.0    gpumem 7.2   augment 0.018\n",
            "tick 4     kimg 16.2     time 37m 09s      sec/tick 330.7   sec/kimg 82.01   maintenance 0.0    gpumem 7.2   augment 0.023\n",
            "tick 5     kimg 20.2     time 42m 41s      sec/tick 331.7   sec/kimg 82.28   maintenance 0.0    gpumem 7.2   augment 0.028\n",
            "tick 6     kimg 24.3     time 48m 13s      sec/tick 332.8   sec/kimg 82.54   maintenance 0.0    gpumem 7.2   augment 0.032\n",
            "tick 7     kimg 28.3     time 53m 46s      sec/tick 332.7   sec/kimg 82.53   maintenance 0.0    gpumem 7.2   augment 0.036\n",
            "tick 8     kimg 32.3     time 59m 20s      sec/tick 333.5   sec/kimg 82.71   maintenance 0.0    gpumem 7.2   augment 0.040\n",
            "tick 9     kimg 36.4     time 1h 04m 53s   sec/tick 333.5   sec/kimg 82.71   maintenance 0.0    gpumem 7.2   augment 0.041\n",
            "tick 10    kimg 40.4     time 1h 10m 27s   sec/tick 334.2   sec/kimg 82.89   maintenance 0.0    gpumem 7.2   augment 0.039\n",
            "tick 11    kimg 44.4     time 1h 16m 02s   sec/tick 334.2   sec/kimg 82.89   maintenance 0.0    gpumem 7.2   augment 0.037\n",
            "tick 12    kimg 48.4     time 1h 21m 36s   sec/tick 334.6   sec/kimg 82.99   maintenance 0.0    gpumem 7.2   augment 0.038\n",
            "tick 13    kimg 52.5     time 1h 27m 10s   sec/tick 334.1   sec/kimg 82.86   maintenance 0.0    gpumem 7.2   augment 0.039\n",
            "tick 14    kimg 56.5     time 1h 32m 46s   sec/tick 335.5   sec/kimg 83.20   maintenance 0.0    gpumem 7.2   augment 0.039\n",
            "tick 15    kimg 60.5     time 1h 38m 20s   sec/tick 334.4   sec/kimg 82.93   maintenance 0.0    gpumem 7.2   augment 0.039\n",
            "tick 16    kimg 64.6     time 1h 43m 56s   sec/tick 335.2   sec/kimg 83.15   maintenance 0.0    gpumem 7.2   augment 0.041\n",
            "tick 17    kimg 68.6     time 1h 49m 31s   sec/tick 335.0   sec/kimg 83.09   maintenance 0.0    gpumem 7.2   augment 0.045\n",
            "tick 18    kimg 72.6     time 1h 55m 06s   sec/tick 335.5   sec/kimg 83.22   maintenance 0.0    gpumem 7.2   augment 0.047\n",
            "tick 19    kimg 76.7     time 2h 00m 42s   sec/tick 335.6   sec/kimg 83.23   maintenance 0.0    gpumem 7.2   augment 0.050\n",
            "tick 20    kimg 80.7     time 2h 06m 17s   sec/tick 335.3   sec/kimg 83.17   maintenance 0.0    gpumem 7.2   augment 0.052\n",
            "tick 21    kimg 84.7     time 2h 11m 52s   sec/tick 335.2   sec/kimg 83.14   maintenance 0.0    gpumem 7.2   augment 0.054\n",
            "tick 22    kimg 88.8     time 2h 17m 28s   sec/tick 335.8   sec/kimg 83.28   maintenance 0.0    gpumem 7.2   augment 0.055\n",
            "tick 23    kimg 92.8     time 2h 23m 04s   sec/tick 335.4   sec/kimg 83.19   maintenance 0.0    gpumem 7.2   augment 0.057\n",
            "tick 24    kimg 96.8     time 2h 28m 39s   sec/tick 335.8   sec/kimg 83.29   maintenance 0.0    gpumem 7.2   augment 0.060\n",
            "tick 25    kimg 100.9    time 2h 34m 15s   sec/tick 335.5   sec/kimg 83.21   maintenance 0.0    gpumem 7.2   augment 0.063\n",
            "Evaluating metrics...\n"
          ]
        }
      ],
      "source": [
        "import os\n",
        "\n",
        "# Modify these to suit your needs\n",
        "EXPERIMENTS = \"/content/drive/MyDrive/data/gan/experiments\"\n",
        "DATA = \"/content/drive/MyDrive/data/gan/dataset\"\n",
        "SNAP = 25\n",
        "LOSS = 'wgangp'\n",
        "\n",
        "# Build the command and run it\n",
        "cmd = f\"/usr/bin/python3 /content/stylegan2-ada/train.py --snap {SNAP} --outdir {EXPERIMENTS} --data {DATA} --cmethod = {LOSS}\"\n",
        "!{cmd}"
      ]
    },
    {
      "cell_type": "code",
      "execution_count": null,
      "metadata": {
        "colab": {
          "base_uri": "https://localhost:8080/",
          "height": 35
        },
        "id": "04gWhAmxd0lA",
        "outputId": "e6162952-1f7e-4547-b907-a7d525cfdca8"
      },
      "outputs": [
        {
          "data": {
            "application/vnd.google.colaboratory.intrinsic+json": {
              "type": "string"
            },
            "text/plain": [
              "'/content'"
            ]
          },
          "execution_count": 7,
          "metadata": {},
          "output_type": "execute_result"
        }
      ],
      "source": [
        "os.getcwd()"
      ]
    },
    {
      "cell_type": "code",
      "execution_count": null,
      "metadata": {
        "colab": {
          "base_uri": "https://localhost:8080/"
        },
        "id": "j4g2FUCwG1U_",
        "outputId": "d2808326-4d6b-4248-c03f-fb0c21ccd94e"
      },
      "outputs": [
        {
          "name": "stdout",
          "output_type": "stream",
          "text": [
            "Usage: train.py [OPTIONS]\n",
            "Try 'train.py --help' for help.\n",
            "\n",
            "Error: --data: Path must point to a directory or zip\n"
          ]
        }
      ],
      "source": [
        "!/usr/bin/python3 /content/stylegan2-ada-pytorch/train.py --snap 5 --resume /content/drive/MyDrive/data/gan/experiments/00000-dataset-auto1/network-snapshot-000020.pkl --outdir /content/drive/MyDrive/data/gan/experiments --data /content/drive/MyDrive/data/gan/dataset"
      ]
    },
    {
      "cell_type": "markdown",
      "metadata": {
        "id": "NS-oe6jMG_0A"
      },
      "source": [
        "# Resume Training"
      ]
    },
    {
      "cell_type": "code",
      "execution_count": null,
      "metadata": {
        "colab": {
          "base_uri": "https://localhost:8080/"
        },
        "id": "pvPZLsCUlzGn",
        "outputId": "509eaa0e-6ed3-4986-c3ac-be5712950673"
      },
      "outputs": [
        {
          "name": "stdout",
          "output_type": "stream",
          "text": [
            "Traceback (most recent call last):\n",
            "  File \"/content/stylegan2-ada/train.py\", line 16, in <module>\n",
            "    import tensorflow as tf\n",
            "  File \"/tensorflow-1.15.2/python3.7/tensorflow/__init__.py\", line 99, in <module>\n",
            "    from tensorflow_core import *\n",
            "  File \"/tensorflow-1.15.2/python3.7/tensorflow_core/__init__.py\", line 28, in <module>\n",
            "    from tensorflow.python import pywrap_tensorflow  # pylint: disable=unused-import\n",
            "  File \"<frozen importlib._bootstrap>\", line 1019, in _handle_fromlist\n",
            "  File \"/tensorflow-1.15.2/python3.7/tensorflow/__init__.py\", line 50, in __getattr__\n",
            "    module = self._load()\n",
            "  File \"/tensorflow-1.15.2/python3.7/tensorflow/__init__.py\", line 44, in _load\n",
            "    module = _importlib.import_module(self.__name__)\n",
            "  File \"/usr/lib/python3.7/importlib/__init__.py\", line 127, in import_module\n",
            "    return _bootstrap._gcd_import(name[level:], package, level)\n",
            "  File \"/tensorflow-1.15.2/python3.7/tensorflow_core/python/__init__.py\", line 73, in <module>\n",
            "    from tensorflow.python.ops.standard_ops import *\n",
            "  File \"/tensorflow-1.15.2/python3.7/tensorflow_core/python/ops/standard_ops.py\", line 25, in <module>\n",
            "    from tensorflow.python import autograph\n",
            "  File \"/tensorflow-1.15.2/python3.7/tensorflow_core/python/autograph/__init__.py\", line 35, in <module>\n",
            "    from tensorflow.python.autograph import operators\n",
            "  File \"/tensorflow-1.15.2/python3.7/tensorflow_core/python/autograph/__init__.py\", line 35, in <module>\n",
            "    from tensorflow.python.autograph import operators\n",
            "  File \"/tensorflow-1.15.2/python3.7/tensorflow_core/python/autograph/operators/__init__.py\", line 40, in <module>\n",
            "    from tensorflow.python.autograph.operators.control_flow import for_stmt\n",
            "  File \"/tensorflow-1.15.2/python3.7/tensorflow_core/python/autograph/operators/control_flow.py\", line 65, in <module>\n",
            "    from tensorflow.python.autograph.operators import py_builtins\n",
            "  File \"/tensorflow-1.15.2/python3.7/tensorflow_core/python/autograph/operators/py_builtins.py\", line 30, in <module>\n",
            "    from tensorflow.python.data.ops import dataset_ops\n",
            "  File \"/tensorflow-1.15.2/python3.7/tensorflow_core/python/data/__init__.py\", line 25, in <module>\n",
            "    from tensorflow.python.data import experimental\n",
            "  File \"/tensorflow-1.15.2/python3.7/tensorflow_core/python/data/experimental/__init__.py\", line 89, in <module>\n",
            "    from tensorflow.python.data.experimental.ops.batching import dense_to_sparse_batch\n",
            "  File \"/tensorflow-1.15.2/python3.7/tensorflow_core/python/data/experimental/ops/batching.py\", line 20, in <module>\n",
            "    from tensorflow.python.data.ops import dataset_ops\n",
            "  File \"/tensorflow-1.15.2/python3.7/tensorflow_core/python/data/ops/dataset_ops.py\", line 39, in <module>\n",
            "    from tensorflow.python.data.ops import iterator_ops\n",
            "  File \"/tensorflow-1.15.2/python3.7/tensorflow_core/python/data/ops/iterator_ops.py\", line 35, in <module>\n",
            "    from tensorflow.python.training.saver import BaseSaverBuilder\n",
            "  File \"<frozen importlib._bootstrap>\", line 983, in _find_and_load\n",
            "  File \"<frozen importlib._bootstrap>\", line 967, in _find_and_load_unlocked\n",
            "  File \"<frozen importlib._bootstrap>\", line 677, in _load_unlocked\n",
            "  File \"<frozen importlib._bootstrap_external>\", line 724, in exec_module\n",
            "  File \"<frozen importlib._bootstrap_external>\", line 818, in get_code\n",
            "  File \"<frozen importlib._bootstrap_external>\", line 917, in get_data\n",
            "KeyboardInterrupt\n"
          ]
        }
      ],
      "source": [
        "import os\n",
        "\n",
        "# Modify these to suit your needs\n",
        "EXPERIMENTS = \"/content/drive/MyDrive/data/gan/experiments\"\n",
        "NETWORK = \"network-snapshot-000028.pkl\"\n",
        "RESUME = os.path.join(EXPERIMENTS, \"00003-dataset-auto1-resumecustom\", NETWORK)\n",
        "DATA = \"/content/drive/MyDrive/data/gan/dataset\"\n",
        "SNAP = 7\n",
        "LOSS = 'wgangp'\n",
        "\n",
        "# Build the command and run it\n",
        "cmd = f\"/usr/bin/python3 /content/stylegan2-ada/train.py --snap {SNAP} --outdir {EXPERIMENTS} --data {DATA} --cmethod {LOSS} --aug=noaug --resume {RESUME}\"\n",
        "!{cmd}"
      ]
    },
    {
      "cell_type": "markdown",
      "metadata": {
        "id": "xMm34ut0wKCb"
      },
      "source": [
        "# Resume with stylegan loss"
      ]
    },
    {
      "cell_type": "code",
      "execution_count": null,
      "metadata": {
        "colab": {
          "background_save": true,
          "base_uri": "https://localhost:8080/"
        },
        "id": "11tAR2BUTtjD",
        "outputId": "9082c703-e8af-4f1e-f2e7-b94a9978dc97"
      },
      "outputs": [
        {
          "name": "stdout",
          "output_type": "stream",
          "text": [
            "\n",
            "Training options:\n",
            "{\n",
            "  \"G_args\": {\n",
            "    \"func_name\": \"training.networks.G_main\",\n",
            "    \"fmap_base\": 8192,\n",
            "    \"fmap_max\": 512,\n",
            "    \"mapping_layers\": 2,\n",
            "    \"num_fp16_res\": 4,\n",
            "    \"conv_clamp\": 256\n",
            "  },\n",
            "  \"D_args\": {\n",
            "    \"func_name\": \"training.networks.D_main\",\n",
            "    \"mbstd_group_size\": 4,\n",
            "    \"fmap_base\": 8192,\n",
            "    \"fmap_max\": 512,\n",
            "    \"num_fp16_res\": 4,\n",
            "    \"conv_clamp\": 256\n",
            "  },\n",
            "  \"G_opt_args\": {\n",
            "    \"beta1\": 0.0,\n",
            "    \"beta2\": 0.99,\n",
            "    \"learning_rate\": 0.0025\n",
            "  },\n",
            "  \"D_opt_args\": {\n",
            "    \"beta1\": 0.0,\n",
            "    \"beta2\": 0.99,\n",
            "    \"learning_rate\": 0.0025\n",
            "  },\n",
            "  \"loss_args\": {\n",
            "    \"func_name\": \"training.loss.stylegan2\",\n",
            "    \"r1_gamma\": 0.8192\n",
            "  },\n",
            "  \"augment_args\": {\n",
            "    \"class_name\": \"training.augment.AdaptiveAugment\",\n",
            "    \"tune_heuristic\": \"rt\",\n",
            "    \"tune_target\": 0.6,\n",
            "    \"apply_func\": \"training.augment.augment_pipeline\",\n",
            "    \"apply_args\": {\n",
            "      \"xflip\": 1,\n",
            "      \"rotate90\": 1,\n",
            "      \"xint\": 1,\n",
            "      \"scale\": 1,\n",
            "      \"rotate\": 1,\n",
            "      \"aniso\": 1,\n",
            "      \"xfrac\": 1,\n",
            "      \"brightness\": 1,\n",
            "      \"contrast\": 1,\n",
            "      \"lumaflip\": 1,\n",
            "      \"hue\": 1,\n",
            "      \"saturation\": 1\n",
            "    },\n",
            "    \"tune_kimg\": 100\n",
            "  },\n",
            "  \"num_gpus\": 1,\n",
            "  \"image_snapshot_ticks\": 15,\n",
            "  \"network_snapshot_ticks\": 15,\n",
            "  \"train_dataset_args\": {\n",
            "    \"path\": \"/content/drive/MyDrive/data/gan/dataset\",\n",
            "    \"max_label_size\": 0,\n",
            "    \"resolution\": 256,\n",
            "    \"mirror_augment\": false\n",
            "  },\n",
            "  \"metric_arg_list\": [\n",
            "    {\n",
            "      \"name\": \"fid50k_full\",\n",
            "      \"class_name\": \"metrics.frechet_inception_distance.FID\",\n",
            "      \"max_reals\": null,\n",
            "      \"num_fakes\": 50000,\n",
            "      \"minibatch_per_gpu\": 8,\n",
            "      \"force_dataset_args\": {\n",
            "        \"shuffle\": false,\n",
            "        \"max_images\": null,\n",
            "        \"repeat\": false,\n",
            "        \"mirror_augment\": false\n",
            "      }\n",
            "    }\n",
            "  ],\n",
            "  \"metric_dataset_args\": {\n",
            "    \"path\": \"/content/drive/MyDrive/data/gan/dataset\",\n",
            "    \"max_label_size\": 0,\n",
            "    \"resolution\": 256,\n",
            "    \"mirror_augment\": false\n",
            "  },\n",
            "  \"total_kimg\": 25000,\n",
            "  \"minibatch_size\": 16,\n",
            "  \"minibatch_gpu\": 16,\n",
            "  \"G_smoothing_kimg\": 5.0,\n",
            "  \"G_smoothing_rampup\": null,\n",
            "  \"resume_pkl\": \"/content/drive/MyDrive/data/gan/experiments/00016-dataset-auto1-resumecustom/network-snapshot-000483.pkl\",\n",
            "  \"run_dir\": \"/content/drive/MyDrive/data/gan/experiments/00017-dataset-auto1-resumecustom\"\n",
            "}\n",
            "\n",
            "Output directory:  /content/drive/MyDrive/data/gan/experiments/00017-dataset-auto1-resumecustom\n",
            "Training data:     /content/drive/MyDrive/data/gan/dataset\n",
            "Training length:   25000 kimg\n",
            "Resolution:        256\n",
            "Number of GPUs:    1\n",
            "\n",
            "Creating output directory...\n",
            "Loading training set...\n",
            "Image shape: [3, 256, 256]\n",
            "Label shape: [0]\n",
            "\n",
            "Constructing networks...\n",
            "Setting up TensorFlow plugin \"fused_bias_act.cu\": Compiling... Loading... Done.\n",
            "Setting up TensorFlow plugin \"upfirdn_2d.cu\": Compiling... Loading... Done.\n",
            "Resuming from \"/content/drive/MyDrive/data/gan/experiments/00016-dataset-auto1-resumecustom/network-snapshot-000483.pkl\"\n",
            "\n",
            "G                             Params    OutputShape         WeightShape     \n",
            "---                           ---       ---                 ---             \n",
            "latents_in                    -         (?, 512)            -               \n",
            "labels_in                     -         (?, 0)              -               \n",
            "G_mapping/Normalize           -         (?, 512)            -               \n",
            "G_mapping/Dense0              262656    (?, 512)            (512, 512)      \n",
            "G_mapping/Dense1              262656    (?, 512)            (512, 512)      \n",
            "G_mapping/Broadcast           -         (?, 14, 512)        -               \n",
            "dlatent_avg                   -         (512,)              -               \n",
            "Truncation/Lerp               -         (?, 14, 512)        -               \n",
            "G_synthesis/4x4/Const         8192      (?, 512, 4, 4)      (1, 512, 4, 4)  \n",
            "G_synthesis/4x4/Conv          2622465   (?, 512, 4, 4)      (3, 3, 512, 512)\n",
            "G_synthesis/4x4/ToRGB         264195    (?, 3, 4, 4)        (1, 1, 512, 3)  \n",
            "G_synthesis/8x8/Conv0_up      2622465   (?, 512, 8, 8)      (3, 3, 512, 512)\n",
            "G_synthesis/8x8/Conv1         2622465   (?, 512, 8, 8)      (3, 3, 512, 512)\n",
            "G_synthesis/8x8/Upsample      -         (?, 3, 8, 8)        -               \n",
            "G_synthesis/8x8/ToRGB         264195    (?, 3, 8, 8)        (1, 1, 512, 3)  \n",
            "G_synthesis/16x16/Conv0_up    2622465   (?, 512, 16, 16)    (3, 3, 512, 512)\n",
            "G_synthesis/16x16/Conv1       2622465   (?, 512, 16, 16)    (3, 3, 512, 512)\n",
            "G_synthesis/16x16/Upsample    -         (?, 3, 16, 16)      -               \n",
            "G_synthesis/16x16/ToRGB       264195    (?, 3, 16, 16)      (1, 1, 512, 3)  \n",
            "G_synthesis/32x32/Conv0_up    2622465   (?, 512, 32, 32)    (3, 3, 512, 512)\n",
            "G_synthesis/32x32/Conv1       2622465   (?, 512, 32, 32)    (3, 3, 512, 512)\n",
            "G_synthesis/32x32/Upsample    -         (?, 3, 32, 32)      -               \n",
            "G_synthesis/32x32/ToRGB       264195    (?, 3, 32, 32)      (1, 1, 512, 3)  \n",
            "G_synthesis/64x64/Conv0_up    1442561   (?, 256, 64, 64)    (3, 3, 512, 256)\n",
            "G_synthesis/64x64/Conv1       721409    (?, 256, 64, 64)    (3, 3, 256, 256)\n",
            "G_synthesis/64x64/Upsample    -         (?, 3, 64, 64)      -               \n",
            "G_synthesis/64x64/ToRGB       132099    (?, 3, 64, 64)      (1, 1, 256, 3)  \n",
            "G_synthesis/128x128/Conv0_up  426369    (?, 128, 128, 128)  (3, 3, 256, 128)\n",
            "G_synthesis/128x128/Conv1     213249    (?, 128, 128, 128)  (3, 3, 128, 128)\n",
            "G_synthesis/128x128/Upsample  -         (?, 3, 128, 128)    -               \n",
            "G_synthesis/128x128/ToRGB     66051     (?, 3, 128, 128)    (1, 1, 128, 3)  \n",
            "G_synthesis/256x256/Conv0_up  139457    (?, 64, 256, 256)   (3, 3, 128, 64) \n",
            "G_synthesis/256x256/Conv1     69761     (?, 64, 256, 256)   (3, 3, 64, 64)  \n",
            "G_synthesis/256x256/Upsample  -         (?, 3, 256, 256)    -               \n",
            "G_synthesis/256x256/ToRGB     33027     (?, 3, 256, 256)    (1, 1, 64, 3)   \n",
            "---                           ---       ---                 ---             \n",
            "Total                         23191522                                      \n",
            "\n",
            "\n",
            "D                    Params    OutputShape         WeightShape     \n",
            "---                  ---       ---                 ---             \n",
            "images_in            -         (?, 3, 256, 256)    -               \n",
            "labels_in            -         (?, 0)              -               \n",
            "256x256/FromRGB      256       (?, 64, 256, 256)   (1, 1, 3, 64)   \n",
            "256x256/Conv0        36928     (?, 64, 256, 256)   (3, 3, 64, 64)  \n",
            "256x256/Conv1_down   73856     (?, 128, 128, 128)  (3, 3, 64, 128) \n",
            "256x256/Skip         8192      (?, 128, 128, 128)  (1, 1, 64, 128) \n",
            "128x128/Conv0        147584    (?, 128, 128, 128)  (3, 3, 128, 128)\n",
            "128x128/Conv1_down   295168    (?, 256, 64, 64)    (3, 3, 128, 256)\n",
            "128x128/Skip         32768     (?, 256, 64, 64)    (1, 1, 128, 256)\n",
            "64x64/Conv0          590080    (?, 256, 64, 64)    (3, 3, 256, 256)\n",
            "64x64/Conv1_down     1180160   (?, 512, 32, 32)    (3, 3, 256, 512)\n",
            "64x64/Skip           131072    (?, 512, 32, 32)    (1, 1, 256, 512)\n",
            "32x32/Conv0          2359808   (?, 512, 32, 32)    (3, 3, 512, 512)\n",
            "32x32/Conv1_down     2359808   (?, 512, 16, 16)    (3, 3, 512, 512)\n",
            "32x32/Skip           262144    (?, 512, 16, 16)    (1, 1, 512, 512)\n",
            "16x16/Conv0          2359808   (?, 512, 16, 16)    (3, 3, 512, 512)\n",
            "16x16/Conv1_down     2359808   (?, 512, 8, 8)      (3, 3, 512, 512)\n",
            "16x16/Skip           262144    (?, 512, 8, 8)      (1, 1, 512, 512)\n",
            "8x8/Conv0            2359808   (?, 512, 8, 8)      (3, 3, 512, 512)\n",
            "8x8/Conv1_down       2359808   (?, 512, 4, 4)      (3, 3, 512, 512)\n",
            "8x8/Skip             262144    (?, 512, 4, 4)      (1, 1, 512, 512)\n",
            "4x4/MinibatchStddev  -         (?, 513, 4, 4)      -               \n",
            "4x4/Conv             2364416   (?, 512, 4, 4)      (3, 3, 513, 512)\n",
            "4x4/Dense0           4194816   (?, 512)            (8192, 512)     \n",
            "Output               513       (?, 1)              (512, 1)        \n",
            "---                  ---       ---                 ---             \n",
            "Total                24001089                                      \n",
            "\n",
            "Exporting sample images...\n",
            "Replicating networks across 1 GPUs...\n",
            "Initializing augmentations...\n",
            "Setting up optimizers...\n",
            "Constructing training graph...\n",
            "Finalizing training ops...\n",
            "Initializing metrics...\n",
            "Training for 25000 kimg...\n",
            "\n",
            "tick 0     kimg 0.1      time 2m 03s       sec/tick 21.7    sec/kimg 339.20  maintenance 101.0  gpumem 7.2   augment 0.001\n",
            "Evaluating metrics...\n",
            "Downloading https://nvlabs-fi-cdn.nvidia.com/stylegan2-ada/pretrained/metrics/inception_v3_features.pkl ... done\n",
            "Calculating real image statistics for fid50k_full...\n",
            "network-snapshot-000000        time 12m 29s      fid50k_full 15.5497\n",
            "tick 1     kimg 4.1      time 20m 28s      sec/tick 329.6   sec/kimg 81.75   maintenance 775.9  gpumem 7.2   augment 0.036\n",
            "tick 2     kimg 8.1      time 26m 00s      sec/tick 331.4   sec/kimg 82.18   maintenance 0.0    gpumem 7.2   augment 0.075\n",
            "tick 3     kimg 12.2     time 31m 32s      sec/tick 332.2   sec/kimg 82.39   maintenance 0.0    gpumem 7.2   augment 0.113\n",
            "tick 4     kimg 16.2     time 37m 05s      sec/tick 333.0   sec/kimg 82.59   maintenance 0.0    gpumem 7.2   augment 0.152\n",
            "tick 5     kimg 20.2     time 42m 38s      sec/tick 333.5   sec/kimg 82.71   maintenance 0.0    gpumem 7.2   augment 0.189\n",
            "tick 6     kimg 24.3     time 48m 13s      sec/tick 334.4   sec/kimg 82.93   maintenance 0.0    gpumem 7.2   augment 0.227\n",
            "tick 7     kimg 28.3     time 53m 48s      sec/tick 335.1   sec/kimg 83.10   maintenance 0.0    gpumem 7.2   augment 0.265\n",
            "tick 8     kimg 32.3     time 59m 23s      sec/tick 335.5   sec/kimg 83.21   maintenance 0.0    gpumem 7.2   augment 0.304\n",
            "tick 9     kimg 36.4     time 1h 05m 00s   sec/tick 336.5   sec/kimg 83.45   maintenance 0.0    gpumem 7.2   augment 0.340\n",
            "tick 10    kimg 40.4     time 1h 10m 37s   sec/tick 337.1   sec/kimg 83.60   maintenance 0.0    gpumem 7.2   augment 0.374\n",
            "tick 11    kimg 44.4     time 1h 16m 15s   sec/tick 338.0   sec/kimg 83.82   maintenance 0.0    gpumem 7.2   augment 0.410\n",
            "tick 12    kimg 48.4     time 1h 21m 53s   sec/tick 338.2   sec/kimg 83.87   maintenance 0.0    gpumem 7.2   augment 0.442\n",
            "tick 13    kimg 52.5     time 1h 27m 31s   sec/tick 338.2   sec/kimg 83.87   maintenance 0.0    gpumem 7.2   augment 0.472\n",
            "tick 14    kimg 56.5     time 1h 33m 10s   sec/tick 339.0   sec/kimg 84.08   maintenance 0.0    gpumem 7.2   augment 0.500\n",
            "tick 15    kimg 60.5     time 1h 38m 49s   sec/tick 339.1   sec/kimg 84.11   maintenance 0.0    gpumem 7.2   augment 0.524\n",
            "Evaluating metrics...\n",
            "network-snapshot-000060        time 11m 50s      fid50k_full 15.6405\n",
            "tick 16    kimg 64.6     time 1h 56m 36s   sec/tick 340.4   sec/kimg 84.42   maintenance 726.1  gpumem 7.2   augment 0.541\n",
            "tick 17    kimg 68.6     time 2h 02m 15s   sec/tick 339.5   sec/kimg 84.20   maintenance 0.0    gpumem 7.2   augment 0.559\n",
            "tick 18    kimg 72.6     time 2h 07m 56s   sec/tick 340.1   sec/kimg 84.36   maintenance 0.0    gpumem 7.2   augment 0.578\n",
            "tick 19    kimg 76.7     time 2h 13m 36s   sec/tick 340.9   sec/kimg 84.54   maintenance 0.0    gpumem 7.2   augment 0.595\n",
            "tick 20    kimg 80.7     time 2h 19m 17s   sec/tick 340.7   sec/kimg 84.50   maintenance 0.0    gpumem 7.2   augment 0.611\n",
            "tick 21    kimg 84.7     time 2h 24m 58s   sec/tick 340.6   sec/kimg 84.49   maintenance 0.0    gpumem 7.2   augment 0.614\n",
            "tick 22    kimg 88.8     time 2h 30m 39s   sec/tick 341.0   sec/kimg 84.58   maintenance 0.0    gpumem 7.2   augment 0.623\n",
            "tick 23    kimg 92.8     time 2h 36m 20s   sec/tick 341.0   sec/kimg 84.58   maintenance 0.0    gpumem 7.2   augment 0.622\n",
            "tick 24    kimg 96.8     time 2h 42m 01s   sec/tick 341.0   sec/kimg 84.58   maintenance 0.0    gpumem 7.2   augment 0.629\n",
            "tick 25    kimg 100.9    time 2h 47m 42s   sec/tick 340.7   sec/kimg 84.50   maintenance 0.0    gpumem 7.2   augment 0.643\n",
            "tick 26    kimg 104.9    time 2h 53m 23s   sec/tick 341.1   sec/kimg 84.60   maintenance 0.0    gpumem 7.2   augment 0.653\n",
            "tick 27    kimg 108.9    time 2h 59m 04s   sec/tick 341.2   sec/kimg 84.62   maintenance 0.0    gpumem 7.2   augment 0.653\n",
            "tick 28    kimg 113.0    time 3h 04m 46s   sec/tick 341.6   sec/kimg 84.72   maintenance 0.0    gpumem 7.2   augment 0.652\n",
            "tick 29    kimg 117.0    time 3h 10m 27s   sec/tick 340.9   sec/kimg 84.54   maintenance 0.0    gpumem 7.2   augment 0.650\n",
            "tick 30    kimg 121.0    time 3h 16m 08s   sec/tick 341.8   sec/kimg 84.78   maintenance 0.0    gpumem 7.2   augment 0.651\n",
            "Evaluating metrics...\n",
            "network-snapshot-000121        time 11m 50s      fid50k_full 16.0249\n",
            "tick 31    kimg 125.1    time 3h 33m 57s   sec/tick 341.9   sec/kimg 84.80   maintenance 726.6  gpumem 7.2   augment 0.649\n",
            "tick 32    kimg 129.1    time 3h 39m 38s   sec/tick 341.5   sec/kimg 84.69   maintenance 0.0    gpumem 7.2   augment 0.657\n",
            "tick 33    kimg 133.1    time 3h 45m 20s   sec/tick 341.6   sec/kimg 84.72   maintenance 0.0    gpumem 7.2   augment 0.660\n",
            "tick 34    kimg 137.2    time 3h 51m 02s   sec/tick 342.0   sec/kimg 84.81   maintenance 0.0    gpumem 7.2   augment 0.659\n",
            "tick 35    kimg 141.2    time 3h 56m 44s   sec/tick 341.8   sec/kimg 84.78   maintenance 0.0    gpumem 7.2   augment 0.658\n",
            "tick 36    kimg 145.2    time 4h 02m 26s   sec/tick 341.9   sec/kimg 84.79   maintenance 0.0    gpumem 7.2   augment 0.657\n",
            "tick 37    kimg 149.2    time 4h 08m 07s   sec/tick 340.9   sec/kimg 84.55   maintenance 0.0    gpumem 7.2   augment 0.660\n",
            "tick 38    kimg 153.3    time 4h 13m 48s   sec/tick 341.5   sec/kimg 84.69   maintenance 0.0    gpumem 7.2   augment 0.668\n",
            "tick 39    kimg 157.3    time 4h 19m 29s   sec/tick 341.1   sec/kimg 84.59   maintenance 0.0    gpumem 7.2   augment 0.671\n",
            "tick 40    kimg 161.3    time 4h 25m 11s   sec/tick 342.2   sec/kimg 84.87   maintenance 0.0    gpumem 7.2   augment 0.673\n",
            "tick 41    kimg 165.4    time 4h 30m 53s   sec/tick 341.4   sec/kimg 84.67   maintenance 0.0    gpumem 7.2   augment 0.680\n",
            "tick 42    kimg 169.4    time 4h 36m 35s   sec/tick 342.2   sec/kimg 84.86   maintenance 0.0    gpumem 7.2   augment 0.674\n",
            "tick 43    kimg 173.4    time 4h 42m 17s   sec/tick 342.0   sec/kimg 84.83   maintenance 0.0    gpumem 7.2   augment 0.671\n",
            "tick 44    kimg 177.5    time 4h 47m 59s   sec/tick 341.5   sec/kimg 84.70   maintenance 0.0    gpumem 7.2   augment 0.668\n",
            "tick 45    kimg 181.5    time 4h 53m 40s   sec/tick 341.5   sec/kimg 84.71   maintenance 0.0    gpumem 7.2   augment 0.677\n",
            "Evaluating metrics...\n",
            "network-snapshot-000181        time 11m 53s      fid50k_full 16.2303\n",
            "tick 46    kimg 185.5    time 5h 11m 31s   sec/tick 342.1   sec/kimg 84.85   maintenance 729.0  gpumem 7.2   augment 0.670\n",
            "tick 47    kimg 189.6    time 5h 17m 13s   sec/tick 341.7   sec/kimg 84.74   maintenance 0.0    gpumem 7.2   augment 0.668\n",
            "tick 48    kimg 193.6    time 5h 22m 54s   sec/tick 341.3   sec/kimg 84.64   maintenance 0.0    gpumem 7.2   augment 0.670\n",
            "tick 49    kimg 197.6    time 5h 28m 36s   sec/tick 341.3   sec/kimg 84.65   maintenance 0.0    gpumem 7.2   augment 0.669\n",
            "tick 50    kimg 201.7    time 5h 34m 17s   sec/tick 341.6   sec/kimg 84.72   maintenance 0.0    gpumem 7.2   augment 0.671\n",
            "tick 51    kimg 205.7    time 5h 39m 59s   sec/tick 341.7   sec/kimg 84.75   maintenance 0.0    gpumem 7.2   augment 0.664\n",
            "tick 52    kimg 209.7    time 5h 45m 41s   sec/tick 342.5   sec/kimg 84.95   maintenance 0.0    gpumem 7.2   augment 0.669\n",
            "tick 53    kimg 213.8    time 5h 51m 23s   sec/tick 341.2   sec/kimg 84.63   maintenance 0.0    gpumem 7.2   augment 0.671\n",
            "tick 54    kimg 217.8    time 5h 57m 04s   sec/tick 341.3   sec/kimg 84.64   maintenance 0.0    gpumem 7.2   augment 0.670\n",
            "tick 55    kimg 221.8    time 6h 02m 46s   sec/tick 342.0   sec/kimg 84.83   maintenance 0.0    gpumem 7.2   augment 0.666\n",
            "tick 56    kimg 225.9    time 6h 08m 27s   sec/tick 341.1   sec/kimg 84.60   maintenance 0.0    gpumem 7.2   augment 0.657\n",
            "tick 57    kimg 229.9    time 6h 14m 08s   sec/tick 340.7   sec/kimg 84.51   maintenance 0.0    gpumem 7.2   augment 0.660\n",
            "tick 58    kimg 233.9    time 6h 19m 50s   sec/tick 341.7   sec/kimg 84.75   maintenance 0.0    gpumem 7.2   augment 0.666\n",
            "tick 59    kimg 238.0    time 6h 25m 31s   sec/tick 341.1   sec/kimg 84.61   maintenance 0.0    gpumem 7.2   augment 0.675\n",
            "tick 60    kimg 242.0    time 6h 31m 12s   sec/tick 341.2   sec/kimg 84.61   maintenance 0.0    gpumem 7.2   augment 0.675\n",
            "Evaluating metrics...\n",
            "network-snapshot-000241        time 11m 49s      fid50k_full 16.2272\n",
            "tick 61    kimg 246.0    time 6h 48m 59s   sec/tick 341.4   sec/kimg 84.66   maintenance 725.7  gpumem 7.2   augment 0.681\n",
            "tick 62    kimg 250.0    time 6h 54m 40s   sec/tick 341.5   sec/kimg 84.69   maintenance 0.0    gpumem 7.2   augment 0.675\n",
            "tick 63    kimg 254.1    time 7h 00m 22s   sec/tick 341.6   sec/kimg 84.73   maintenance 0.0    gpumem 7.2   augment 0.672\n",
            "tick 64    kimg 258.1    time 7h 06m 04s   sec/tick 341.5   sec/kimg 84.70   maintenance 0.0    gpumem 7.2   augment 0.676\n",
            "tick 65    kimg 262.1    time 7h 11m 45s   sec/tick 341.3   sec/kimg 84.65   maintenance 0.0    gpumem 7.2   augment 0.678\n",
            "tick 66    kimg 266.2    time 7h 17m 26s   sec/tick 341.1   sec/kimg 84.60   maintenance 0.0    gpumem 7.2   augment 0.683\n",
            "tick 67    kimg 270.2    time 7h 23m 08s   sec/tick 341.7   sec/kimg 84.74   maintenance 0.0    gpumem 7.2   augment 0.678\n",
            "tick 68    kimg 274.2    time 7h 28m 49s   sec/tick 341.5   sec/kimg 84.69   maintenance 0.0    gpumem 7.2   augment 0.684\n",
            "tick 69    kimg 278.3    time 7h 34m 31s   sec/tick 341.3   sec/kimg 84.64   maintenance 0.0    gpumem 7.2   augment 0.689\n",
            "tick 70    kimg 282.3    time 7h 40m 12s   sec/tick 341.7   sec/kimg 84.74   maintenance 0.0    gpumem 7.2   augment 0.691\n",
            "tick 71    kimg 286.3    time 7h 45m 54s   sec/tick 341.3   sec/kimg 84.66   maintenance 0.0    gpumem 7.2   augment 0.682\n",
            "tick 72    kimg 290.4    time 7h 51m 35s   sec/tick 341.8   sec/kimg 84.77   maintenance 0.0    gpumem 7.2   augment 0.674\n",
            "tick 73    kimg 294.4    time 7h 57m 16s   sec/tick 340.9   sec/kimg 84.55   maintenance 0.0    gpumem 7.2   augment 0.678\n",
            "tick 74    kimg 298.4    time 8h 02m 58s   sec/tick 341.7   sec/kimg 84.75   maintenance 0.0    gpumem 7.2   augment 0.680\n",
            "tick 75    kimg 302.5    time 8h 08m 40s   sec/tick 341.6   sec/kimg 84.71   maintenance 0.0    gpumem 7.2   augment 0.675\n",
            "Evaluating metrics...\n",
            "network-snapshot-000302        time 11m 51s      fid50k_full 15.7007\n",
            "tick 76    kimg 306.5    time 8h 26m 29s   sec/tick 341.9   sec/kimg 84.80   maintenance 727.5  gpumem 7.2   augment 0.674\n",
            "tick 77    kimg 310.5    time 8h 32m 10s   sec/tick 341.1   sec/kimg 84.60   maintenance 0.0    gpumem 7.2   augment 0.680\n",
            "tick 78    kimg 314.6    time 8h 37m 52s   sec/tick 341.9   sec/kimg 84.79   maintenance 0.0    gpumem 7.2   augment 0.678\n",
            "tick 79    kimg 318.6    time 8h 43m 34s   sec/tick 341.5   sec/kimg 84.70   maintenance 0.0    gpumem 7.2   augment 0.680\n",
            "tick 80    kimg 322.6    time 8h 49m 16s   sec/tick 341.9   sec/kimg 84.79   maintenance 0.0    gpumem 7.2   augment 0.688\n",
            "tick 81    kimg 326.7    time 8h 54m 57s   sec/tick 341.3   sec/kimg 84.66   maintenance 0.0    gpumem 7.2   augment 0.686\n",
            "tick 82    kimg 330.7    time 9h 00m 39s   sec/tick 342.4   sec/kimg 84.92   maintenance 0.0    gpumem 7.2   augment 0.684\n",
            "tick 83    kimg 334.7    time 9h 06m 21s   sec/tick 342.0   sec/kimg 84.82   maintenance 0.0    gpumem 7.2   augment 0.678\n",
            "tick 84    kimg 338.8    time 9h 12m 03s   sec/tick 341.6   sec/kimg 84.73   maintenance 0.0    gpumem 7.2   augment 0.675\n",
            "tick 85    kimg 342.8    time 9h 17m 44s   sec/tick 340.7   sec/kimg 84.50   maintenance 0.0    gpumem 7.2   augment 0.680\n",
            "tick 86    kimg 346.8    time 9h 23m 25s   sec/tick 341.5   sec/kimg 84.69   maintenance 0.0    gpumem 7.2   augment 0.689\n",
            "tick 87    kimg 350.8    time 9h 29m 06s   sec/tick 341.3   sec/kimg 84.66   maintenance 0.0    gpumem 7.2   augment 0.691\n",
            "tick 88    kimg 354.9    time 9h 34m 48s   sec/tick 341.8   sec/kimg 84.78   maintenance 0.0    gpumem 7.2   augment 0.692\n",
            "tick 89    kimg 358.9    time 9h 40m 30s   sec/tick 341.6   sec/kimg 84.72   maintenance 0.0    gpumem 7.2   augment 0.684\n",
            "tick 90    kimg 362.9    time 9h 46m 12s   sec/tick 341.6   sec/kimg 84.73   maintenance 0.0    gpumem 7.2   augment 0.671\n",
            "Evaluating metrics...\n",
            "network-snapshot-000362        time 11m 53s      fid50k_full 15.7262\n",
            "tick 91    kimg 367.0    time 10h 04m 02s  sec/tick 341.9   sec/kimg 84.80   maintenance 728.9  gpumem 7.2   augment 0.667\n",
            "tick 92    kimg 371.0    time 10h 09m 44s  sec/tick 341.6   sec/kimg 84.71   maintenance 0.0    gpumem 7.2   augment 0.675\n",
            "tick 93    kimg 375.0    time 10h 15m 25s  sec/tick 341.3   sec/kimg 84.64   maintenance 0.0    gpumem 7.2   augment 0.676\n",
            "tick 94    kimg 379.1    time 10h 21m 07s  sec/tick 342.1   sec/kimg 84.85   maintenance 0.0    gpumem 7.2   augment 0.675\n",
            "tick 95    kimg 383.1    time 10h 26m 49s  sec/tick 341.8   sec/kimg 84.78   maintenance 0.0    gpumem 7.2   augment 0.680\n",
            "tick 96    kimg 387.1    time 10h 32m 31s  sec/tick 341.3   sec/kimg 84.64   maintenance 0.0    gpumem 7.2   augment 0.676\n",
            "tick 97    kimg 391.2    time 10h 38m 12s  sec/tick 341.7   sec/kimg 84.74   maintenance 0.0    gpumem 7.2   augment 0.676\n",
            "tick 98    kimg 395.2    time 10h 43m 54s  sec/tick 341.7   sec/kimg 84.75   maintenance 0.0    gpumem 7.2   augment 0.673\n",
            "tick 99    kimg 399.2    time 10h 49m 35s  sec/tick 341.6   sec/kimg 84.71   maintenance 0.0    gpumem 7.2   augment 0.672\n",
            "tick 100   kimg 403.3    time 10h 55m 17s  sec/tick 341.5   sec/kimg 84.71   maintenance 0.0    gpumem 7.2   augment 0.662\n",
            "tick 101   kimg 407.3    time 11h 00m 59s  sec/tick 341.6   sec/kimg 84.73   maintenance 0.0    gpumem 7.2   augment 0.664\n",
            "tick 102   kimg 411.3    time 11h 06m 40s  sec/tick 341.7   sec/kimg 84.74   maintenance 0.0    gpumem 7.2   augment 0.668\n",
            "tick 103   kimg 415.4    time 11h 12m 22s  sec/tick 341.6   sec/kimg 84.72   maintenance 0.0    gpumem 7.2   augment 0.675\n",
            "tick 104   kimg 419.4    time 11h 18m 04s  sec/tick 341.7   sec/kimg 84.75   maintenance 0.0    gpumem 7.2   augment 0.678\n",
            "tick 105   kimg 423.4    time 11h 23m 45s  sec/tick 341.7   sec/kimg 84.74   maintenance 0.0    gpumem 7.2   augment 0.681\n",
            "Evaluating metrics...\n",
            "network-snapshot-000423        time 11m 52s      fid50k_full 17.1960\n",
            "tick 106   kimg 427.5    time 11h 41m 36s  sec/tick 341.7   sec/kimg 84.74   maintenance 728.9  gpumem 7.2   augment 0.684\n",
            "tick 107   kimg 431.5    time 11h 47m 19s  sec/tick 342.5   sec/kimg 84.94   maintenance 0.0    gpumem 7.2   augment 0.682\n",
            "tick 108   kimg 435.5    time 11h 53m 01s  sec/tick 342.3   sec/kimg 84.90   maintenance 0.0    gpumem 7.2   augment 0.691\n",
            "tick 109   kimg 439.6    time 11h 58m 43s  sec/tick 342.0   sec/kimg 84.83   maintenance 0.0    gpumem 7.2   augment 0.694\n",
            "tick 110   kimg 443.6    time 12h 04m 25s  sec/tick 342.1   sec/kimg 84.84   maintenance 0.0    gpumem 7.2   augment 0.700\n",
            "tick 111   kimg 447.6    time 12h 10m 07s  sec/tick 342.1   sec/kimg 84.84   maintenance 0.0    gpumem 7.2   augment 0.700\n",
            "tick 112   kimg 451.6    time 12h 15m 49s  sec/tick 342.3   sec/kimg 84.90   maintenance 0.0    gpumem 7.2   augment 0.694\n",
            "tick 113   kimg 455.7    time 12h 21m 31s  sec/tick 341.1   sec/kimg 84.60   maintenance 0.0    gpumem 7.2   augment 0.689\n",
            "tick 114   kimg 459.7    time 12h 27m 12s  sec/tick 341.5   sec/kimg 84.71   maintenance 0.0    gpumem 7.2   augment 0.692\n",
            "tick 115   kimg 463.7    time 12h 32m 55s  sec/tick 342.4   sec/kimg 84.91   maintenance 0.0    gpumem 7.2   augment 0.699\n",
            "tick 116   kimg 467.8    time 12h 38m 36s  sec/tick 341.5   sec/kimg 84.69   maintenance 0.0    gpumem 7.2   augment 0.696\n",
            "tick 117   kimg 471.8    time 12h 44m 17s  sec/tick 341.5   sec/kimg 84.70   maintenance 0.0    gpumem 7.2   augment 0.694\n",
            "tick 118   kimg 475.8    time 12h 49m 59s  sec/tick 342.0   sec/kimg 84.82   maintenance 0.0    gpumem 7.2   augment 0.693\n",
            "tick 119   kimg 479.9    time 12h 55m 41s  sec/tick 341.8   sec/kimg 84.78   maintenance 0.0    gpumem 7.2   augment 0.691\n",
            "tick 120   kimg 483.9    time 13h 01m 24s  sec/tick 342.3   sec/kimg 84.90   maintenance 0.0    gpumem 7.2   augment 0.694\n",
            "Evaluating metrics...\n",
            "network-snapshot-000483        time 11m 54s      fid50k_full 16.2703\n",
            "tick 121   kimg 487.9    time 13h 19m 16s  sec/tick 341.7   sec/kimg 84.76   maintenance 730.2  gpumem 7.2   augment 0.691\n",
            "tick 122   kimg 492.0    time 13h 24m 58s  sec/tick 342.0   sec/kimg 84.81   maintenance 0.0    gpumem 7.2   augment 0.691\n",
            "tick 123   kimg 496.0    time 13h 30m 40s  sec/tick 342.3   sec/kimg 84.89   maintenance 0.0    gpumem 7.2   augment 0.695\n",
            "tick 124   kimg 500.0    time 13h 36m 22s  sec/tick 341.7   sec/kimg 84.75   maintenance 0.0    gpumem 7.2   augment 0.698\n",
            "tick 125   kimg 504.1    time 13h 42m 03s  sec/tick 341.0   sec/kimg 84.57   maintenance 0.0    gpumem 7.2   augment 0.689\n",
            "tick 126   kimg 508.1    time 13h 47m 44s  sec/tick 341.9   sec/kimg 84.79   maintenance 0.0    gpumem 7.2   augment 0.683\n",
            "tick 127   kimg 512.1    time 13h 53m 26s  sec/tick 342.0   sec/kimg 84.81   maintenance 0.0    gpumem 7.2   augment 0.684\n",
            "tick 128   kimg 516.2    time 13h 59m 08s  sec/tick 341.9   sec/kimg 84.80   maintenance 0.0    gpumem 7.2   augment 0.682\n",
            "tick 129   kimg 520.2    time 14h 04m 50s  sec/tick 341.8   sec/kimg 84.78   maintenance 0.0    gpumem 7.2   augment 0.676\n",
            "tick 130   kimg 524.2    time 14h 10m 32s  sec/tick 341.8   sec/kimg 84.77   maintenance 0.0    gpumem 7.2   augment 0.673\n",
            "tick 131   kimg 528.3    time 14h 16m 13s  sec/tick 341.0   sec/kimg 84.57   maintenance 0.0    gpumem 7.2   augment 0.677\n",
            "tick 132   kimg 532.3    time 14h 21m 54s  sec/tick 341.3   sec/kimg 84.65   maintenance 0.0    gpumem 7.2   augment 0.678\n",
            "tick 133   kimg 536.3    time 14h 27m 35s  sec/tick 340.7   sec/kimg 84.49   maintenance 0.0    gpumem 7.2   augment 0.677\n",
            "tick 134   kimg 540.4    time 14h 33m 17s  sec/tick 341.6   sec/kimg 84.72   maintenance 0.0    gpumem 7.2   augment 0.671\n",
            "tick 135   kimg 544.4    time 14h 38m 59s  sec/tick 341.9   sec/kimg 84.79   maintenance 0.0    gpumem 7.2   augment 0.672\n",
            "Evaluating metrics...\n",
            "network-snapshot-000544        time 11m 52s      fid50k_full 16.2545\n",
            "tick 136   kimg 548.4    time 14h 56m 49s  sec/tick 342.4   sec/kimg 84.91   maintenance 728.1  gpumem 7.2   augment 0.676\n"
          ]
        }
      ],
      "source": [
        "import os\n",
        "\n",
        "# Modify these to suit your needs\n",
        "EXPERIMENTS = \"/content/drive/MyDrive/data/gan/experiments\"\n",
        "NETWORK = \"network-snapshot-000483.pkl\"\n",
        "RESUME = os.path.join(EXPERIMENTS, \"00016-dataset-auto1-resumecustom\", NETWORK)\n",
        "DATA = \"/content/drive/MyDrive/data/gan/dataset\"\n",
        "SNAP = 15\n",
        "LOSS = 'wgangp'\n",
        "\n",
        "# Build the command and run it\n",
        "cmd = f\"/usr/bin/python3 /content/stylegan2-ada/train.py --snap {SNAP} --outdir {EXPERIMENTS} --data {DATA} --resume {RESUME}\"\n",
        "!{cmd}"
      ]
    },
    {
      "cell_type": "markdown",
      "metadata": {
        "id": "ll4H7ou-YbYC"
      },
      "source": [
        "# Projecting"
      ]
    },
    {
      "cell_type": "code",
      "execution_count": 5,
      "metadata": {
        "colab": {
          "base_uri": "https://localhost:8080/",
          "height": 35
        },
        "id": "XyzuO_R8dVtl",
        "outputId": "cc2ee127-245a-4128-887e-938737b59f12"
      },
      "outputs": [
        {
          "output_type": "execute_result",
          "data": {
            "text/plain": [
              "'/content/drive/MyDrive/data/gan/experiments/00015-dataset-auto1-resumecustom/network-snapshot-000362.pkl'"
            ],
            "application/vnd.google.colaboratory.intrinsic+json": {
              "type": "string"
            }
          },
          "metadata": {},
          "execution_count": 5
        }
      ],
      "source": [
        "import os\n",
        "\n",
        "# Modify these to suit your needs\n",
        "EXPERIMENTS = \"/content/drive/MyDrive/data/gan/experiments\"\n",
        "NETWORK = \"network-snapshot-000362.pkl\"\n",
        "RESUME = os.path.join(EXPERIMENTS, \"00015-dataset-auto1-resumecustom\", NETWORK)\n",
        "RESUME"
      ]
    },
    {
      "cell_type": "code",
      "execution_count": 16,
      "metadata": {
        "colab": {
          "base_uri": "https://localhost:8080/"
        },
        "id": "-ZPo7LIUYZ_Q",
        "outputId": "80ff5fb8-be8d-4c75-e857-42f16a0e489e"
      },
      "outputs": [
        {
          "output_type": "stream",
          "name": "stdout",
          "text": [
            "Loading networks from \"/content/drive/MyDrive/data/gan/experiments/00015-dataset-auto1-resumecustom/network-snapshot-000362.pkl\"...\n",
            "Setting up TensorFlow plugin \"fused_bias_act.cu\": Loading... Done.\n",
            "Setting up TensorFlow plugin \"upfirdn_2d.cu\": Loading... Done.\n",
            "Projector: Computing W midpoint and stddev using 10000 samples...\n",
            "Projector: std = 18.6189\n",
            "Projector: Setting up noise inputs...\n",
            "Projector: Building image output graph...\n",
            "Projector: Building loss graph...\n",
            "Projector: Building noise regularization graph...\n",
            "Projector: Setting up optimizer...\n",
            "Projector: Preparing target images...\n",
            "Projector: Initializing optimization state...\n",
            "100% 1000/1000 [01:38<00:00, 10.13it/s, dist=0.2768, loss=0.28]\n"
          ]
        }
      ],
      "source": [
        "!python /content/stylegan2-ada/projector.py --outdir=drive/MyDrive/data/gan/projections --save-video false --target=/content/drive/MyDrive/data/gan/mosque.png --network=/content/drive/MyDrive/data/gan/experiments/00015-dataset-auto1-resumecustom/network-snapshot-000362.pkl"
      ]
    },
    {
      "cell_type": "code",
      "execution_count": 15,
      "metadata": {
        "colab": {
          "base_uri": "https://localhost:8080/"
        },
        "id": "BIKJFW3sYaQs",
        "outputId": "bb230946-daa4-4f1f-f950-7b85011002b6"
      },
      "outputs": [
        {
          "output_type": "stream",
          "name": "stdout",
          "text": [
            "Loading networks from \"/content/drive/MyDrive/data/gan/experiments/00015-dataset-auto1-resumecustom/network-snapshot-000362.pkl\"...\n",
            "Setting up TensorFlow plugin \"fused_bias_act.cu\": Loading... Done.\n",
            "Setting up TensorFlow plugin \"upfirdn_2d.cu\": Loading... Done.\n",
            "Projector: Computing W midpoint and stddev using 10000 samples...\n",
            "Projector: std = 18.6189\n",
            "Projector: Setting up noise inputs...\n",
            "Projector: Building image output graph...\n",
            "Projector: Building loss graph...\n",
            "Projector: Building noise regularization graph...\n",
            "Projector: Setting up optimizer...\n",
            "Projector: Preparing target images...\n",
            "Projector: Initializing optimization state...\n",
            "100% 1000/1000 [01:39<00:00, 10.03it/s, dist=0.4116, loss=0.41]\n"
          ]
        }
      ],
      "source": [
        "!python /content/stylegan2-ada/projector.py --outdir=drive/MyDrive/data/gan/projections --save-video false --target=/content/drive/MyDrive/data/gan/ams.png --network=/content/drive/MyDrive/data/gan/experiments/00015-dataset-auto1-resumecustom/network-snapshot-000362.pkl"
      ]
    },
    {
      "cell_type": "code",
      "execution_count": 97,
      "metadata": {
        "colab": {
          "base_uri": "https://localhost:8080/"
        },
        "id": "-HF2Ses6Jnrc",
        "outputId": "fcad99c3-cd4a-442c-c5f5-f4d300d0eec5"
      },
      "outputs": [
        {
          "output_type": "stream",
          "name": "stdout",
          "text": [
            "Loading networks from \"/content/drive/MyDrive/data/gan/experiments/00015-dataset-auto1-resumecustom/network-snapshot-000362.pkl\"...\n",
            "Setting up TensorFlow plugin \"fused_bias_act.cu\": Loading... Done.\n",
            "Setting up TensorFlow plugin \"upfirdn_2d.cu\": Loading... Done.\n",
            "Projector: Computing W midpoint and stddev using 10000 samples...\n",
            "Projector: std = 18.6189\n",
            "Projector: Setting up noise inputs...\n",
            "Projector: Building image output graph...\n",
            "Projector: Building loss graph...\n",
            "Projector: Building noise regularization graph...\n",
            "Projector: Setting up optimizer...\n",
            "Projector: Preparing target images...\n",
            "Projector: Initializing optimization state...\n",
            "100% 1000/1000 [01:39<00:00, 10.02it/s, dist=0.2544, loss=0.25]\n"
          ]
        }
      ],
      "source": [
        "!python /content/stylegan2-ada/projector.py --outdir=drive/MyDrive/data/gan/projections --save-video false --target=/content/drive/MyDrive/data/gan/wmkk.png --network=/content/drive/MyDrive/data/gan/experiments/00015-dataset-auto1-resumecustom/network-snapshot-000362.pkl"
      ]
    },
    {
      "cell_type": "code",
      "source": [
        "!python /content/stylegan2-ada/projector.py --outdir=drive/MyDrive/data/gan/projections --save-video false --target=/content/drive/MyDrive/data/gan/eastvan.png --network=/content/drive/MyDrive/data/gan/experiments/00015-dataset-auto1-resumecustom/network-snapshot-000362.pkl"
      ],
      "metadata": {
        "colab": {
          "base_uri": "https://localhost:8080/"
        },
        "id": "3kKrRENx9V8i",
        "outputId": "9120500e-3447-44b3-f9cf-4e0e5f60e141"
      },
      "execution_count": 17,
      "outputs": [
        {
          "output_type": "stream",
          "name": "stdout",
          "text": [
            "Loading networks from \"/content/drive/MyDrive/data/gan/experiments/00015-dataset-auto1-resumecustom/network-snapshot-000362.pkl\"...\n",
            "Setting up TensorFlow plugin \"fused_bias_act.cu\": Loading... Done.\n",
            "Setting up TensorFlow plugin \"upfirdn_2d.cu\": Loading... Done.\n",
            "Projector: Computing W midpoint and stddev using 10000 samples...\n",
            "Projector: std = 18.6189\n",
            "Projector: Setting up noise inputs...\n",
            "Projector: Building image output graph...\n",
            "Projector: Building loss graph...\n",
            "Projector: Building noise regularization graph...\n",
            "Projector: Setting up optimizer...\n",
            "Projector: Preparing target images...\n",
            "Projector: Initializing optimization state...\n",
            "100% 1000/1000 [01:38<00:00, 10.19it/s, dist=0.3421, loss=0.34]\n"
          ]
        }
      ]
    },
    {
      "cell_type": "code",
      "execution_count": null,
      "metadata": {
        "colab": {
          "base_uri": "https://localhost:8080/"
        },
        "id": "fOXCOl08jZKt",
        "outputId": "f6099137-4b2f-4fba-f882-c317703f92ee"
      },
      "outputs": [
        {
          "name": "stdout",
          "output_type": "stream",
          "text": [
            "Loading networks from \"/content/drive/MyDrive/data/gan/experiments/00011-dataset-auto1-resumecustom/network-snapshot-000362.pkl\"...\n",
            "Setting up TensorFlow plugin \"fused_bias_act.cu\": Loading... Done.\n",
            "Setting up TensorFlow plugin \"upfirdn_2d.cu\": Loading... Done.\n",
            "Generating W vectors...\n",
            "Generating images...\n",
            "Generating style-mixed images...\n",
            "Saving images...\n",
            "Saving image grid...\n"
          ]
        }
      ],
      "source": [
        "!python /content/stylegan2-ada/style_mixing.py --rows=25,1600,75,358,1900 --cols=45,721,1189,293 --outdir=out_mix --network=/content/drive/MyDrive/data/gan/experiments/00011-dataset-auto1-resumecustom/network-snapshot-000362.pkl"
      ]
    },
    {
      "cell_type": "code",
      "source": [
        "!python /content/stylegan2-ada/style_mixing.py --rows=25,1600,75,358,1900 --cols=45,721,1189,293 --outdir=out_mix --network=/content/drive/MyDrive/data/gan/experiments/00015-dataset-auto1-resumecustom/network-snapshot-000362.pkl"
      ],
      "metadata": {
        "id": "oRGph90h9IHH"
      },
      "execution_count": null,
      "outputs": []
    },
    {
      "cell_type": "code",
      "execution_count": null,
      "metadata": {
        "id": "HISV__l_lBZQ"
      },
      "outputs": [],
      "source": [
        "!python /content/stylegan2-ada/style_mixing.py --rows=85,100,75,458,1500 --cols=55,821,1789,293 --outdir=out_mix --network=/content/drive/MyDrive/data/gan/experiments/00015-dataset-auto1-resumecustom/network-snapshot-000362.pkl"
      ]
    },
    {
      "cell_type": "code",
      "execution_count": null,
      "metadata": {
        "colab": {
          "base_uri": "https://localhost:8080/"
        },
        "id": "Os_Rws6FnECB",
        "outputId": "d28f605e-f50c-4175-f495-05647ce29cfa"
      },
      "outputs": [
        {
          "name": "stdout",
          "output_type": "stream",
          "text": [
            "Loading networks from \"/content/drive/MyDrive/data/gan/experiments/00011-dataset-auto1-resumecustom/network-snapshot-000362.pkl\"...\n",
            "Generating images from dlatents file \"/content/drive/MyDrive/data/gan/dlatentsams.npz\"\n",
            "Setting up TensorFlow plugin \"fused_bias_act.cu\": Loading... Done.\n",
            "Setting up TensorFlow plugin \"upfirdn_2d.cu\": Loading... Done.\n",
            "Saved out2/dlatent00.png\n"
          ]
        }
      ],
      "source": [
        "!python /content/stylegan2-ada/generate.py --outdir=out2 --dlatents=\"/content/drive/MyDrive/data/gan/dlatentsams.npz\" --network=/content/drive/MyDrive/data/gan/experiments/00015-dataset-auto1-resumecustom/network-snapshot-000362.pkl"
      ]
    },
    {
      "cell_type": "markdown",
      "metadata": {
        "id": "qP2T_nCarFUi"
      },
      "source": [
        "#Project between latent vectors"
      ]
    },
    {
      "cell_type": "markdown",
      "source": [
        "1. Transform latent vectors to right shape\n",
        "\n",
        "vec1 = usable_latent_thing(\"/content/drive/MyDrive/data/gan/projections/dlatentsvec1.npz\")\n",
        "\n",
        "vec2 = usable_latent_thing(\"/content/drive/MyDrive/data/gan/projections/dlatentsvec2.npz\")\n",
        "\n",
        "\n",
        "2. Find the interpolations between the latent vectors (default step size 10)\n",
        "\n",
        "interpolated_vec = interpolate_points(vec1, vec2)\n",
        "\n",
        "3. Save interpolated vectors\n",
        "\n",
        "np.save(\"/content/drive/MyDrive/data/gan/projections/vec1_vec2_ratio\", interpolated_vec)\n",
        "\n",
        "4. Generate images from interpolated vectors\n",
        "\n",
        "!python /content/stylegan2-ada/generate.py --outdir=drive/MyDrive/data/gan/mix --dlatents=\"/content/drive/MyDrive/data/gan/projections/vec1_vec2_ratio.npy\" --network=/content/drive/MyDrive/data/gan/experiments/00015-dataset-auto1-resumecustom/network-snapshot-000362.pkl"
      ],
      "metadata": {
        "id": "3VPpfSeAjXUT"
      }
    },
    {
      "cell_type": "code",
      "execution_count": 18,
      "metadata": {
        "id": "Kf-boIS2oDru"
      },
      "outputs": [],
      "source": [
        "# Include in generator.py\n",
        "\n",
        "import numpy as np\n",
        "def usable_latent_thing(dir):\n",
        "  dl=np.load(dir)['dlatents']\n",
        "  a=dl[0][0]\n",
        "  b=np.array([[a,a,a,a,a,a,a,a,a,a,a,a,a,a,a,a,a,a]])\n",
        "  return b\n",
        "def usable_latent_thing_simple(dir):\n",
        "  dl=np.load(dir)\n",
        "  return dl\n",
        "\n",
        "#try:\n",
        "#      dlatents = usable_latent_thing(dlatents_npz)\n",
        "#except:\n",
        "#      dlatents = usable_latent_thing_simple(dlatents_npz)\n",
        "#assert dlatents.shape[1:] == (18, 512) # [N, 18, 512]"
      ]
    },
    {
      "cell_type": "code",
      "execution_count": 94,
      "metadata": {
        "colab": {
          "base_uri": "https://localhost:8080/"
        },
        "id": "kovKIT38oG8v",
        "outputId": "c1ef9472-4dd1-410e-d825-7ac122a5829b"
      },
      "outputs": [
        {
          "output_type": "execute_result",
          "data": {
            "text/plain": [
              "(18, 512)"
            ]
          },
          "metadata": {},
          "execution_count": 94
        }
      ],
      "source": [
        "np.load(\"/content/drive/MyDrive/data/gan/projections/ams_mos_ratio.npy\")[0].shape"
      ]
    },
    {
      "cell_type": "code",
      "execution_count": 27,
      "metadata": {
        "id": "17UNySLzUE1b"
      },
      "outputs": [],
      "source": [
        "ams=usable_latent_thing(\"/content/drive/MyDrive/data/gan/projections/dlatentsams.npz\")\n",
        "mos=usable_latent_thing(\"/content/drive/MyDrive/data/gan/projections/dlatentsmos.npz\")"
      ]
    },
    {
      "cell_type": "code",
      "source": [
        "np.save(\"/content/drive/MyDrive/data/gan/projections/ams\", ams)"
      ],
      "metadata": {
        "id": "wY76EjLENc81"
      },
      "execution_count": 41,
      "outputs": []
    },
    {
      "cell_type": "code",
      "execution_count": 44,
      "metadata": {
        "id": "kVRt3fELmcj8"
      },
      "outputs": [],
      "source": [
        "mix=(ams+mos)/2\n",
        "np.save(\"/content/drive/MyDrive/data/gan/projections/mix\", mix)"
      ]
    },
    {
      "cell_type": "code",
      "execution_count": 46,
      "metadata": {
        "colab": {
          "base_uri": "https://localhost:8080/"
        },
        "id": "QRF06H70qc4P",
        "outputId": "e11fc54f-7655-4349-935e-614f97cf9b4d"
      },
      "outputs": [
        {
          "output_type": "execute_result",
          "data": {
            "text/plain": [
              "array([[[-2.1739964 ,  0.02426555, -0.8351016 , ..., -0.823681  ,\n",
              "         -3.5707688 ,  0.2852919 ],\n",
              "        [-2.1739964 ,  0.02426555, -0.8351016 , ..., -0.823681  ,\n",
              "         -3.5707688 ,  0.2852919 ],\n",
              "        [-2.1739964 ,  0.02426555, -0.8351016 , ..., -0.823681  ,\n",
              "         -3.5707688 ,  0.2852919 ],\n",
              "        ...,\n",
              "        [-2.1739964 ,  0.02426555, -0.8351016 , ..., -0.823681  ,\n",
              "         -3.5707688 ,  0.2852919 ],\n",
              "        [-2.1739964 ,  0.02426555, -0.8351016 , ..., -0.823681  ,\n",
              "         -3.5707688 ,  0.2852919 ],\n",
              "        [-2.1739964 ,  0.02426555, -0.8351016 , ..., -0.823681  ,\n",
              "         -3.5707688 ,  0.2852919 ]]], dtype=float32)"
            ]
          },
          "metadata": {},
          "execution_count": 46
        }
      ],
      "source": [
        "ams"
      ]
    },
    {
      "cell_type": "code",
      "execution_count": 34,
      "metadata": {
        "id": "oaMZSmxWf05v",
        "colab": {
          "base_uri": "https://localhost:8080/"
        },
        "outputId": "e7880134-bd59-434e-c71b-ee31a360fdec"
      },
      "outputs": [
        {
          "output_type": "stream",
          "name": "stdout",
          "text": [
            "Loading networks from \"/content/drive/MyDrive/data/gan/experiments/00015-dataset-auto1-resumecustom/network-snapshot-000362.pkl\"...\n",
            "Generating images from dlatents file \"/content/drive/MyDrive/data/gan/projections/dlatentsams.npz\"\n",
            "Setting up TensorFlow plugin \"fused_bias_act.cu\": Loading... Done.\n",
            "Setting up TensorFlow plugin \"upfirdn_2d.cu\": Loading... Done.\n",
            "Saved drive/MyDrive/data/gan/dlatent00.png\n"
          ]
        }
      ],
      "source": [
        "!python /content/stylegan2-ada/generate.py --outdir=drive/MyDrive/data/gan/mix --dlatents=\"/content/drive/MyDrive/data/gan/projections/dlatentsams.npz\" --network=/content/drive/MyDrive/data/gan/experiments/00015-dataset-auto1-resumecustom/network-snapshot-000362.pkl"
      ]
    },
    {
      "cell_type": "code",
      "source": [
        "!python /content/stylegan2-ada/generate.py --outdir=drive/MyDrive/data/gan/mix --dlatents=\"/content/drive/MyDrive/data/gan/projections/mix.npy\" --network=/content/drive/MyDrive/data/gan/experiments/00015-dataset-auto1-resumecustom/network-snapshot-000362.pkl"
      ],
      "metadata": {
        "colab": {
          "base_uri": "https://localhost:8080/"
        },
        "id": "w1zGYK0FCxyv",
        "outputId": "9c81a95e-0e40-4e11-c9e8-c7a818a3ce24"
      },
      "execution_count": 49,
      "outputs": [
        {
          "output_type": "stream",
          "name": "stdout",
          "text": [
            "Loading networks from \"/content/drive/MyDrive/data/gan/experiments/00015-dataset-auto1-resumecustom/network-snapshot-000362.pkl\"...\n",
            "Generating images from dlatents file \"/content/drive/MyDrive/data/gan/projections/mix.npy\"\n",
            "Setting up TensorFlow plugin \"fused_bias_act.cu\": Loading... Done.\n",
            "Setting up TensorFlow plugin \"upfirdn_2d.cu\": Loading... Done.\n",
            "Saved drive/MyDrive/data/gan/mix/dlatent00.png\n"
          ]
        }
      ]
    },
    {
      "cell_type": "code",
      "source": [
        "ams[0].shape"
      ],
      "metadata": {
        "colab": {
          "base_uri": "https://localhost:8080/"
        },
        "id": "rYeB6MTHGGPG",
        "outputId": "c6b6fdd9-2043-43d9-b5d9-57bf37b5496f"
      },
      "execution_count": 86,
      "outputs": [
        {
          "output_type": "execute_result",
          "data": {
            "text/plain": [
              "(18, 512)"
            ]
          },
          "metadata": {},
          "execution_count": 86
        }
      ]
    },
    {
      "cell_type": "code",
      "source": [
        "# uniform interpolation between two points in latent space\n",
        "def interpolate_points(p1, p2, n_steps=10):\n",
        "\t# interpolate ratios between the points\n",
        "\tratios = np.linspace(0, 1, num=n_steps)\n",
        "\t# linear interpolate vectors\n",
        "\tvectors = list()\n",
        "\tfor ratio in ratios:\n",
        "\t\tv = (1.0 - ratio) * p1[0] + ratio * p2[0]\n",
        "\t\tvectors.append(v)\n",
        "\treturn np.asarray(vectors)"
      ],
      "metadata": {
        "id": "kTPLRxq6IVE6"
      },
      "execution_count": 87,
      "outputs": []
    },
    {
      "cell_type": "code",
      "source": [
        ""
      ],
      "metadata": {
        "id": "YrSONyx_ZTfn"
      },
      "execution_count": 87,
      "outputs": []
    },
    {
      "cell_type": "code",
      "source": [
        "interpolated_vec = interpolate_points(ams,mos)\n",
        "interpolated_vec.shape"
      ],
      "metadata": {
        "colab": {
          "base_uri": "https://localhost:8080/"
        },
        "id": "4iFrpddSRArQ",
        "outputId": "f0b1f5d4-d736-40a2-bb2c-4d77f6f4075b"
      },
      "execution_count": 88,
      "outputs": [
        {
          "output_type": "execute_result",
          "data": {
            "text/plain": [
              "(10, 18, 512)"
            ]
          },
          "metadata": {},
          "execution_count": 88
        }
      ]
    },
    {
      "cell_type": "code",
      "source": [
        "np.save(\"/content/drive/MyDrive/data/gan/projections/ams_mos_ratio\", interpolated_vec)"
      ],
      "metadata": {
        "id": "vPYhAXuiREMz"
      },
      "execution_count": 89,
      "outputs": []
    },
    {
      "cell_type": "code",
      "source": [
        "!python /content/stylegan2-ada/generate.py --outdir=drive/MyDrive/data/gan/mix --dlatents=\"/content/drive/MyDrive/data/gan/projections/ams_mos_ratio.npy\" --network=/content/drive/MyDrive/data/gan/experiments/00015-dataset-auto1-resumecustom/network-snapshot-000362.pkl"
      ],
      "metadata": {
        "colab": {
          "base_uri": "https://localhost:8080/"
        },
        "id": "S_CrE-TbTQKl",
        "outputId": "1623e851-beff-498e-e2f4-0fbb121102eb"
      },
      "execution_count": 95,
      "outputs": [
        {
          "output_type": "stream",
          "name": "stdout",
          "text": [
            "Loading networks from \"/content/drive/MyDrive/data/gan/experiments/00015-dataset-auto1-resumecustom/network-snapshot-000362.pkl\"...\n",
            "Generating images from dlatents file \"/content/drive/MyDrive/data/gan/projections/ams_mos_ratio.npy\"\n",
            "Setting up TensorFlow plugin \"fused_bias_act.cu\": Loading... Done.\n",
            "Setting up TensorFlow plugin \"upfirdn_2d.cu\": Loading... Done.\n",
            "Saved drive/MyDrive/data/gan/mix/dlatent00.png\n",
            "Saved drive/MyDrive/data/gan/mix/dlatent01.png\n",
            "Saved drive/MyDrive/data/gan/mix/dlatent02.png\n",
            "Saved drive/MyDrive/data/gan/mix/dlatent03.png\n",
            "Saved drive/MyDrive/data/gan/mix/dlatent04.png\n",
            "Saved drive/MyDrive/data/gan/mix/dlatent05.png\n",
            "Saved drive/MyDrive/data/gan/mix/dlatent06.png\n",
            "Saved drive/MyDrive/data/gan/mix/dlatent07.png\n",
            "Saved drive/MyDrive/data/gan/mix/dlatent08.png\n",
            "Saved drive/MyDrive/data/gan/mix/dlatent09.png\n"
          ]
        }
      ]
    },
    {
      "cell_type": "code",
      "source": [
        ""
      ],
      "metadata": {
        "id": "SOXtd7uWXz6w"
      },
      "execution_count": null,
      "outputs": []
    },
    {
      "cell_type": "markdown",
      "source": [
        "generate.py mit\n",
        "\n",
        "\n",
        "def usable_latent_thing(dir):\n",
        "  dl=np.load(dir)['dlatents']\n",
        "  a=dl[0][0]\n",
        "  b=np.array([[a,a,a,a,a,a,a,a,a,a,a,a,a,a,a,a,a,a]])\n",
        "  return b\n",
        "\n",
        "def usable_latent_thing_simple(dir):\n",
        "  dl=np.load(dir)\n",
        "  a=dl[0][0]\n",
        "  b=np.array([[a,a,a,a,a,a,a,a,a,a,a,a,a,a,a,a,a,a]])\n",
        "  return dl\n",
        "\n",
        "def generate_images(network_pkl, seeds, truncation_psi, outdir, class_idx, dlatents_npz):\n",
        "    tflib.init_tf()\n",
        "    print('Loading networks from \"%s\"...' % network_pkl)\n",
        "    with dnnlib.util.open_url(network_pkl) as fp:\n",
        "        _G, _D, Gs = pickle.load(fp)\n",
        "\n",
        "    os.makedirs(outdir, exist_ok=True)\n",
        "\n",
        "    # Render images for a given dlatent vector.\n",
        "    if dlatents_npz is not None:\n",
        "        print(f'Generating images from dlatents file \"{dlatents_npz}\"')\n",
        "        try:\n",
        "          dlatents = usable_latent_thing(dlatents_npz)\n",
        "        except:\n",
        "          dlatents = usable_latent_thing_simple(dlatents_npz)\n",
        "        #assert dlatents.shape[1:] == (18, 512) # [N, 18, 512]\n",
        "        imgs = Gs.components.synthesis.run(dlatents, output_transform=dict(func=tflib.convert_images_to_uint8, nchw_to_nhwc=True))\n",
        "        for i, img in enumerate(imgs):\n",
        "            fname = f'{outdir}/dlatent{i:02d}.png'\n",
        "            print (f'Saved {fname}')\n",
        "            PIL.Image.fromarray(img, 'RGB').save(fname)\n",
        "        return"
      ],
      "metadata": {
        "id": "jb5j_49Qb8u-"
      }
    },
    {
      "cell_type": "code",
      "source": [
        ""
      ],
      "metadata": {
        "id": "Mw-M5Rj_b-An"
      },
      "execution_count": null,
      "outputs": []
    }
  ],
  "metadata": {
    "accelerator": "GPU",
    "colab": {
      "collapsed_sections": [],
      "name": "Style2tensorflow.ipynb",
      "provenance": []
    },
    "kernelspec": {
      "display_name": "Python 3 (ipykernel)",
      "language": "python",
      "name": "python3"
    },
    "language_info": {
      "codemirror_mode": {
        "name": "ipython",
        "version": 3
      },
      "file_extension": ".py",
      "mimetype": "text/x-python",
      "name": "python",
      "nbconvert_exporter": "python",
      "pygments_lexer": "ipython3",
      "version": "3.9.5"
    },
    "widgets": {
      "application/vnd.jupyter.widget-state+json": {
        "070530f9e52e4f049538727bf60e5c27": {
          "model_module": "@jupyter-widgets/controls",
          "model_module_version": "1.5.0",
          "model_name": "ProgressStyleModel",
          "state": {
            "_model_module": "@jupyter-widgets/controls",
            "_model_module_version": "1.5.0",
            "_model_name": "ProgressStyleModel",
            "_view_count": null,
            "_view_module": "@jupyter-widgets/base",
            "_view_module_version": "1.2.0",
            "_view_name": "StyleView",
            "bar_color": null,
            "description_width": ""
          }
        },
        "0c57e2727d474c8cadac7a2be245f29c": {
          "model_module": "@jupyter-widgets/controls",
          "model_module_version": "1.5.0",
          "model_name": "HTMLModel",
          "state": {
            "_dom_classes": [],
            "_model_module": "@jupyter-widgets/controls",
            "_model_module_version": "1.5.0",
            "_model_name": "HTMLModel",
            "_view_count": null,
            "_view_module": "@jupyter-widgets/controls",
            "_view_module_version": "1.5.0",
            "_view_name": "HTMLView",
            "description": "",
            "description_tooltip": null,
            "layout": "IPY_MODEL_a241891a2ce54ce0838c512dfa7fb457",
            "placeholder": "​",
            "style": "IPY_MODEL_3fb638fc54d44622846c64293957ebb1",
            "value": "100%"
          }
        },
        "1c67b911965f452eb82868052c28e08a": {
          "model_module": "@jupyter-widgets/controls",
          "model_module_version": "1.5.0",
          "model_name": "FloatProgressModel",
          "state": {
            "_dom_classes": [],
            "_model_module": "@jupyter-widgets/controls",
            "_model_module_version": "1.5.0",
            "_model_name": "FloatProgressModel",
            "_view_count": null,
            "_view_module": "@jupyter-widgets/controls",
            "_view_module_version": "1.5.0",
            "_view_name": "ProgressView",
            "bar_style": "success",
            "description": "",
            "description_tooltip": null,
            "layout": "IPY_MODEL_46d98cb19e264cfd88d724f746e0086e",
            "max": 2281,
            "min": 0,
            "orientation": "horizontal",
            "style": "IPY_MODEL_070530f9e52e4f049538727bf60e5c27",
            "value": 2281
          }
        },
        "377316900fc44e21bb3868f9f2f90d90": {
          "model_module": "@jupyter-widgets/base",
          "model_module_version": "1.2.0",
          "model_name": "LayoutModel",
          "state": {
            "_model_module": "@jupyter-widgets/base",
            "_model_module_version": "1.2.0",
            "_model_name": "LayoutModel",
            "_view_count": null,
            "_view_module": "@jupyter-widgets/base",
            "_view_module_version": "1.2.0",
            "_view_name": "LayoutView",
            "align_content": null,
            "align_items": null,
            "align_self": null,
            "border": null,
            "bottom": null,
            "display": null,
            "flex": null,
            "flex_flow": null,
            "grid_area": null,
            "grid_auto_columns": null,
            "grid_auto_flow": null,
            "grid_auto_rows": null,
            "grid_column": null,
            "grid_gap": null,
            "grid_row": null,
            "grid_template_areas": null,
            "grid_template_columns": null,
            "grid_template_rows": null,
            "height": null,
            "justify_content": null,
            "justify_items": null,
            "left": null,
            "margin": null,
            "max_height": null,
            "max_width": null,
            "min_height": null,
            "min_width": null,
            "object_fit": null,
            "object_position": null,
            "order": null,
            "overflow": null,
            "overflow_x": null,
            "overflow_y": null,
            "padding": null,
            "right": null,
            "top": null,
            "visibility": null,
            "width": null
          }
        },
        "3fb638fc54d44622846c64293957ebb1": {
          "model_module": "@jupyter-widgets/controls",
          "model_module_version": "1.5.0",
          "model_name": "DescriptionStyleModel",
          "state": {
            "_model_module": "@jupyter-widgets/controls",
            "_model_module_version": "1.5.0",
            "_model_name": "DescriptionStyleModel",
            "_view_count": null,
            "_view_module": "@jupyter-widgets/base",
            "_view_module_version": "1.2.0",
            "_view_name": "StyleView",
            "description_width": ""
          }
        },
        "46d98cb19e264cfd88d724f746e0086e": {
          "model_module": "@jupyter-widgets/base",
          "model_module_version": "1.2.0",
          "model_name": "LayoutModel",
          "state": {
            "_model_module": "@jupyter-widgets/base",
            "_model_module_version": "1.2.0",
            "_model_name": "LayoutModel",
            "_view_count": null,
            "_view_module": "@jupyter-widgets/base",
            "_view_module_version": "1.2.0",
            "_view_name": "LayoutView",
            "align_content": null,
            "align_items": null,
            "align_self": null,
            "border": null,
            "bottom": null,
            "display": null,
            "flex": null,
            "flex_flow": null,
            "grid_area": null,
            "grid_auto_columns": null,
            "grid_auto_flow": null,
            "grid_auto_rows": null,
            "grid_column": null,
            "grid_gap": null,
            "grid_row": null,
            "grid_template_areas": null,
            "grid_template_columns": null,
            "grid_template_rows": null,
            "height": null,
            "justify_content": null,
            "justify_items": null,
            "left": null,
            "margin": null,
            "max_height": null,
            "max_width": null,
            "min_height": null,
            "min_width": null,
            "object_fit": null,
            "object_position": null,
            "order": null,
            "overflow": null,
            "overflow_x": null,
            "overflow_y": null,
            "padding": null,
            "right": null,
            "top": null,
            "visibility": null,
            "width": null
          }
        },
        "482ffb649f794ee0937e156058b862dd": {
          "model_module": "@jupyter-widgets/controls",
          "model_module_version": "1.5.0",
          "model_name": "HBoxModel",
          "state": {
            "_dom_classes": [],
            "_model_module": "@jupyter-widgets/controls",
            "_model_module_version": "1.5.0",
            "_model_name": "HBoxModel",
            "_view_count": null,
            "_view_module": "@jupyter-widgets/controls",
            "_view_module_version": "1.5.0",
            "_view_name": "HBoxView",
            "box_style": "",
            "children": [
              "IPY_MODEL_0c57e2727d474c8cadac7a2be245f29c",
              "IPY_MODEL_1c67b911965f452eb82868052c28e08a",
              "IPY_MODEL_b6080fab57ee47248f832a9b09e1f23c"
            ],
            "layout": "IPY_MODEL_5f2df56759e14c33a1ae694f338e30a3"
          }
        },
        "5f2df56759e14c33a1ae694f338e30a3": {
          "model_module": "@jupyter-widgets/base",
          "model_module_version": "1.2.0",
          "model_name": "LayoutModel",
          "state": {
            "_model_module": "@jupyter-widgets/base",
            "_model_module_version": "1.2.0",
            "_model_name": "LayoutModel",
            "_view_count": null,
            "_view_module": "@jupyter-widgets/base",
            "_view_module_version": "1.2.0",
            "_view_name": "LayoutView",
            "align_content": null,
            "align_items": null,
            "align_self": null,
            "border": null,
            "bottom": null,
            "display": null,
            "flex": null,
            "flex_flow": null,
            "grid_area": null,
            "grid_auto_columns": null,
            "grid_auto_flow": null,
            "grid_auto_rows": null,
            "grid_column": null,
            "grid_gap": null,
            "grid_row": null,
            "grid_template_areas": null,
            "grid_template_columns": null,
            "grid_template_rows": null,
            "height": null,
            "justify_content": null,
            "justify_items": null,
            "left": null,
            "margin": null,
            "max_height": null,
            "max_width": null,
            "min_height": null,
            "min_width": null,
            "object_fit": null,
            "object_position": null,
            "order": null,
            "overflow": null,
            "overflow_x": null,
            "overflow_y": null,
            "padding": null,
            "right": null,
            "top": null,
            "visibility": null,
            "width": null
          }
        },
        "a241891a2ce54ce0838c512dfa7fb457": {
          "model_module": "@jupyter-widgets/base",
          "model_module_version": "1.2.0",
          "model_name": "LayoutModel",
          "state": {
            "_model_module": "@jupyter-widgets/base",
            "_model_module_version": "1.2.0",
            "_model_name": "LayoutModel",
            "_view_count": null,
            "_view_module": "@jupyter-widgets/base",
            "_view_module_version": "1.2.0",
            "_view_name": "LayoutView",
            "align_content": null,
            "align_items": null,
            "align_self": null,
            "border": null,
            "bottom": null,
            "display": null,
            "flex": null,
            "flex_flow": null,
            "grid_area": null,
            "grid_auto_columns": null,
            "grid_auto_flow": null,
            "grid_auto_rows": null,
            "grid_column": null,
            "grid_gap": null,
            "grid_row": null,
            "grid_template_areas": null,
            "grid_template_columns": null,
            "grid_template_rows": null,
            "height": null,
            "justify_content": null,
            "justify_items": null,
            "left": null,
            "margin": null,
            "max_height": null,
            "max_width": null,
            "min_height": null,
            "min_width": null,
            "object_fit": null,
            "object_position": null,
            "order": null,
            "overflow": null,
            "overflow_x": null,
            "overflow_y": null,
            "padding": null,
            "right": null,
            "top": null,
            "visibility": null,
            "width": null
          }
        },
        "ad58ea2d88fe4697a832b0eff633090d": {
          "model_module": "@jupyter-widgets/controls",
          "model_module_version": "1.5.0",
          "model_name": "DescriptionStyleModel",
          "state": {
            "_model_module": "@jupyter-widgets/controls",
            "_model_module_version": "1.5.0",
            "_model_name": "DescriptionStyleModel",
            "_view_count": null,
            "_view_module": "@jupyter-widgets/base",
            "_view_module_version": "1.2.0",
            "_view_name": "StyleView",
            "description_width": ""
          }
        },
        "b6080fab57ee47248f832a9b09e1f23c": {
          "model_module": "@jupyter-widgets/controls",
          "model_module_version": "1.5.0",
          "model_name": "HTMLModel",
          "state": {
            "_dom_classes": [],
            "_model_module": "@jupyter-widgets/controls",
            "_model_module_version": "1.5.0",
            "_model_name": "HTMLModel",
            "_view_count": null,
            "_view_module": "@jupyter-widgets/controls",
            "_view_module_version": "1.5.0",
            "_view_name": "HTMLView",
            "description": "",
            "description_tooltip": null,
            "layout": "IPY_MODEL_377316900fc44e21bb3868f9f2f90d90",
            "placeholder": "​",
            "style": "IPY_MODEL_ad58ea2d88fe4697a832b0eff633090d",
            "value": " 2281/2281 [00:03&lt;00:00, 1027.91it/s]"
          }
        }
      }
    }
  },
  "nbformat": 4,
  "nbformat_minor": 0
}